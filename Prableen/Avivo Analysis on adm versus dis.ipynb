{
 "cells": [
  {
   "cell_type": "markdown",
   "metadata": {},
   "source": [
    "# Avivo - Analysis on changes from Admission to Discharge"
   ]
  },
  {
   "cell_type": "markdown",
   "metadata": {},
   "source": [
    "Importing data and loading libraries:"
   ]
  },
  {
   "cell_type": "code",
   "execution_count": 1,
   "metadata": {},
   "outputs": [
    {
     "name": "stderr",
     "output_type": "stream",
     "text": [
      "c:\\users\\prabl\\anaconda3\\lib\\site-packages\\matplotlib\\__init__.py:1405: UserWarning: \n",
      "This call to matplotlib.use() has no effect because the backend has already\n",
      "been chosen; matplotlib.use() must be called *before* pylab, matplotlib.pyplot,\n",
      "or matplotlib.backends is imported for the first time.\n",
      "\n",
      "  warnings.warn(_use_error_msg)\n"
     ]
    },
    {
     "data": {
      "text/plain": [
       "<matplotlib.figure.Figure at 0x1bde906d160>"
      ]
     },
     "execution_count": 1,
     "metadata": {},
     "output_type": "execute_result"
    },
    {
     "data": {
      "text/plain": [
       "<matplotlib.figure.Figure at 0x1bde906d160>"
      ]
     },
     "metadata": {},
     "output_type": "display_data"
    }
   ],
   "source": [
    "#importing libraries\n",
    "import pandas as pd\n",
    "import seaborn as sns\n",
    "%matplotlib inline\n",
    "import matplotlib.pyplot as plt\n",
    "import pandas_profiling\n",
    "import numpy as np\n",
    "#import statsmodels.api as sm\n",
    "import scipy\n",
    "import re\n",
    "import plotly\n",
    "import plotly.plotly as py\n",
    "import plotly.graph_objs as go\n",
    "from plotly import tools\n",
    "\n",
    "#setting visualization style and inline plots\n",
    "sns.set()\n",
    "plt.figure(figsize = (8,5))"
   ]
  },
  {
   "cell_type": "code",
   "execution_count": 2,
   "metadata": {},
   "outputs": [
    {
     "name": "stdout",
     "output_type": "stream",
     "text": [
      "Shape of dataframe:  (827, 120)\n"
     ]
    },
    {
     "data": {
      "text/html": [
       "<div>\n",
       "<style>\n",
       "    .dataframe thead tr:only-child th {\n",
       "        text-align: right;\n",
       "    }\n",
       "\n",
       "    .dataframe thead th {\n",
       "        text-align: left;\n",
       "    }\n",
       "\n",
       "    .dataframe tbody tr th {\n",
       "        vertical-align: top;\n",
       "    }\n",
       "</style>\n",
       "<table border=\"1\" class=\"dataframe\">\n",
       "  <thead>\n",
       "    <tr style=\"text-align: right;\">\n",
       "      <th></th>\n",
       "      <th>Form Date</th>\n",
       "      <th>Program_admission</th>\n",
       "      <th>Staff_admission</th>\n",
       "      <th>Client Number</th>\n",
       "      <th>Age_admission</th>\n",
       "      <th>Age of first use (Primary)</th>\n",
       "      <th>Age of first use (Secondary)</th>\n",
       "      <th>Age of first use (Tertiary)</th>\n",
       "      <th>Are any children living with someone else due to CPS court order or other action</th>\n",
       "      <th>CHSR Dimension 1_admission</th>\n",
       "      <th>...</th>\n",
       "      <th>Client_number</th>\n",
       "      <th>Program</th>\n",
       "      <th>Code</th>\n",
       "      <th>start_service_data</th>\n",
       "      <th>end_service_data</th>\n",
       "      <th>data_birth</th>\n",
       "      <th>gender</th>\n",
       "      <th>race</th>\n",
       "      <th>number_hours</th>\n",
       "      <th>year</th>\n",
       "    </tr>\n",
       "  </thead>\n",
       "  <tbody>\n",
       "    <tr>\n",
       "      <th>0</th>\n",
       "      <td>12/5/2014 0:00</td>\n",
       "      <td>Treatment - Family - Outpatient</td>\n",
       "      <td>Stewart, Lorene</td>\n",
       "      <td>111156598</td>\n",
       "      <td>NaN</td>\n",
       "      <td>13.0</td>\n",
       "      <td>19</td>\n",
       "      <td>13</td>\n",
       "      <td>Not applicable - No children/no child protect ...</td>\n",
       "      <td>Minor problem</td>\n",
       "      <td>...</td>\n",
       "      <td>111156598</td>\n",
       "      <td>Treatment - Family - Outpatient</td>\n",
       "      <td>H2035 HH HQ U60945: IOP Family - IDD w/kids - ...</td>\n",
       "      <td>12/3/2014 0:00</td>\n",
       "      <td>12/30/2014 0:00</td>\n",
       "      <td>7/3/1979 0:00</td>\n",
       "      <td>Female</td>\n",
       "      <td>White</td>\n",
       "      <td>47.0</td>\n",
       "      <td>2014</td>\n",
       "    </tr>\n",
       "    <tr>\n",
       "      <th>1</th>\n",
       "      <td>11/10/2014 0:00</td>\n",
       "      <td>Treatment - IDD Men</td>\n",
       "      <td>Salsness, Carrie</td>\n",
       "      <td>111156572</td>\n",
       "      <td>NaN</td>\n",
       "      <td>9.0</td>\n",
       "      <td>9</td>\n",
       "      <td>0</td>\n",
       "      <td>Not applicable - No children/no child protect ...</td>\n",
       "      <td>No problem</td>\n",
       "      <td>...</td>\n",
       "      <td>111156572</td>\n",
       "      <td>Treatment - IDD Men</td>\n",
       "      <td>H2035 HH0944: IDD - Individual - Drug</td>\n",
       "      <td>11/6/2014 0:00</td>\n",
       "      <td>12/17/2014 0:00</td>\n",
       "      <td>2/19/1988 0:00</td>\n",
       "      <td>Male</td>\n",
       "      <td>Black or African American</td>\n",
       "      <td>87.0</td>\n",
       "      <td>2014</td>\n",
       "    </tr>\n",
       "    <tr>\n",
       "      <th>2</th>\n",
       "      <td>11/14/2014 0:00</td>\n",
       "      <td>Treatment - Relapse Men</td>\n",
       "      <td>Salsness, Carrie</td>\n",
       "      <td>111156525</td>\n",
       "      <td>NaN</td>\n",
       "      <td>16.0</td>\n",
       "      <td>0</td>\n",
       "      <td>0</td>\n",
       "      <td>Not applicable - No children/no child protect ...</td>\n",
       "      <td>No problem</td>\n",
       "      <td>...</td>\n",
       "      <td>111156525</td>\n",
       "      <td>Treatment - Relapse Men</td>\n",
       "      <td>H2035 HQ0945: Relapse - Group - Alcohol</td>\n",
       "      <td>11/14/2014 0:00</td>\n",
       "      <td>12/26/2014 0:00</td>\n",
       "      <td>5/7/1991 0:00</td>\n",
       "      <td>Male</td>\n",
       "      <td>White</td>\n",
       "      <td>78.0</td>\n",
       "      <td>2014</td>\n",
       "    </tr>\n",
       "    <tr>\n",
       "      <th>3</th>\n",
       "      <td>1/29/2015 0:00</td>\n",
       "      <td>Treatment - IDD Women</td>\n",
       "      <td>Stewart, Lorene</td>\n",
       "      <td>111157248</td>\n",
       "      <td>NaN</td>\n",
       "      <td>14.0</td>\n",
       "      <td>14</td>\n",
       "      <td>35</td>\n",
       "      <td>Not applicable - No children/no child protect ...</td>\n",
       "      <td>No problem</td>\n",
       "      <td>...</td>\n",
       "      <td>111157248</td>\n",
       "      <td>Treatment - IDD Women</td>\n",
       "      <td>H2035 HH0945: IDD - Individual - Alcohol</td>\n",
       "      <td>1/28/2015 0:00</td>\n",
       "      <td>5/1/2015 0:00</td>\n",
       "      <td>10/25/1968 0:00</td>\n",
       "      <td>Female</td>\n",
       "      <td>Black or African American</td>\n",
       "      <td>221.0</td>\n",
       "      <td>2015</td>\n",
       "    </tr>\n",
       "    <tr>\n",
       "      <th>4</th>\n",
       "      <td>1/5/2015 0:00</td>\n",
       "      <td>Treatment - IDD Men</td>\n",
       "      <td>Stewart, Lorene</td>\n",
       "      <td>111156885</td>\n",
       "      <td>NaN</td>\n",
       "      <td>42.0</td>\n",
       "      <td>18</td>\n",
       "      <td>19</td>\n",
       "      <td>Not applicable - No children/no child protect ...</td>\n",
       "      <td>Minor problem</td>\n",
       "      <td>...</td>\n",
       "      <td>111156885</td>\n",
       "      <td>Treatment - IDD Men</td>\n",
       "      <td>H2035 HH HQ0944: IDD - Group - Drug</td>\n",
       "      <td>1/2/2015 0:00</td>\n",
       "      <td>2/20/2015 0:00</td>\n",
       "      <td>3/15/1966 0:00</td>\n",
       "      <td>Male</td>\n",
       "      <td>White</td>\n",
       "      <td>99.0</td>\n",
       "      <td>2015</td>\n",
       "    </tr>\n",
       "  </tbody>\n",
       "</table>\n",
       "<p>5 rows × 120 columns</p>\n",
       "</div>"
      ],
      "text/plain": [
       "         Form Date                Program_admission   Staff_admission  \\\n",
       "0   12/5/2014 0:00  Treatment - Family - Outpatient   Stewart, Lorene   \n",
       "1  11/10/2014 0:00              Treatment - IDD Men  Salsness, Carrie   \n",
       "2  11/14/2014 0:00          Treatment - Relapse Men  Salsness, Carrie   \n",
       "3   1/29/2015 0:00            Treatment - IDD Women   Stewart, Lorene   \n",
       "4    1/5/2015 0:00              Treatment - IDD Men   Stewart, Lorene   \n",
       "\n",
       "  Client Number  Age_admission  Age of first use (Primary)  \\\n",
       "0     111156598            NaN                        13.0   \n",
       "1     111156572            NaN                         9.0   \n",
       "2     111156525            NaN                        16.0   \n",
       "3     111157248            NaN                        14.0   \n",
       "4     111156885            NaN                        42.0   \n",
       "\n",
       "  Age of first use (Secondary) Age of first use (Tertiary)  \\\n",
       "0                           19                          13   \n",
       "1                            9                           0   \n",
       "2                            0                           0   \n",
       "3                           14                          35   \n",
       "4                           18                          19   \n",
       "\n",
       "  Are any children living with someone else due to CPS court order or other action  \\\n",
       "0  Not applicable - No children/no child protect ...                                 \n",
       "1  Not applicable - No children/no child protect ...                                 \n",
       "2  Not applicable - No children/no child protect ...                                 \n",
       "3  Not applicable - No children/no child protect ...                                 \n",
       "4  Not applicable - No children/no child protect ...                                 \n",
       "\n",
       "  CHSR Dimension 1_admission  ...  Client_number  \\\n",
       "0              Minor problem  ...      111156598   \n",
       "1                 No problem  ...      111156572   \n",
       "2                 No problem  ...      111156525   \n",
       "3                 No problem  ...      111157248   \n",
       "4              Minor problem  ...      111156885   \n",
       "\n",
       "                           Program  \\\n",
       "0  Treatment - Family - Outpatient   \n",
       "1              Treatment - IDD Men   \n",
       "2          Treatment - Relapse Men   \n",
       "3            Treatment - IDD Women   \n",
       "4              Treatment - IDD Men   \n",
       "\n",
       "                                                Code start_service_data  \\\n",
       "0  H2035 HH HQ U60945: IOP Family - IDD w/kids - ...     12/3/2014 0:00   \n",
       "1              H2035 HH0944: IDD - Individual - Drug     11/6/2014 0:00   \n",
       "2            H2035 HQ0945: Relapse - Group - Alcohol    11/14/2014 0:00   \n",
       "3           H2035 HH0945: IDD - Individual - Alcohol     1/28/2015 0:00   \n",
       "4                H2035 HH HQ0944: IDD - Group - Drug      1/2/2015 0:00   \n",
       "\n",
       "  end_service_data       data_birth  gender                       race  \\\n",
       "0  12/30/2014 0:00    7/3/1979 0:00  Female                      White   \n",
       "1  12/17/2014 0:00   2/19/1988 0:00    Male  Black or African American   \n",
       "2  12/26/2014 0:00    5/7/1991 0:00    Male                      White   \n",
       "3    5/1/2015 0:00  10/25/1968 0:00  Female  Black or African American   \n",
       "4   2/20/2015 0:00   3/15/1966 0:00    Male                      White   \n",
       "\n",
       "  number_hours  year  \n",
       "0         47.0  2014  \n",
       "1         87.0  2014  \n",
       "2         78.0  2014  \n",
       "3        221.0  2015  \n",
       "4         99.0  2015  \n",
       "\n",
       "[5 rows x 120 columns]"
      ]
     },
     "execution_count": 2,
     "metadata": {},
     "output_type": "execute_result"
    }
   ],
   "source": [
    "master = pd.read_csv('C:/Users/prabl/Documents/Star82/Data/master.csv')\n",
    "print('Shape of dataframe: ', master.shape)\n",
    "master.head()                     "
   ]
  },
  {
   "cell_type": "markdown",
   "metadata": {},
   "source": [
    "Looking at the sample we see that Age_admission has all NaN's, let's look into this:"
   ]
  },
  {
   "cell_type": "code",
   "execution_count": 3,
   "metadata": {},
   "outputs": [
    {
     "data": {
      "text/plain": [
       "827"
      ]
     },
     "execution_count": 3,
     "metadata": {},
     "output_type": "execute_result"
    }
   ],
   "source": [
    "master['Age_admission'].isnull().sum()"
   ]
  },
  {
   "cell_type": "markdown",
   "metadata": {},
   "source": [
    "All the rows are Null values! Thus we can drop this column out."
   ]
  },
  {
   "cell_type": "code",
   "execution_count": 4,
   "metadata": {},
   "outputs": [],
   "source": [
    "master.drop('Age_admission', axis=1, inplace = True)"
   ]
  },
  {
   "cell_type": "markdown",
   "metadata": {},
   "source": [
    "Let us now look at the list of columns in our dataframe:"
   ]
  },
  {
   "cell_type": "code",
   "execution_count": 5,
   "metadata": {},
   "outputs": [
    {
     "data": {
      "text/plain": [
       "['Form Date',\n",
       " 'Program_admission',\n",
       " 'Staff_admission',\n",
       " 'Client Number',\n",
       " 'Age of first use (Primary)',\n",
       " 'Age of first use (Secondary)',\n",
       " 'Age of first use (Tertiary)',\n",
       " 'Are any children living with someone else due to CPS court order or other action',\n",
       " 'CHSR Dimension 1_admission',\n",
       " 'CHSR Dimension 2_admission',\n",
       " 'CHSR Dimension 3_admission',\n",
       " 'CHSR Dimension 4_admission',\n",
       " 'CHSR Dimension 5_admission',\n",
       " 'CHSR Dimension 6_admission',\n",
       " 'Client currently involved with CPS',\n",
       " 'Current CD Treatment admission',\n",
       " 'Current labor status',\n",
       " 'Current marital status',\n",
       " 'Currently enrolled in school or job training program',\n",
       " 'Currently smoke cigarettes',\n",
       " 'Currently under the jurisdiction of the court or on probation/parole of',\n",
       " 'Did drug court refer?',\n",
       " 'Does client have children',\n",
       " 'Does this involvement result from',\n",
       " \"Driver's license revoked due to DWI\",\n",
       " 'Education',\n",
       " 'For how many children has the client lost parental rights',\n",
       " 'Hispanic Ethnicity',\n",
       " 'History of injection drug use',\n",
       " 'How many children',\n",
       " 'How many of the children are living with someone else for these reasons',\n",
       " 'Interaction with supportive family/friends in past 30 days',\n",
       " 'Legal status at admission',\n",
       " 'Number of arrests in lifetime',\n",
       " 'Number of arrests in past 30 days',\n",
       " 'Number of days used in past 30 (Primary)',\n",
       " 'Number of days used in past 30 (Secondary)',\n",
       " 'Number of days used in past 30 (Tertiary)',\n",
       " 'Number of days, in past 30 days, has client used alcohol (99 unknown)',\n",
       " 'Number of days, in past 30 days, has client used illicit drugs (99 unknown)',\n",
       " 'Number of lifetime detoxification admissions',\n",
       " 'Number of lifetime treatment episodes in CD treatment program (no detox)',\n",
       " 'Number of times at self help programs in past 30 days (eg. AA, NA)',\n",
       " 'Opioid Replacement therapy planned?',\n",
       " 'Pregnancy status at admission',\n",
       " 'Primary condition surrounding admission',\n",
       " 'Primary condition surrounding admission.1',\n",
       " 'Primary source of income',\n",
       " 'Primary Source of Referral',\n",
       " 'Primary substance abuse problem',\n",
       " 'Race_admission',\n",
       " 'Reside on reservation',\n",
       " 'Route of administration (Primary)',\n",
       " 'Route of administration (Secondary)',\n",
       " 'Route of Administration (Tertiary)',\n",
       " 'Secondary Source of Referral',\n",
       " 'Secondary substance abuse problem',\n",
       " 'Tertiary substance abuse problem',\n",
       " 'Tribal enrollment',\n",
       " 'Type of Insurance',\n",
       " 'Usual living situation',\n",
       " 'Veteran status',\n",
       " 'Was client in jail in past 30 days',\n",
       " 'Was client in prison in past 30 days',\n",
       " 'Where has client been living in past 30 days',\n",
       " 'Years of schooling',\n",
       " 'Client Gender',\n",
       " 'Client Race',\n",
       " 'Client Ethnicity',\n",
       " 'Form.Date_discharge',\n",
       " 'Program_discharge',\n",
       " 'Staff_discharge',\n",
       " 'Client.Number_x',\n",
       " 'CHSR.Dimension.1',\n",
       " 'CHSR.Dimension.2',\n",
       " 'CHSR.Dimension.3',\n",
       " 'CHSR.Dimension.4',\n",
       " 'CHSR.Dimension.5',\n",
       " 'CHSR.Dimension.6',\n",
       " 'CPS.involvement.results.from',\n",
       " 'Current.CD.Treatment',\n",
       " 'Current.labor.force.status',\n",
       " 'Currently.involved.with.CPS',\n",
       " 'Does.client.have.children',\n",
       " 'DSM.CD.Diagnosis',\n",
       " 'DSM.CD.Diagnosis..Secondary.',\n",
       " 'Enrolled.in.school.or.job.training',\n",
       " 'Number.of.children',\n",
       " 'Number.of.self.help.programs.attended.in.past.30.days',\n",
       " 'Reason.for.Discharge',\n",
       " 'Secondary.substance.abuse.problem',\n",
       " 'Substance.abuse.problem.at.Discharge',\n",
       " 'Tertiary.substance.abuse.problem',\n",
       " 'Where.client.has.been.living.in.past.30.days',\n",
       " 'Date.of.Birth_x',\n",
       " 'Age_discharge',\n",
       " 'Sex_x',\n",
       " 'Race_discharge',\n",
       " 'Ratio.living.elsewhere',\n",
       " 'Client.Number_y',\n",
       " 'Date.of.Birth_y',\n",
       " 'Last.Discharge.Date',\n",
       " 'Age.at.Discharge',\n",
       " 'Sex_y',\n",
       " 'Race',\n",
       " 'Race1',\n",
       " 'Race2',\n",
       " 'Race3',\n",
       " 'Race4',\n",
       " 'Client_number',\n",
       " 'Program',\n",
       " 'Code',\n",
       " 'start_service_data',\n",
       " 'end_service_data',\n",
       " 'data_birth',\n",
       " 'gender',\n",
       " 'race',\n",
       " 'number_hours',\n",
       " 'year']"
      ]
     },
     "execution_count": 5,
     "metadata": {},
     "output_type": "execute_result"
    }
   ],
   "source": [
    "list(master.columns)"
   ]
  },
  {
   "cell_type": "markdown",
   "metadata": {},
   "source": [
    "Let us fix the column names, i.e remove the spaces in column names. Further, we also notice the following: \n",
    "* There are 4 Client number and 3 Program columns. Ideally these should be redundant, so let's look into these!\n",
    "* There are 2 age_discharge columns as well - one from the discharge dataset and one from the demographics.\n",
    "* Race_discharge and admission are also two columns and race_discharge is a column that has been broken down into Race1-Race4 in the demographics data\n",
    "* There are 3 columns os sex of client as well\n",
    "* 3 Columns for Date of birth as well"
   ]
  },
  {
   "cell_type": "code",
   "execution_count": 6,
   "metadata": {},
   "outputs": [
    {
     "data": {
      "text/plain": [
       "['Form.Date',\n",
       " 'Program.admission',\n",
       " 'Staff.admission',\n",
       " 'Client.Number',\n",
       " 'Age.of.first.use.(Primary)',\n",
       " 'Age.of.first.use.(Secondary)',\n",
       " 'Age.of.first.use.(Tertiary)',\n",
       " 'Are.any.children.living.with.someone.else.due.to.CPS.court.order.or.other.action',\n",
       " 'CHSR.Dimension.1.admission',\n",
       " 'CHSR.Dimension.2.admission',\n",
       " 'CHSR.Dimension.3.admission',\n",
       " 'CHSR.Dimension.4.admission',\n",
       " 'CHSR.Dimension.5.admission',\n",
       " 'CHSR.Dimension.6.admission',\n",
       " 'Client.currently.involved.with.CPS',\n",
       " 'Current.CD.Treatment.admission',\n",
       " 'Current.labor.status',\n",
       " 'Current.marital.status',\n",
       " 'Currently.enrolled.in.school.or.job.training.program',\n",
       " 'Currently.smoke.cigarettes',\n",
       " 'Currently.under.the.jurisdiction.of.the.court.or.on.probation.parole.of',\n",
       " 'Did.drug.court.refer',\n",
       " 'Does.client.have.children',\n",
       " 'Does.this.involvement.result.from',\n",
       " \"Driver's.license.revoked.due.to.DWI\",\n",
       " 'Education',\n",
       " 'For.how.many.children.has.the.client.lost.parental.rights',\n",
       " 'Hispanic.Ethnicity',\n",
       " 'History.of.injection.drug.use',\n",
       " 'How.many.children',\n",
       " 'How.many.of.the.children.are.living.with.someone.else.for.these.reasons',\n",
       " 'Interaction.with.supportive.family.friends.in.past.30.days',\n",
       " 'Legal.status.at.admission',\n",
       " 'Number.of.arrests.in.lifetime',\n",
       " 'Number.of.arrests.in.past.30.days',\n",
       " 'Number.of.days.used.in.past.30.(Primary)',\n",
       " 'Number.of.days.used.in.past.30.(Secondary)',\n",
       " 'Number.of.days.used.in.past.30.(Tertiary)',\n",
       " 'Number.of.days,.in.past.30.days,.has.client.used.alcohol.(99.unknown)',\n",
       " 'Number.of.days,.in.past.30.days,.has.client.used.illicit.drugs.(99.unknown)',\n",
       " 'Number.of.lifetime.detoxification.admissions',\n",
       " 'Number.of.lifetime.treatment.episodes.in.CD.treatment.program.(no.detox)',\n",
       " 'Number.of.times.at.self.help.programs.in.past.30.days.(eg..AA,.NA)',\n",
       " 'Opioid.Replacement.therapy.planned',\n",
       " 'Pregnancy.status.at.admission',\n",
       " 'Primary.condition.surrounding.admission',\n",
       " 'Primary.condition.surrounding.admission.1',\n",
       " 'Primary.source.of.income',\n",
       " 'Primary.Source.of.Referral',\n",
       " 'Primary.substance.abuse.problem',\n",
       " 'Race.admission',\n",
       " 'Reside.on.reservation',\n",
       " 'Route.of.administration.(Primary)',\n",
       " 'Route.of.administration.(Secondary)',\n",
       " 'Route.of.Administration.(Tertiary)',\n",
       " 'Secondary.Source.of.Referral',\n",
       " 'Secondary.substance.abuse.problem',\n",
       " 'Tertiary.substance.abuse.problem',\n",
       " 'Tribal.enrollment',\n",
       " 'Type.of.Insurance',\n",
       " 'Usual.living.situation',\n",
       " 'Veteran.status',\n",
       " 'Was.client.in.jail.in.past.30.days',\n",
       " 'Was.client.in.prison.in.past.30.days',\n",
       " 'Where.has.client.been.living.in.past.30.days',\n",
       " 'Years.of.schooling',\n",
       " 'Client.Gender',\n",
       " 'Client.Race',\n",
       " 'Client.Ethnicity',\n",
       " 'Form.Date.discharge',\n",
       " 'Program.discharge',\n",
       " 'Staff.discharge',\n",
       " 'Client.Number.x',\n",
       " 'CHSR.Dimension.1',\n",
       " 'CHSR.Dimension.2',\n",
       " 'CHSR.Dimension.3',\n",
       " 'CHSR.Dimension.4',\n",
       " 'CHSR.Dimension.5',\n",
       " 'CHSR.Dimension.6',\n",
       " 'CPS.involvement.results.from',\n",
       " 'Current.CD.Treatment',\n",
       " 'Current.labor.force.status',\n",
       " 'Currently.involved.with.CPS',\n",
       " 'Does.client.have.children',\n",
       " 'DSM.CD.Diagnosis',\n",
       " 'DSM.CD.Diagnosis..Secondary.',\n",
       " 'Enrolled.in.school.or.job.training',\n",
       " 'Number.of.children',\n",
       " 'Number.of.self.help.programs.attended.in.past.30.days',\n",
       " 'Reason.for.Discharge',\n",
       " 'Secondary.substance.abuse.problem',\n",
       " 'Substance.abuse.problem.at.Discharge',\n",
       " 'Tertiary.substance.abuse.problem',\n",
       " 'Where.client.has.been.living.in.past.30.days',\n",
       " 'Date.of.Birth.x',\n",
       " 'Age.discharge',\n",
       " 'Sex.x',\n",
       " 'Race.discharge',\n",
       " 'Ratio.living.elsewhere',\n",
       " 'Client.Number.y',\n",
       " 'Date.of.Birth.y',\n",
       " 'Last.Discharge.Date',\n",
       " 'Age.at.Discharge',\n",
       " 'Sex.y',\n",
       " 'Race',\n",
       " 'Race1',\n",
       " 'Race2',\n",
       " 'Race3',\n",
       " 'Race4',\n",
       " 'Client.number',\n",
       " 'Program',\n",
       " 'Code',\n",
       " 'start.service.data',\n",
       " 'end.service.data',\n",
       " 'data.birth',\n",
       " 'gender',\n",
       " 'race',\n",
       " 'number.hours',\n",
       " 'year']"
      ]
     },
     "execution_count": 6,
     "metadata": {},
     "output_type": "execute_result"
    }
   ],
   "source": [
    "#Replacing all spaces and '_' in column names with '.' for uniformity\n",
    "master.columns = [col.strip() for col in master.columns]\n",
    "master.columns = [re.sub(r'[_| |/]', r'.', col) for col in master.columns]\n",
    "master.columns = [re.sub(r'[?]',r'', col) for col in master.columns]\n",
    "list(master.columns)"
   ]
  },
  {
   "cell_type": "code",
   "execution_count": 7,
   "metadata": {},
   "outputs": [
    {
     "name": "stdout",
     "output_type": "stream",
     "text": [
      "True\n",
      "True\n"
     ]
    }
   ],
   "source": [
    "# Now working to remove duplicate columns\n",
    "\n",
    "#Checking if client number is same accross all three columns.\n",
    "print(master['Client.number'].equals(master['Client.Number.x']))\n",
    "print(master['Client.Number.x'].equals(master['Client.Number.y']))"
   ]
  },
  {
   "cell_type": "code",
   "execution_count": 8,
   "metadata": {},
   "outputs": [],
   "source": [
    "#Since they are all equal, let's drop three of them\n",
    "master.drop(['Client.Number.x','Client.Number.y','Client.number'],axis=1, inplace=True)"
   ]
  },
  {
   "cell_type": "code",
   "execution_count": 9,
   "metadata": {},
   "outputs": [
    {
     "name": "stdout",
     "output_type": "stream",
     "text": [
      "False\n",
      "False\n"
     ]
    }
   ],
   "source": [
    "# Now let us look at Program\n",
    "#Checking if Program is same accross all three columns.\n",
    "print(master['Program'].equals(master['Program.admission']))\n",
    "print(master['Program.discharge'].equals(master['Program.admission']))"
   ]
  },
  {
   "cell_type": "code",
   "execution_count": 10,
   "metadata": {},
   "outputs": [
    {
     "data": {
      "text/html": [
       "<div>\n",
       "<style>\n",
       "    .dataframe thead tr:only-child th {\n",
       "        text-align: right;\n",
       "    }\n",
       "\n",
       "    .dataframe thead th {\n",
       "        text-align: left;\n",
       "    }\n",
       "\n",
       "    .dataframe tbody tr th {\n",
       "        vertical-align: top;\n",
       "    }\n",
       "</style>\n",
       "<table border=\"1\" class=\"dataframe\">\n",
       "  <thead>\n",
       "    <tr style=\"text-align: right;\">\n",
       "      <th></th>\n",
       "      <th>Program.admission</th>\n",
       "      <th>Program.discharge</th>\n",
       "    </tr>\n",
       "  </thead>\n",
       "  <tbody>\n",
       "    <tr>\n",
       "      <th>4</th>\n",
       "      <td>Treatment - IDD Men</td>\n",
       "      <td>CC - Aftercare Plus</td>\n",
       "    </tr>\n",
       "    <tr>\n",
       "      <th>8</th>\n",
       "      <td>Treatment - Relapse Women</td>\n",
       "      <td>Treatment - IDD Women</td>\n",
       "    </tr>\n",
       "    <tr>\n",
       "      <th>13</th>\n",
       "      <td>Treatment - IDD Women</td>\n",
       "      <td>Treatment - Family - Outpatient</td>\n",
       "    </tr>\n",
       "    <tr>\n",
       "      <th>42</th>\n",
       "      <td>Assessments</td>\n",
       "      <td>Treatment - IDD Men</td>\n",
       "    </tr>\n",
       "    <tr>\n",
       "      <th>49</th>\n",
       "      <td>CC - WRRI</td>\n",
       "      <td>Treatment - IDD Women</td>\n",
       "    </tr>\n",
       "    <tr>\n",
       "      <th>56</th>\n",
       "      <td>Treatment - IDD Men</td>\n",
       "      <td>Treatment - Relapse Men</td>\n",
       "    </tr>\n",
       "    <tr>\n",
       "      <th>57</th>\n",
       "      <td>Treatment - IDD Women</td>\n",
       "      <td>Hennepin CSP Pending Membership</td>\n",
       "    </tr>\n",
       "    <tr>\n",
       "      <th>59</th>\n",
       "      <td>Assessments</td>\n",
       "      <td>Treatment - Relapse Men</td>\n",
       "    </tr>\n",
       "    <tr>\n",
       "      <th>64</th>\n",
       "      <td>Treatment - Family - Outpatient</td>\n",
       "      <td>CC - MARFU</td>\n",
       "    </tr>\n",
       "    <tr>\n",
       "      <th>74</th>\n",
       "      <td>Assessments - Referred from Outside</td>\n",
       "      <td>Treatment - IDD Women</td>\n",
       "    </tr>\n",
       "    <tr>\n",
       "      <th>77</th>\n",
       "      <td>Treatment - IDD Men</td>\n",
       "      <td>Treatment - Relapse Men</td>\n",
       "    </tr>\n",
       "    <tr>\n",
       "      <th>87</th>\n",
       "      <td>Treatment - Family - Outpatient</td>\n",
       "      <td>Assessments</td>\n",
       "    </tr>\n",
       "    <tr>\n",
       "      <th>107</th>\n",
       "      <td>Assessments - Referred from Outside</td>\n",
       "      <td>Treatment - IDD Men</td>\n",
       "    </tr>\n",
       "    <tr>\n",
       "      <th>110</th>\n",
       "      <td>Assessments</td>\n",
       "      <td>Treatment - IDD Women</td>\n",
       "    </tr>\n",
       "    <tr>\n",
       "      <th>115</th>\n",
       "      <td>Treatment - Family - Outpatient</td>\n",
       "      <td>CC - MARFU</td>\n",
       "    </tr>\n",
       "    <tr>\n",
       "      <th>122</th>\n",
       "      <td>CC - WRRI</td>\n",
       "      <td>Treatment - IDD Women</td>\n",
       "    </tr>\n",
       "    <tr>\n",
       "      <th>145</th>\n",
       "      <td>Treatment - Family - Outpatient</td>\n",
       "      <td>CC - MARFU</td>\n",
       "    </tr>\n",
       "    <tr>\n",
       "      <th>164</th>\n",
       "      <td>CC - WRRI</td>\n",
       "      <td>Treatment - IDD Women</td>\n",
       "    </tr>\n",
       "    <tr>\n",
       "      <th>165</th>\n",
       "      <td>Treatment - Family - Outpatient</td>\n",
       "      <td>CC - MARFU</td>\n",
       "    </tr>\n",
       "    <tr>\n",
       "      <th>226</th>\n",
       "      <td>Assessments</td>\n",
       "      <td>Treatment - Relapse Men</td>\n",
       "    </tr>\n",
       "    <tr>\n",
       "      <th>236</th>\n",
       "      <td>Treatment - IDD Women</td>\n",
       "      <td>Treatment - Family - Outpatient</td>\n",
       "    </tr>\n",
       "    <tr>\n",
       "      <th>248</th>\n",
       "      <td>Family Residential</td>\n",
       "      <td>Treatment - Family - Outpatient</td>\n",
       "    </tr>\n",
       "    <tr>\n",
       "      <th>271</th>\n",
       "      <td>Treatment - IDD Men</td>\n",
       "      <td>Assessments - Referred from Outside</td>\n",
       "    </tr>\n",
       "    <tr>\n",
       "      <th>359</th>\n",
       "      <td>Treatment - Relapse Women</td>\n",
       "      <td>Treatment - IDD Women</td>\n",
       "    </tr>\n",
       "    <tr>\n",
       "      <th>360</th>\n",
       "      <td>Treatment - IDD Women</td>\n",
       "      <td>Treatment - IDD Men</td>\n",
       "    </tr>\n",
       "    <tr>\n",
       "      <th>371</th>\n",
       "      <td>Assessments</td>\n",
       "      <td>Treatment - IDD Men</td>\n",
       "    </tr>\n",
       "    <tr>\n",
       "      <th>385</th>\n",
       "      <td>Treatment - IDD Men</td>\n",
       "      <td>Treatment - Relapse Men</td>\n",
       "    </tr>\n",
       "    <tr>\n",
       "      <th>397</th>\n",
       "      <td>Assessments</td>\n",
       "      <td>Treatment - IDD Men</td>\n",
       "    </tr>\n",
       "    <tr>\n",
       "      <th>416</th>\n",
       "      <td>CC - WRRI</td>\n",
       "      <td>Treatment - IDD Women</td>\n",
       "    </tr>\n",
       "    <tr>\n",
       "      <th>481</th>\n",
       "      <td>Assessments</td>\n",
       "      <td>Treatment - IDD Men</td>\n",
       "    </tr>\n",
       "    <tr>\n",
       "      <th>719</th>\n",
       "      <td>CC - WRRI</td>\n",
       "      <td>Treatment - IDD Women</td>\n",
       "    </tr>\n",
       "    <tr>\n",
       "      <th>824</th>\n",
       "      <td>CC - WRRI</td>\n",
       "      <td>Treatment - IDD Women</td>\n",
       "    </tr>\n",
       "  </tbody>\n",
       "</table>\n",
       "</div>"
      ],
      "text/plain": [
       "                       Program.admission                    Program.discharge\n",
       "4                    Treatment - IDD Men                  CC - Aftercare Plus\n",
       "8              Treatment - Relapse Women                Treatment - IDD Women\n",
       "13                 Treatment - IDD Women      Treatment - Family - Outpatient\n",
       "42                           Assessments                  Treatment - IDD Men\n",
       "49                             CC - WRRI                Treatment - IDD Women\n",
       "56                   Treatment - IDD Men              Treatment - Relapse Men\n",
       "57                 Treatment - IDD Women      Hennepin CSP Pending Membership\n",
       "59                           Assessments              Treatment - Relapse Men\n",
       "64       Treatment - Family - Outpatient                           CC - MARFU\n",
       "74   Assessments - Referred from Outside                Treatment - IDD Women\n",
       "77                   Treatment - IDD Men              Treatment - Relapse Men\n",
       "87       Treatment - Family - Outpatient                          Assessments\n",
       "107  Assessments - Referred from Outside                  Treatment - IDD Men\n",
       "110                          Assessments                Treatment - IDD Women\n",
       "115      Treatment - Family - Outpatient                           CC - MARFU\n",
       "122                            CC - WRRI                Treatment - IDD Women\n",
       "145      Treatment - Family - Outpatient                           CC - MARFU\n",
       "164                            CC - WRRI                Treatment - IDD Women\n",
       "165      Treatment - Family - Outpatient                           CC - MARFU\n",
       "226                          Assessments              Treatment - Relapse Men\n",
       "236                Treatment - IDD Women      Treatment - Family - Outpatient\n",
       "248                   Family Residential      Treatment - Family - Outpatient\n",
       "271                  Treatment - IDD Men  Assessments - Referred from Outside\n",
       "359            Treatment - Relapse Women                Treatment - IDD Women\n",
       "360                Treatment - IDD Women                  Treatment - IDD Men\n",
       "371                          Assessments                  Treatment - IDD Men\n",
       "385                  Treatment - IDD Men              Treatment - Relapse Men\n",
       "397                          Assessments                  Treatment - IDD Men\n",
       "416                            CC - WRRI                Treatment - IDD Women\n",
       "481                          Assessments                  Treatment - IDD Men\n",
       "719                            CC - WRRI                Treatment - IDD Women\n",
       "824                            CC - WRRI                Treatment - IDD Women"
      ]
     },
     "execution_count": 10,
     "metadata": {},
     "output_type": "execute_result"
    }
   ],
   "source": [
    "# Let us look at how many records differ in the Program type:\n",
    "temp = master[master['Program.admission'] != master['Program.discharge']]\n",
    "temp[['Program.admission', 'Program.discharge']]"
   ]
  },
  {
   "cell_type": "code",
   "execution_count": 11,
   "metadata": {},
   "outputs": [
    {
     "data": {
      "text/html": [
       "<div>\n",
       "<style>\n",
       "    .dataframe thead tr:only-child th {\n",
       "        text-align: right;\n",
       "    }\n",
       "\n",
       "    .dataframe thead th {\n",
       "        text-align: left;\n",
       "    }\n",
       "\n",
       "    .dataframe tbody tr th {\n",
       "        vertical-align: top;\n",
       "    }\n",
       "</style>\n",
       "<table border=\"1\" class=\"dataframe\">\n",
       "  <thead>\n",
       "    <tr style=\"text-align: right;\">\n",
       "      <th></th>\n",
       "      <th>Program</th>\n",
       "      <th>Program.admission</th>\n",
       "    </tr>\n",
       "  </thead>\n",
       "  <tbody>\n",
       "    <tr>\n",
       "      <th>8</th>\n",
       "      <td>Treatment - IDD Women</td>\n",
       "      <td>Treatment - Relapse Women</td>\n",
       "    </tr>\n",
       "    <tr>\n",
       "      <th>13</th>\n",
       "      <td>Treatment - Family - Outpatient</td>\n",
       "      <td>Treatment - IDD Women</td>\n",
       "    </tr>\n",
       "    <tr>\n",
       "      <th>42</th>\n",
       "      <td>Treatment - IDD Men</td>\n",
       "      <td>Assessments</td>\n",
       "    </tr>\n",
       "    <tr>\n",
       "      <th>49</th>\n",
       "      <td>Treatment - IDD Women</td>\n",
       "      <td>CC - WRRI</td>\n",
       "    </tr>\n",
       "    <tr>\n",
       "      <th>56</th>\n",
       "      <td>Treatment - Relapse Men</td>\n",
       "      <td>Treatment - IDD Men</td>\n",
       "    </tr>\n",
       "    <tr>\n",
       "      <th>59</th>\n",
       "      <td>Treatment - Relapse Men</td>\n",
       "      <td>Assessments</td>\n",
       "    </tr>\n",
       "    <tr>\n",
       "      <th>74</th>\n",
       "      <td>Treatment - IDD Women</td>\n",
       "      <td>Assessments - Referred from Outside</td>\n",
       "    </tr>\n",
       "    <tr>\n",
       "      <th>75</th>\n",
       "      <td>Treatment - Relapse Women</td>\n",
       "      <td>Treatment - IDD Women</td>\n",
       "    </tr>\n",
       "    <tr>\n",
       "      <th>77</th>\n",
       "      <td>Treatment - Relapse Men</td>\n",
       "      <td>Treatment - IDD Men</td>\n",
       "    </tr>\n",
       "    <tr>\n",
       "      <th>107</th>\n",
       "      <td>Treatment - IDD Men</td>\n",
       "      <td>Assessments - Referred from Outside</td>\n",
       "    </tr>\n",
       "    <tr>\n",
       "      <th>110</th>\n",
       "      <td>Treatment - IDD Women</td>\n",
       "      <td>Assessments</td>\n",
       "    </tr>\n",
       "    <tr>\n",
       "      <th>122</th>\n",
       "      <td>Treatment - IDD Women</td>\n",
       "      <td>CC - WRRI</td>\n",
       "    </tr>\n",
       "    <tr>\n",
       "      <th>164</th>\n",
       "      <td>Treatment - IDD Women</td>\n",
       "      <td>CC - WRRI</td>\n",
       "    </tr>\n",
       "    <tr>\n",
       "      <th>226</th>\n",
       "      <td>Treatment - Relapse Men</td>\n",
       "      <td>Assessments</td>\n",
       "    </tr>\n",
       "    <tr>\n",
       "      <th>248</th>\n",
       "      <td>Treatment - Family - Outpatient</td>\n",
       "      <td>Family Residential</td>\n",
       "    </tr>\n",
       "    <tr>\n",
       "      <th>359</th>\n",
       "      <td>Treatment - IDD Women</td>\n",
       "      <td>Treatment - Relapse Women</td>\n",
       "    </tr>\n",
       "    <tr>\n",
       "      <th>360</th>\n",
       "      <td>Treatment - IDD Men</td>\n",
       "      <td>Treatment - IDD Women</td>\n",
       "    </tr>\n",
       "    <tr>\n",
       "      <th>371</th>\n",
       "      <td>Treatment - IDD Men</td>\n",
       "      <td>Assessments</td>\n",
       "    </tr>\n",
       "    <tr>\n",
       "      <th>385</th>\n",
       "      <td>Treatment - Relapse Men</td>\n",
       "      <td>Treatment - IDD Men</td>\n",
       "    </tr>\n",
       "    <tr>\n",
       "      <th>397</th>\n",
       "      <td>Treatment - IDD Men</td>\n",
       "      <td>Assessments</td>\n",
       "    </tr>\n",
       "    <tr>\n",
       "      <th>416</th>\n",
       "      <td>Treatment - IDD Women</td>\n",
       "      <td>CC - WRRI</td>\n",
       "    </tr>\n",
       "    <tr>\n",
       "      <th>481</th>\n",
       "      <td>Treatment - IDD Men</td>\n",
       "      <td>Assessments</td>\n",
       "    </tr>\n",
       "    <tr>\n",
       "      <th>537</th>\n",
       "      <td>Treatment - Family - Outpatient</td>\n",
       "      <td>Family Residential</td>\n",
       "    </tr>\n",
       "    <tr>\n",
       "      <th>719</th>\n",
       "      <td>Treatment - IDD Women</td>\n",
       "      <td>CC - WRRI</td>\n",
       "    </tr>\n",
       "    <tr>\n",
       "      <th>824</th>\n",
       "      <td>Treatment - IDD Women</td>\n",
       "      <td>CC - WRRI</td>\n",
       "    </tr>\n",
       "  </tbody>\n",
       "</table>\n",
       "</div>"
      ],
      "text/plain": [
       "                             Program                    Program.admission\n",
       "8              Treatment - IDD Women            Treatment - Relapse Women\n",
       "13   Treatment - Family - Outpatient                Treatment - IDD Women\n",
       "42               Treatment - IDD Men                          Assessments\n",
       "49             Treatment - IDD Women                            CC - WRRI\n",
       "56           Treatment - Relapse Men                  Treatment - IDD Men\n",
       "59           Treatment - Relapse Men                          Assessments\n",
       "74             Treatment - IDD Women  Assessments - Referred from Outside\n",
       "75         Treatment - Relapse Women                Treatment - IDD Women\n",
       "77           Treatment - Relapse Men                  Treatment - IDD Men\n",
       "107              Treatment - IDD Men  Assessments - Referred from Outside\n",
       "110            Treatment - IDD Women                          Assessments\n",
       "122            Treatment - IDD Women                            CC - WRRI\n",
       "164            Treatment - IDD Women                            CC - WRRI\n",
       "226          Treatment - Relapse Men                          Assessments\n",
       "248  Treatment - Family - Outpatient                   Family Residential\n",
       "359            Treatment - IDD Women            Treatment - Relapse Women\n",
       "360              Treatment - IDD Men                Treatment - IDD Women\n",
       "371              Treatment - IDD Men                          Assessments\n",
       "385          Treatment - Relapse Men                  Treatment - IDD Men\n",
       "397              Treatment - IDD Men                          Assessments\n",
       "416            Treatment - IDD Women                            CC - WRRI\n",
       "481              Treatment - IDD Men                          Assessments\n",
       "537  Treatment - Family - Outpatient                   Family Residential\n",
       "719            Treatment - IDD Women                            CC - WRRI\n",
       "824            Treatment - IDD Women                            CC - WRRI"
      ]
     },
     "execution_count": 11,
     "metadata": {},
     "output_type": "execute_result"
    }
   ],
   "source": [
    "temp = master[master['Program'] != master['Program.admission']]\n",
    "temp[['Program', 'Program.admission']]"
   ]
  },
  {
   "cell_type": "code",
   "execution_count": 12,
   "metadata": {},
   "outputs": [
    {
     "data": {
      "text/plain": [
       "array(['Treatment - Family - Outpatient', 'Treatment - IDD Men',\n",
       "       'Treatment - Relapse Men', 'Treatment - IDD Women',\n",
       "       'Treatment - Relapse Women', 'Assessments', 'CC - WRRI',\n",
       "       'Assessments - Referred from Outside', 'Family Residential'], dtype=object)"
      ]
     },
     "execution_count": 12,
     "metadata": {},
     "output_type": "execute_result"
    }
   ],
   "source": [
    "master['Program.admission'].unique()"
   ]
  },
  {
   "cell_type": "code",
   "execution_count": 13,
   "metadata": {},
   "outputs": [
    {
     "data": {
      "text/plain": [
       "array(['Treatment - Family - Outpatient', 'Treatment - IDD Men',\n",
       "       'Treatment - Relapse Men', 'Treatment - IDD Women',\n",
       "       'CC - Aftercare Plus', 'Treatment - Relapse Women',\n",
       "       'Hennepin CSP Pending Membership', 'CC - MARFU', 'Assessments',\n",
       "       'Assessments - Referred from Outside', 'Family Residential'], dtype=object)"
      ]
     },
     "execution_count": 13,
     "metadata": {},
     "output_type": "execute_result"
    }
   ],
   "source": [
    "master['Program.discharge'].unique()"
   ]
  },
  {
   "cell_type": "code",
   "execution_count": 14,
   "metadata": {},
   "outputs": [
    {
     "data": {
      "text/plain": [
       "array(['Treatment - Family - Outpatient', 'Treatment - IDD Men',\n",
       "       'Treatment - Relapse Men', 'Treatment - IDD Women',\n",
       "       'Treatment - Relapse Women'], dtype=object)"
      ]
     },
     "execution_count": 14,
     "metadata": {},
     "output_type": "execute_result"
    }
   ],
   "source": [
    "master['Program'].unique()"
   ]
  },
  {
   "cell_type": "code",
   "execution_count": 15,
   "metadata": {},
   "outputs": [],
   "source": [
    "# Keeping only the entries where admission Program EQUALS discharge Program\n",
    "master = master[master['Program.discharge'] == master['Program.admission']]"
   ]
  },
  {
   "cell_type": "code",
   "execution_count": 16,
   "metadata": {},
   "outputs": [
    {
     "name": "stdout",
     "output_type": "stream",
     "text": [
      "True\n"
     ]
    }
   ],
   "source": [
    "# Let's now check if both columns are equal and drop one of them\n",
    "print(master['Program.discharge'].equals(master['Program.admission']))\n",
    "\n",
    "#dropping Program.discharge\n",
    "master.drop('Program.dsicharge', axis=1, inplace=True)"
   ]
  },
  {
   "cell_type": "code",
   "execution_count": 17,
   "metadata": {},
   "outputs": [
    {
     "data": {
      "text/html": [
       "<div>\n",
       "<style>\n",
       "    .dataframe thead tr:only-child th {\n",
       "        text-align: right;\n",
       "    }\n",
       "\n",
       "    .dataframe thead th {\n",
       "        text-align: left;\n",
       "    }\n",
       "\n",
       "    .dataframe tbody tr th {\n",
       "        vertical-align: top;\n",
       "    }\n",
       "</style>\n",
       "<table border=\"1\" class=\"dataframe\">\n",
       "  <thead>\n",
       "    <tr style=\"text-align: right;\">\n",
       "      <th></th>\n",
       "      <th>Program</th>\n",
       "      <th>Program.admission</th>\n",
       "    </tr>\n",
       "  </thead>\n",
       "  <tbody>\n",
       "    <tr>\n",
       "      <th>75</th>\n",
       "      <td>Treatment - Relapse Women</td>\n",
       "      <td>Treatment - IDD Women</td>\n",
       "    </tr>\n",
       "    <tr>\n",
       "      <th>537</th>\n",
       "      <td>Treatment - Family - Outpatient</td>\n",
       "      <td>Family Residential</td>\n",
       "    </tr>\n",
       "  </tbody>\n",
       "</table>\n",
       "</div>"
      ],
      "text/plain": [
       "                             Program      Program.admission\n",
       "75         Treatment - Relapse Women  Treatment - IDD Women\n",
       "537  Treatment - Family - Outpatient     Family Residential"
      ]
     },
     "execution_count": 17,
     "metadata": {},
     "output_type": "execute_result"
    }
   ],
   "source": [
    "# Let us now look at the Program column from demographics data with admission.discharge\n",
    "temp = master[master['Program'] != master['Program.admission']]\n",
    "temp[['Program', 'Program.admission']]"
   ]
  },
  {
   "cell_type": "code",
   "execution_count": 18,
   "metadata": {},
   "outputs": [
    {
     "name": "stdout",
     "output_type": "stream",
     "text": [
      "True\n"
     ]
    }
   ],
   "source": [
    "#Let us drop these two rows\n",
    "master = master[master['Program'] == master['Program.admission']]\n",
    "\n",
    "#Check if the two columns are now equal and drop the column\n",
    "print(master['Program'].equals(master['Program.admission']))\n",
    "master.drop(['Program.admission', 'Program.discharge'], axis=1, inplace=True)"
   ]
  },
  {
   "cell_type": "code",
   "execution_count": 19,
   "metadata": {},
   "outputs": [
    {
     "data": {
      "text/plain": [
       "(793, 114)"
      ]
     },
     "execution_count": 19,
     "metadata": {},
     "output_type": "execute_result"
    }
   ],
   "source": [
    "master.shape"
   ]
  },
  {
   "cell_type": "markdown",
   "metadata": {},
   "source": [
    "We lost 34 rows, due to this filtering.  \n",
    "Let us now look at the age at discharge columns"
   ]
  },
  {
   "cell_type": "code",
   "execution_count": 20,
   "metadata": {},
   "outputs": [
    {
     "name": "stdout",
     "output_type": "stream",
     "text": [
      "False\n"
     ]
    }
   ],
   "source": [
    "print(master['Age.at.Discharge'].equals(master['Age.discharge']))"
   ]
  },
  {
   "cell_type": "markdown",
   "metadata": {},
   "source": [
    "On investigating, it was found that 'Age.discharge' was calculated using some random date in 2018 and 'Age.at.Discharge' was caculated using   \n",
    "Age = Discharge_date - Birth_date. So we will drop the 'Age.discharge' column."
   ]
  },
  {
   "cell_type": "code",
   "execution_count": 21,
   "metadata": {},
   "outputs": [],
   "source": [
    "master.drop('Age.discharge', axis=1,inplace=True)"
   ]
  },
  {
   "cell_type": "markdown",
   "metadata": {},
   "source": [
    "For the Race columns, we will drop both race_discharge, race_admission, Client.race and race columns as these are redundant and keep the race-1-4 columns from the demographics data"
   ]
  },
  {
   "cell_type": "code",
   "execution_count": 22,
   "metadata": {},
   "outputs": [],
   "source": [
    "master.drop(['Race.discharge','Race.admission','race', 'Client.Race', 'Race'],axis=1,inplace=True)"
   ]
  },
  {
   "cell_type": "code",
   "execution_count": 23,
   "metadata": {},
   "outputs": [
    {
     "name": "stdout",
     "output_type": "stream",
     "text": [
      "['Female' 'Male' nan]\n",
      "['Female' 'Male' 'Unknown']\n",
      "['Female' 'Male' 'Unknown']\n"
     ]
    }
   ],
   "source": [
    "#Removing redundant Sex columns\n",
    "print(master['Sex.x'].unique())\n",
    "print(master['Sex.y'].unique())\n",
    "print(master['gender'].unique())"
   ]
  },
  {
   "cell_type": "code",
   "execution_count": 24,
   "metadata": {},
   "outputs": [],
   "source": [
    "master.loc[master['Sex.y'] == 'Unknown', 'Sex.y'] = np.nan \n",
    "master.loc[master['gender'] == 'Unknown', 'gender'] = np.nan "
   ]
  },
  {
   "cell_type": "code",
   "execution_count": 25,
   "metadata": {},
   "outputs": [
    {
     "name": "stdout",
     "output_type": "stream",
     "text": [
      "['Female' 'Male' nan]\n",
      "['Female' 'Male' nan]\n"
     ]
    }
   ],
   "source": [
    "print(master['Sex.y'].unique())\n",
    "print(master['gender'].unique())"
   ]
  },
  {
   "cell_type": "code",
   "execution_count": 26,
   "metadata": {},
   "outputs": [
    {
     "name": "stdout",
     "output_type": "stream",
     "text": [
      "True\n",
      "True\n"
     ]
    }
   ],
   "source": [
    "print(master['Sex.x'].equals(master['Sex.y']))\n",
    "print(master['Sex.x'].equals(master['gender']))"
   ]
  },
  {
   "cell_type": "markdown",
   "metadata": {},
   "source": [
    "Thus we can now drop both of the columns as well as the Client.gender columns as these are redundant- "
   ]
  },
  {
   "cell_type": "code",
   "execution_count": 27,
   "metadata": {},
   "outputs": [],
   "source": [
    "master.drop(['Sex.y','gender','Client.Gender'], axis=1, inplace=True)"
   ]
  },
  {
   "cell_type": "code",
   "execution_count": 28,
   "metadata": {},
   "outputs": [
    {
     "name": "stdout",
     "output_type": "stream",
     "text": [
      "True\n",
      "True\n"
     ]
    }
   ],
   "source": [
    "#Checking Date of Birth\n",
    "print(master['Date.of.Birth.x'].equals(master['Date.of.Birth.y']))\n",
    "print(master['Date.of.Birth.x'].equals(master['data.birth']))"
   ]
  },
  {
   "cell_type": "code",
   "execution_count": 29,
   "metadata": {},
   "outputs": [],
   "source": [
    "#Thus we can drop two of these columns and keep one\n",
    "master.drop(['Date.of.Birth.y','data.birth'], axis=1,inplace=True)"
   ]
  },
  {
   "cell_type": "markdown",
   "metadata": {},
   "source": [
    "We notice that the data-set has values of 99/88 in place of Unknown/NA. Let's replace all 99 and 88 values with Nan:"
   ]
  },
  {
   "cell_type": "code",
   "execution_count": 30,
   "metadata": {},
   "outputs": [],
   "source": [
    "master.replace([99,88,'99','88','n/A','N/A','Unknown'],np.nan, inplace=True)"
   ]
  },
  {
   "cell_type": "code",
   "execution_count": 31,
   "metadata": {},
   "outputs": [
    {
     "data": {
      "text/html": [
       "<div>\n",
       "<style>\n",
       "    .dataframe thead tr:only-child th {\n",
       "        text-align: right;\n",
       "    }\n",
       "\n",
       "    .dataframe thead th {\n",
       "        text-align: left;\n",
       "    }\n",
       "\n",
       "    .dataframe tbody tr th {\n",
       "        vertical-align: top;\n",
       "    }\n",
       "</style>\n",
       "<table border=\"1\" class=\"dataframe\">\n",
       "  <thead>\n",
       "    <tr style=\"text-align: right;\">\n",
       "      <th></th>\n",
       "      <th>Form.Date</th>\n",
       "      <th>Staff.admission</th>\n",
       "      <th>Client.Number</th>\n",
       "      <th>Age.of.first.use.(Primary)</th>\n",
       "      <th>Age.of.first.use.(Secondary)</th>\n",
       "      <th>Age.of.first.use.(Tertiary)</th>\n",
       "      <th>Are.any.children.living.with.someone.else.due.to.CPS.court.order.or.other.action</th>\n",
       "      <th>CHSR.Dimension.1.admission</th>\n",
       "      <th>CHSR.Dimension.2.admission</th>\n",
       "      <th>CHSR.Dimension.3.admission</th>\n",
       "      <th>...</th>\n",
       "      <th>Race1</th>\n",
       "      <th>Race2</th>\n",
       "      <th>Race3</th>\n",
       "      <th>Race4</th>\n",
       "      <th>Program</th>\n",
       "      <th>Code</th>\n",
       "      <th>start.service.data</th>\n",
       "      <th>end.service.data</th>\n",
       "      <th>number.hours</th>\n",
       "      <th>year</th>\n",
       "    </tr>\n",
       "  </thead>\n",
       "  <tbody>\n",
       "    <tr>\n",
       "      <th>0</th>\n",
       "      <td>12/5/2014 0:00</td>\n",
       "      <td>Stewart, Lorene</td>\n",
       "      <td>111156598</td>\n",
       "      <td>13.0</td>\n",
       "      <td>19</td>\n",
       "      <td>13</td>\n",
       "      <td>Not applicable - No children/no child protect ...</td>\n",
       "      <td>Minor problem</td>\n",
       "      <td>Minor problem</td>\n",
       "      <td>Moderate problem</td>\n",
       "      <td>...</td>\n",
       "      <td>White</td>\n",
       "      <td>NaN</td>\n",
       "      <td>NaN</td>\n",
       "      <td>NaN</td>\n",
       "      <td>Treatment - Family - Outpatient</td>\n",
       "      <td>H2035 HH HQ U60945: IOP Family - IDD w/kids - ...</td>\n",
       "      <td>12/3/2014 0:00</td>\n",
       "      <td>12/30/2014 0:00</td>\n",
       "      <td>47.0</td>\n",
       "      <td>2014</td>\n",
       "    </tr>\n",
       "    <tr>\n",
       "      <th>1</th>\n",
       "      <td>11/10/2014 0:00</td>\n",
       "      <td>Salsness, Carrie</td>\n",
       "      <td>111156572</td>\n",
       "      <td>9.0</td>\n",
       "      <td>9</td>\n",
       "      <td>0</td>\n",
       "      <td>Not applicable - No children/no child protect ...</td>\n",
       "      <td>No problem</td>\n",
       "      <td>No problem</td>\n",
       "      <td>Moderate problem</td>\n",
       "      <td>...</td>\n",
       "      <td>Black or African American</td>\n",
       "      <td>NaN</td>\n",
       "      <td>NaN</td>\n",
       "      <td>NaN</td>\n",
       "      <td>Treatment - IDD Men</td>\n",
       "      <td>H2035 HH0944: IDD - Individual - Drug</td>\n",
       "      <td>11/6/2014 0:00</td>\n",
       "      <td>12/17/2014 0:00</td>\n",
       "      <td>87.0</td>\n",
       "      <td>2014</td>\n",
       "    </tr>\n",
       "    <tr>\n",
       "      <th>2</th>\n",
       "      <td>11/14/2014 0:00</td>\n",
       "      <td>Salsness, Carrie</td>\n",
       "      <td>111156525</td>\n",
       "      <td>16.0</td>\n",
       "      <td>0</td>\n",
       "      <td>0</td>\n",
       "      <td>Not applicable - No children/no child protect ...</td>\n",
       "      <td>No problem</td>\n",
       "      <td>No problem</td>\n",
       "      <td>Moderate problem</td>\n",
       "      <td>...</td>\n",
       "      <td>White</td>\n",
       "      <td>NaN</td>\n",
       "      <td>NaN</td>\n",
       "      <td>NaN</td>\n",
       "      <td>Treatment - Relapse Men</td>\n",
       "      <td>H2035 HQ0945: Relapse - Group - Alcohol</td>\n",
       "      <td>11/14/2014 0:00</td>\n",
       "      <td>12/26/2014 0:00</td>\n",
       "      <td>78.0</td>\n",
       "      <td>2014</td>\n",
       "    </tr>\n",
       "    <tr>\n",
       "      <th>3</th>\n",
       "      <td>1/29/2015 0:00</td>\n",
       "      <td>Stewart, Lorene</td>\n",
       "      <td>111157248</td>\n",
       "      <td>14.0</td>\n",
       "      <td>14</td>\n",
       "      <td>35</td>\n",
       "      <td>Not applicable - No children/no child protect ...</td>\n",
       "      <td>No problem</td>\n",
       "      <td>Minor problem</td>\n",
       "      <td>Minor problem</td>\n",
       "      <td>...</td>\n",
       "      <td>Black or African American</td>\n",
       "      <td>NaN</td>\n",
       "      <td>NaN</td>\n",
       "      <td>NaN</td>\n",
       "      <td>Treatment - IDD Women</td>\n",
       "      <td>H2035 HH0945: IDD - Individual - Alcohol</td>\n",
       "      <td>1/28/2015 0:00</td>\n",
       "      <td>5/1/2015 0:00</td>\n",
       "      <td>221.0</td>\n",
       "      <td>2015</td>\n",
       "    </tr>\n",
       "    <tr>\n",
       "      <th>5</th>\n",
       "      <td>1/8/2015 0:00</td>\n",
       "      <td>Stewart, Lorene</td>\n",
       "      <td>111156911</td>\n",
       "      <td>12.0</td>\n",
       "      <td>0</td>\n",
       "      <td>0</td>\n",
       "      <td>Yes</td>\n",
       "      <td>No problem</td>\n",
       "      <td>Moderate problem</td>\n",
       "      <td>Minor problem</td>\n",
       "      <td>...</td>\n",
       "      <td>White</td>\n",
       "      <td>NaN</td>\n",
       "      <td>NaN</td>\n",
       "      <td>NaN</td>\n",
       "      <td>Treatment - Family - Outpatient</td>\n",
       "      <td>H2035 HH HQ U60944: IOP Family - IDD w/kids - ...</td>\n",
       "      <td>1/16/2015 0:00</td>\n",
       "      <td>5/7/2015 0:00</td>\n",
       "      <td>202.0</td>\n",
       "      <td>2015</td>\n",
       "    </tr>\n",
       "    <tr>\n",
       "      <th>6</th>\n",
       "      <td>1/9/2015 0:00</td>\n",
       "      <td>Stewart, Lorene</td>\n",
       "      <td>111156735</td>\n",
       "      <td>40.0</td>\n",
       "      <td>23</td>\n",
       "      <td>21</td>\n",
       "      <td>Not applicable - No children/no child protect ...</td>\n",
       "      <td>Moderate problem</td>\n",
       "      <td>Moderate problem</td>\n",
       "      <td>Minor problem</td>\n",
       "      <td>...</td>\n",
       "      <td>Declined to Specify</td>\n",
       "      <td>NaN</td>\n",
       "      <td>NaN</td>\n",
       "      <td>NaN</td>\n",
       "      <td>Treatment - Relapse Women</td>\n",
       "      <td>H2035 HQ0944: UBH/Medica - Hourly - Group - Re...</td>\n",
       "      <td>1/7/2015 0:00</td>\n",
       "      <td>2/4/2015 0:00</td>\n",
       "      <td>43.0</td>\n",
       "      <td>2015</td>\n",
       "    </tr>\n",
       "    <tr>\n",
       "      <th>7</th>\n",
       "      <td>1/14/2015 0:00</td>\n",
       "      <td>Stewart, Lorene</td>\n",
       "      <td>111156952</td>\n",
       "      <td>18.0</td>\n",
       "      <td>14</td>\n",
       "      <td>14</td>\n",
       "      <td>Not applicable - No children/no child protect ...</td>\n",
       "      <td>No problem</td>\n",
       "      <td>Moderate problem</td>\n",
       "      <td>Moderate problem</td>\n",
       "      <td>...</td>\n",
       "      <td>Black or African American</td>\n",
       "      <td>NaN</td>\n",
       "      <td>NaN</td>\n",
       "      <td>NaN</td>\n",
       "      <td>Treatment - IDD Men</td>\n",
       "      <td>H2035 HH HQ0945: IDD - Group - Alcohol</td>\n",
       "      <td>1/13/2015 0:00</td>\n",
       "      <td>3/4/2015 0:00</td>\n",
       "      <td>78.0</td>\n",
       "      <td>2015</td>\n",
       "    </tr>\n",
       "    <tr>\n",
       "      <th>9</th>\n",
       "      <td>1/22/2015 0:00</td>\n",
       "      <td>Ans, Rachel</td>\n",
       "      <td>111157035</td>\n",
       "      <td>12.0</td>\n",
       "      <td>12</td>\n",
       "      <td>12</td>\n",
       "      <td>Not applicable - No children/no child protect ...</td>\n",
       "      <td>No problem</td>\n",
       "      <td>No problem</td>\n",
       "      <td>Moderate problem</td>\n",
       "      <td>...</td>\n",
       "      <td>White</td>\n",
       "      <td>NaN</td>\n",
       "      <td>NaN</td>\n",
       "      <td>NaN</td>\n",
       "      <td>Treatment - IDD Men</td>\n",
       "      <td>H2035 HH HQ0944: IDD - Group - Drug</td>\n",
       "      <td>1/21/2015 0:00</td>\n",
       "      <td>4/10/2015 0:00</td>\n",
       "      <td>177.0</td>\n",
       "      <td>2015</td>\n",
       "    </tr>\n",
       "    <tr>\n",
       "      <th>10</th>\n",
       "      <td>1/22/2015 0:00</td>\n",
       "      <td>Ans, Rachel</td>\n",
       "      <td>111157109</td>\n",
       "      <td>17.0</td>\n",
       "      <td>23</td>\n",
       "      <td>12</td>\n",
       "      <td>Not applicable - No children/no child protect ...</td>\n",
       "      <td>No problem</td>\n",
       "      <td>No problem</td>\n",
       "      <td>Moderate problem</td>\n",
       "      <td>...</td>\n",
       "      <td>White</td>\n",
       "      <td>NaN</td>\n",
       "      <td>NaN</td>\n",
       "      <td>NaN</td>\n",
       "      <td>Treatment - Relapse Men</td>\n",
       "      <td>H2035 HQ0945: Relapse - Group - Alcohol</td>\n",
       "      <td>1/20/2015 0:00</td>\n",
       "      <td>4/10/2015 0:00</td>\n",
       "      <td>205.0</td>\n",
       "      <td>2015</td>\n",
       "    </tr>\n",
       "    <tr>\n",
       "      <th>11</th>\n",
       "      <td>1/26/2015 0:00</td>\n",
       "      <td>Stewart, Lorene</td>\n",
       "      <td>111157042</td>\n",
       "      <td>NaN</td>\n",
       "      <td>NaN</td>\n",
       "      <td>NaN</td>\n",
       "      <td>Not applicable - No children/no child protect ...</td>\n",
       "      <td>No problem</td>\n",
       "      <td>Minor problem</td>\n",
       "      <td>Minor problem</td>\n",
       "      <td>...</td>\n",
       "      <td>Black or African American</td>\n",
       "      <td>NaN</td>\n",
       "      <td>NaN</td>\n",
       "      <td>NaN</td>\n",
       "      <td>Treatment - Relapse Men</td>\n",
       "      <td>H2035 HQ0944: Relapse - Group - Drug</td>\n",
       "      <td>1/23/2015 0:00</td>\n",
       "      <td>4/17/2015 0:00</td>\n",
       "      <td>192.0</td>\n",
       "      <td>2015</td>\n",
       "    </tr>\n",
       "  </tbody>\n",
       "</table>\n",
       "<p>10 rows × 103 columns</p>\n",
       "</div>"
      ],
      "text/plain": [
       "          Form.Date   Staff.admission Client.Number  \\\n",
       "0    12/5/2014 0:00   Stewart, Lorene     111156598   \n",
       "1   11/10/2014 0:00  Salsness, Carrie     111156572   \n",
       "2   11/14/2014 0:00  Salsness, Carrie     111156525   \n",
       "3    1/29/2015 0:00   Stewart, Lorene     111157248   \n",
       "5     1/8/2015 0:00   Stewart, Lorene     111156911   \n",
       "6     1/9/2015 0:00   Stewart, Lorene     111156735   \n",
       "7    1/14/2015 0:00   Stewart, Lorene     111156952   \n",
       "9    1/22/2015 0:00       Ans, Rachel     111157035   \n",
       "10   1/22/2015 0:00       Ans, Rachel     111157109   \n",
       "11   1/26/2015 0:00   Stewart, Lorene     111157042   \n",
       "\n",
       "    Age.of.first.use.(Primary) Age.of.first.use.(Secondary)  \\\n",
       "0                         13.0                           19   \n",
       "1                          9.0                            9   \n",
       "2                         16.0                            0   \n",
       "3                         14.0                           14   \n",
       "5                         12.0                            0   \n",
       "6                         40.0                           23   \n",
       "7                         18.0                           14   \n",
       "9                         12.0                           12   \n",
       "10                        17.0                           23   \n",
       "11                         NaN                          NaN   \n",
       "\n",
       "   Age.of.first.use.(Tertiary)  \\\n",
       "0                           13   \n",
       "1                            0   \n",
       "2                            0   \n",
       "3                           35   \n",
       "5                            0   \n",
       "6                           21   \n",
       "7                           14   \n",
       "9                           12   \n",
       "10                          12   \n",
       "11                         NaN   \n",
       "\n",
       "   Are.any.children.living.with.someone.else.due.to.CPS.court.order.or.other.action  \\\n",
       "0   Not applicable - No children/no child protect ...                                 \n",
       "1   Not applicable - No children/no child protect ...                                 \n",
       "2   Not applicable - No children/no child protect ...                                 \n",
       "3   Not applicable - No children/no child protect ...                                 \n",
       "5                                                 Yes                                 \n",
       "6   Not applicable - No children/no child protect ...                                 \n",
       "7   Not applicable - No children/no child protect ...                                 \n",
       "9   Not applicable - No children/no child protect ...                                 \n",
       "10  Not applicable - No children/no child protect ...                                 \n",
       "11  Not applicable - No children/no child protect ...                                 \n",
       "\n",
       "   CHSR.Dimension.1.admission CHSR.Dimension.2.admission  \\\n",
       "0               Minor problem              Minor problem   \n",
       "1                  No problem                 No problem   \n",
       "2                  No problem                 No problem   \n",
       "3                  No problem              Minor problem   \n",
       "5                  No problem           Moderate problem   \n",
       "6            Moderate problem           Moderate problem   \n",
       "7                  No problem           Moderate problem   \n",
       "9                  No problem                 No problem   \n",
       "10                 No problem                 No problem   \n",
       "11                 No problem              Minor problem   \n",
       "\n",
       "   CHSR.Dimension.3.admission  ...                       Race1 Race2 Race3  \\\n",
       "0            Moderate problem  ...                       White   NaN   NaN   \n",
       "1            Moderate problem  ...   Black or African American   NaN   NaN   \n",
       "2            Moderate problem  ...                       White   NaN   NaN   \n",
       "3               Minor problem  ...   Black or African American   NaN   NaN   \n",
       "5               Minor problem  ...                       White   NaN   NaN   \n",
       "6               Minor problem  ...         Declined to Specify   NaN   NaN   \n",
       "7            Moderate problem  ...   Black or African American   NaN   NaN   \n",
       "9            Moderate problem  ...                       White   NaN   NaN   \n",
       "10           Moderate problem  ...                       White   NaN   NaN   \n",
       "11              Minor problem  ...   Black or African American   NaN   NaN   \n",
       "\n",
       "   Race4                          Program  \\\n",
       "0    NaN  Treatment - Family - Outpatient   \n",
       "1    NaN              Treatment - IDD Men   \n",
       "2    NaN          Treatment - Relapse Men   \n",
       "3    NaN            Treatment - IDD Women   \n",
       "5    NaN  Treatment - Family - Outpatient   \n",
       "6    NaN        Treatment - Relapse Women   \n",
       "7    NaN              Treatment - IDD Men   \n",
       "9    NaN              Treatment - IDD Men   \n",
       "10   NaN          Treatment - Relapse Men   \n",
       "11   NaN          Treatment - Relapse Men   \n",
       "\n",
       "                                                 Code start.service.data  \\\n",
       "0   H2035 HH HQ U60945: IOP Family - IDD w/kids - ...     12/3/2014 0:00   \n",
       "1               H2035 HH0944: IDD - Individual - Drug     11/6/2014 0:00   \n",
       "2             H2035 HQ0945: Relapse - Group - Alcohol    11/14/2014 0:00   \n",
       "3            H2035 HH0945: IDD - Individual - Alcohol     1/28/2015 0:00   \n",
       "5   H2035 HH HQ U60944: IOP Family - IDD w/kids - ...     1/16/2015 0:00   \n",
       "6   H2035 HQ0944: UBH/Medica - Hourly - Group - Re...      1/7/2015 0:00   \n",
       "7              H2035 HH HQ0945: IDD - Group - Alcohol     1/13/2015 0:00   \n",
       "9                 H2035 HH HQ0944: IDD - Group - Drug     1/21/2015 0:00   \n",
       "10            H2035 HQ0945: Relapse - Group - Alcohol     1/20/2015 0:00   \n",
       "11               H2035 HQ0944: Relapse - Group - Drug     1/23/2015 0:00   \n",
       "\n",
       "   end.service.data number.hours  year  \n",
       "0   12/30/2014 0:00         47.0  2014  \n",
       "1   12/17/2014 0:00         87.0  2014  \n",
       "2   12/26/2014 0:00         78.0  2014  \n",
       "3     5/1/2015 0:00        221.0  2015  \n",
       "5     5/7/2015 0:00        202.0  2015  \n",
       "6     2/4/2015 0:00         43.0  2015  \n",
       "7     3/4/2015 0:00         78.0  2015  \n",
       "9    4/10/2015 0:00        177.0  2015  \n",
       "10   4/10/2015 0:00        205.0  2015  \n",
       "11   4/17/2015 0:00        192.0  2015  \n",
       "\n",
       "[10 rows x 103 columns]"
      ]
     },
     "execution_count": 31,
     "metadata": {},
     "output_type": "execute_result"
    }
   ],
   "source": [
    "master.head(10)"
   ]
  },
  {
   "cell_type": "code",
   "execution_count": 32,
   "metadata": {},
   "outputs": [
    {
     "name": "stdout",
     "output_type": "stream",
     "text": [
      "False\n"
     ]
    }
   ],
   "source": [
    "#Looking at some of the columns related to involvement with children\n",
    "print(master['Number.of.children'].equals(master['How.many.children']))"
   ]
  },
  {
   "cell_type": "code",
   "execution_count": 33,
   "metadata": {},
   "outputs": [
    {
     "data": {
      "text/html": [
       "<div>\n",
       "<style>\n",
       "    .dataframe thead tr:only-child th {\n",
       "        text-align: right;\n",
       "    }\n",
       "\n",
       "    .dataframe thead th {\n",
       "        text-align: left;\n",
       "    }\n",
       "\n",
       "    .dataframe tbody tr th {\n",
       "        vertical-align: top;\n",
       "    }\n",
       "</style>\n",
       "<table border=\"1\" class=\"dataframe\">\n",
       "  <thead>\n",
       "    <tr style=\"text-align: right;\">\n",
       "      <th></th>\n",
       "      <th>Number.of.children</th>\n",
       "      <th>How.many.children</th>\n",
       "    </tr>\n",
       "  </thead>\n",
       "  <tbody>\n",
       "    <tr>\n",
       "      <th>0</th>\n",
       "      <td>2.0</td>\n",
       "      <td>2.0</td>\n",
       "    </tr>\n",
       "    <tr>\n",
       "      <th>1</th>\n",
       "      <td>NaN</td>\n",
       "      <td>NaN</td>\n",
       "    </tr>\n",
       "    <tr>\n",
       "      <th>2</th>\n",
       "      <td>NaN</td>\n",
       "      <td>1.0</td>\n",
       "    </tr>\n",
       "    <tr>\n",
       "      <th>3</th>\n",
       "      <td>3.0</td>\n",
       "      <td>NaN</td>\n",
       "    </tr>\n",
       "    <tr>\n",
       "      <th>5</th>\n",
       "      <td>4.0</td>\n",
       "      <td>4.0</td>\n",
       "    </tr>\n",
       "    <tr>\n",
       "      <th>6</th>\n",
       "      <td>NaN</td>\n",
       "      <td>4.0</td>\n",
       "    </tr>\n",
       "    <tr>\n",
       "      <th>7</th>\n",
       "      <td>0.0</td>\n",
       "      <td>0.0</td>\n",
       "    </tr>\n",
       "    <tr>\n",
       "      <th>9</th>\n",
       "      <td>0.0</td>\n",
       "      <td>0.0</td>\n",
       "    </tr>\n",
       "    <tr>\n",
       "      <th>10</th>\n",
       "      <td>3.0</td>\n",
       "      <td>3.0</td>\n",
       "    </tr>\n",
       "    <tr>\n",
       "      <th>11</th>\n",
       "      <td>2.0</td>\n",
       "      <td>3.0</td>\n",
       "    </tr>\n",
       "    <tr>\n",
       "      <th>12</th>\n",
       "      <td>NaN</td>\n",
       "      <td>NaN</td>\n",
       "    </tr>\n",
       "    <tr>\n",
       "      <th>14</th>\n",
       "      <td>0.0</td>\n",
       "      <td>NaN</td>\n",
       "    </tr>\n",
       "    <tr>\n",
       "      <th>15</th>\n",
       "      <td>3.0</td>\n",
       "      <td>5.0</td>\n",
       "    </tr>\n",
       "    <tr>\n",
       "      <th>16</th>\n",
       "      <td>10.0</td>\n",
       "      <td>NaN</td>\n",
       "    </tr>\n",
       "    <tr>\n",
       "      <th>17</th>\n",
       "      <td>NaN</td>\n",
       "      <td>0.0</td>\n",
       "    </tr>\n",
       "    <tr>\n",
       "      <th>18</th>\n",
       "      <td>1.0</td>\n",
       "      <td>1.0</td>\n",
       "    </tr>\n",
       "    <tr>\n",
       "      <th>19</th>\n",
       "      <td>NaN</td>\n",
       "      <td>1.0</td>\n",
       "    </tr>\n",
       "    <tr>\n",
       "      <th>20</th>\n",
       "      <td>NaN</td>\n",
       "      <td>0.0</td>\n",
       "    </tr>\n",
       "    <tr>\n",
       "      <th>21</th>\n",
       "      <td>5.0</td>\n",
       "      <td>5.0</td>\n",
       "    </tr>\n",
       "    <tr>\n",
       "      <th>22</th>\n",
       "      <td>NaN</td>\n",
       "      <td>0.0</td>\n",
       "    </tr>\n",
       "    <tr>\n",
       "      <th>23</th>\n",
       "      <td>5.0</td>\n",
       "      <td>NaN</td>\n",
       "    </tr>\n",
       "    <tr>\n",
       "      <th>24</th>\n",
       "      <td>NaN</td>\n",
       "      <td>1.0</td>\n",
       "    </tr>\n",
       "    <tr>\n",
       "      <th>25</th>\n",
       "      <td>NaN</td>\n",
       "      <td>2.0</td>\n",
       "    </tr>\n",
       "    <tr>\n",
       "      <th>26</th>\n",
       "      <td>4.0</td>\n",
       "      <td>0.0</td>\n",
       "    </tr>\n",
       "    <tr>\n",
       "      <th>27</th>\n",
       "      <td>NaN</td>\n",
       "      <td>1.0</td>\n",
       "    </tr>\n",
       "    <tr>\n",
       "      <th>28</th>\n",
       "      <td>3.0</td>\n",
       "      <td>1.0</td>\n",
       "    </tr>\n",
       "    <tr>\n",
       "      <th>29</th>\n",
       "      <td>2.0</td>\n",
       "      <td>3.0</td>\n",
       "    </tr>\n",
       "    <tr>\n",
       "      <th>30</th>\n",
       "      <td>1.0</td>\n",
       "      <td>1.0</td>\n",
       "    </tr>\n",
       "    <tr>\n",
       "      <th>31</th>\n",
       "      <td>3.0</td>\n",
       "      <td>4.0</td>\n",
       "    </tr>\n",
       "    <tr>\n",
       "      <th>32</th>\n",
       "      <td>NaN</td>\n",
       "      <td>0.0</td>\n",
       "    </tr>\n",
       "    <tr>\n",
       "      <th>...</th>\n",
       "      <td>...</td>\n",
       "      <td>...</td>\n",
       "    </tr>\n",
       "    <tr>\n",
       "      <th>796</th>\n",
       "      <td>0.0</td>\n",
       "      <td>NaN</td>\n",
       "    </tr>\n",
       "    <tr>\n",
       "      <th>797</th>\n",
       "      <td>1.0</td>\n",
       "      <td>1.0</td>\n",
       "    </tr>\n",
       "    <tr>\n",
       "      <th>798</th>\n",
       "      <td>0.0</td>\n",
       "      <td>NaN</td>\n",
       "    </tr>\n",
       "    <tr>\n",
       "      <th>799</th>\n",
       "      <td>0.0</td>\n",
       "      <td>0.0</td>\n",
       "    </tr>\n",
       "    <tr>\n",
       "      <th>800</th>\n",
       "      <td>NaN</td>\n",
       "      <td>NaN</td>\n",
       "    </tr>\n",
       "    <tr>\n",
       "      <th>801</th>\n",
       "      <td>0.0</td>\n",
       "      <td>0.0</td>\n",
       "    </tr>\n",
       "    <tr>\n",
       "      <th>802</th>\n",
       "      <td>NaN</td>\n",
       "      <td>3.0</td>\n",
       "    </tr>\n",
       "    <tr>\n",
       "      <th>803</th>\n",
       "      <td>2.0</td>\n",
       "      <td>2.0</td>\n",
       "    </tr>\n",
       "    <tr>\n",
       "      <th>804</th>\n",
       "      <td>0.0</td>\n",
       "      <td>0.0</td>\n",
       "    </tr>\n",
       "    <tr>\n",
       "      <th>805</th>\n",
       "      <td>0.0</td>\n",
       "      <td>0.0</td>\n",
       "    </tr>\n",
       "    <tr>\n",
       "      <th>806</th>\n",
       "      <td>NaN</td>\n",
       "      <td>1.0</td>\n",
       "    </tr>\n",
       "    <tr>\n",
       "      <th>807</th>\n",
       "      <td>3.0</td>\n",
       "      <td>3.0</td>\n",
       "    </tr>\n",
       "    <tr>\n",
       "      <th>808</th>\n",
       "      <td>1.0</td>\n",
       "      <td>1.0</td>\n",
       "    </tr>\n",
       "    <tr>\n",
       "      <th>809</th>\n",
       "      <td>NaN</td>\n",
       "      <td>NaN</td>\n",
       "    </tr>\n",
       "    <tr>\n",
       "      <th>810</th>\n",
       "      <td>1.0</td>\n",
       "      <td>1.0</td>\n",
       "    </tr>\n",
       "    <tr>\n",
       "      <th>811</th>\n",
       "      <td>0.0</td>\n",
       "      <td>0.0</td>\n",
       "    </tr>\n",
       "    <tr>\n",
       "      <th>812</th>\n",
       "      <td>NaN</td>\n",
       "      <td>0.0</td>\n",
       "    </tr>\n",
       "    <tr>\n",
       "      <th>813</th>\n",
       "      <td>1.0</td>\n",
       "      <td>2.0</td>\n",
       "    </tr>\n",
       "    <tr>\n",
       "      <th>814</th>\n",
       "      <td>3.0</td>\n",
       "      <td>3.0</td>\n",
       "    </tr>\n",
       "    <tr>\n",
       "      <th>815</th>\n",
       "      <td>0.0</td>\n",
       "      <td>0.0</td>\n",
       "    </tr>\n",
       "    <tr>\n",
       "      <th>816</th>\n",
       "      <td>2.0</td>\n",
       "      <td>2.0</td>\n",
       "    </tr>\n",
       "    <tr>\n",
       "      <th>817</th>\n",
       "      <td>1.0</td>\n",
       "      <td>1.0</td>\n",
       "    </tr>\n",
       "    <tr>\n",
       "      <th>818</th>\n",
       "      <td>2.0</td>\n",
       "      <td>0.0</td>\n",
       "    </tr>\n",
       "    <tr>\n",
       "      <th>819</th>\n",
       "      <td>1.0</td>\n",
       "      <td>1.0</td>\n",
       "    </tr>\n",
       "    <tr>\n",
       "      <th>820</th>\n",
       "      <td>NaN</td>\n",
       "      <td>NaN</td>\n",
       "    </tr>\n",
       "    <tr>\n",
       "      <th>821</th>\n",
       "      <td>NaN</td>\n",
       "      <td>4.0</td>\n",
       "    </tr>\n",
       "    <tr>\n",
       "      <th>822</th>\n",
       "      <td>NaN</td>\n",
       "      <td>0.0</td>\n",
       "    </tr>\n",
       "    <tr>\n",
       "      <th>823</th>\n",
       "      <td>2.0</td>\n",
       "      <td>2.0</td>\n",
       "    </tr>\n",
       "    <tr>\n",
       "      <th>825</th>\n",
       "      <td>0.0</td>\n",
       "      <td>0.0</td>\n",
       "    </tr>\n",
       "    <tr>\n",
       "      <th>826</th>\n",
       "      <td>0.0</td>\n",
       "      <td>0.0</td>\n",
       "    </tr>\n",
       "  </tbody>\n",
       "</table>\n",
       "<p>793 rows × 2 columns</p>\n",
       "</div>"
      ],
      "text/plain": [
       "     Number.of.children  How.many.children\n",
       "0                   2.0                2.0\n",
       "1                   NaN                NaN\n",
       "2                   NaN                1.0\n",
       "3                   3.0                NaN\n",
       "5                   4.0                4.0\n",
       "6                   NaN                4.0\n",
       "7                   0.0                0.0\n",
       "9                   0.0                0.0\n",
       "10                  3.0                3.0\n",
       "11                  2.0                3.0\n",
       "12                  NaN                NaN\n",
       "14                  0.0                NaN\n",
       "15                  3.0                5.0\n",
       "16                 10.0                NaN\n",
       "17                  NaN                0.0\n",
       "18                  1.0                1.0\n",
       "19                  NaN                1.0\n",
       "20                  NaN                0.0\n",
       "21                  5.0                5.0\n",
       "22                  NaN                0.0\n",
       "23                  5.0                NaN\n",
       "24                  NaN                1.0\n",
       "25                  NaN                2.0\n",
       "26                  4.0                0.0\n",
       "27                  NaN                1.0\n",
       "28                  3.0                1.0\n",
       "29                  2.0                3.0\n",
       "30                  1.0                1.0\n",
       "31                  3.0                4.0\n",
       "32                  NaN                0.0\n",
       "..                  ...                ...\n",
       "796                 0.0                NaN\n",
       "797                 1.0                1.0\n",
       "798                 0.0                NaN\n",
       "799                 0.0                0.0\n",
       "800                 NaN                NaN\n",
       "801                 0.0                0.0\n",
       "802                 NaN                3.0\n",
       "803                 2.0                2.0\n",
       "804                 0.0                0.0\n",
       "805                 0.0                0.0\n",
       "806                 NaN                1.0\n",
       "807                 3.0                3.0\n",
       "808                 1.0                1.0\n",
       "809                 NaN                NaN\n",
       "810                 1.0                1.0\n",
       "811                 0.0                0.0\n",
       "812                 NaN                0.0\n",
       "813                 1.0                2.0\n",
       "814                 3.0                3.0\n",
       "815                 0.0                0.0\n",
       "816                 2.0                2.0\n",
       "817                 1.0                1.0\n",
       "818                 2.0                0.0\n",
       "819                 1.0                1.0\n",
       "820                 NaN                NaN\n",
       "821                 NaN                4.0\n",
       "822                 NaN                0.0\n",
       "823                 2.0                2.0\n",
       "825                 0.0                0.0\n",
       "826                 0.0                0.0\n",
       "\n",
       "[793 rows x 2 columns]"
      ]
     },
     "execution_count": 33,
     "metadata": {},
     "output_type": "execute_result"
    }
   ],
   "source": [
    "master[['Number.of.children','How.many.children']]"
   ]
  },
  {
   "cell_type": "markdown",
   "metadata": {},
   "source": [
    "Looks like a lot of values are inconsistent! ** Which one do we pick?? **   \n",
    "Converting the other number of children column to a numeric column from categorical."
   ]
  },
  {
   "cell_type": "code",
   "execution_count": 34,
   "metadata": {},
   "outputs": [
    {
     "data": {
      "text/plain": [
       "array(['No children/no child protection involvement', 'Four', 'One',\n",
       "       'Three', 'Five', nan, 'Two', 'Ten or more', 'Six', 'Seven'], dtype=object)"
      ]
     },
     "execution_count": 34,
     "metadata": {},
     "output_type": "execute_result"
    }
   ],
   "source": [
    "master['How.many.of.the.children.are.living.with.someone.else.for.these.reasons'].unique()"
   ]
  },
  {
   "cell_type": "code",
   "execution_count": 35,
   "metadata": {},
   "outputs": [],
   "source": [
    "#Converting into numeric column\n",
    "conv_dict = {'How.many.of.the.children.are.living.with.someone.else.for.these.reasons': \n",
    "             {\"One\": 1, \"Two\" : 2, \"Three\":3, \"Four\":4, \"Five\":5, \"Six\":6,\"Seven\":7, \"Ten or more\": 10,\n",
    "                \"No children/no child protection involvement\": 0, \"Unknown\": np.nan}}\n",
    "master.replace(conv_dict, inplace=True)"
   ]
  },
  {
   "cell_type": "code",
   "execution_count": 36,
   "metadata": {},
   "outputs": [
    {
     "data": {
      "text/plain": [
       "array([  0.,   4.,   1.,   3.,   5.,  nan,   2.,  10.,   6.,   7.])"
      ]
     },
     "execution_count": 36,
     "metadata": {},
     "output_type": "execute_result"
    }
   ],
   "source": [
    "master['How.many.of.the.children.are.living.with.someone.else.for.these.reasons'].unique()"
   ]
  },
  {
   "cell_type": "code",
   "execution_count": 37,
   "metadata": {},
   "outputs": [
    {
     "data": {
      "text/plain": [
       "array(['No children/no child protection involvement', 'Three', 'One',\n",
       "       'Two', nan, 'Four', 'Five', 'Ten or more'], dtype=object)"
      ]
     },
     "execution_count": 37,
     "metadata": {},
     "output_type": "execute_result"
    }
   ],
   "source": [
    "master['For.how.many.children.has.the.client.lost.parental.rights'].unique()"
   ]
  },
  {
   "cell_type": "code",
   "execution_count": 38,
   "metadata": {},
   "outputs": [],
   "source": [
    "conv_dict = {'For.how.many.children.has.the.client.lost.parental.rights': \n",
    "             {\"One\": 1, \"Two\" : 2, \"Three\":3, \"Four\":4, \"Five\":5, \"Six\":6,\"Seven\":7, \"Ten or more\": 10,\n",
    "                \"No children/no child protection involvement\": 0, \"Unknown\": np.nan}}\n",
    "master.replace(conv_dict, inplace=True)"
   ]
  },
  {
   "cell_type": "code",
   "execution_count": 39,
   "metadata": {},
   "outputs": [
    {
     "data": {
      "text/plain": [
       "array([  0.,   3.,   1.,   2.,  nan,   4.,   5.,  10.])"
      ]
     },
     "execution_count": 39,
     "metadata": {},
     "output_type": "execute_result"
    }
   ],
   "source": [
    "master['For.how.many.children.has.the.client.lost.parental.rights'].unique()"
   ]
  },
  {
   "cell_type": "markdown",
   "metadata": {},
   "source": [
    "Looking at the columns - 'Hispanic.Ethnicity' and 'Client.Ethnicity'"
   ]
  },
  {
   "cell_type": "code",
   "execution_count": 40,
   "metadata": {},
   "outputs": [
    {
     "data": {
      "text/html": [
       "<div>\n",
       "<style>\n",
       "    .dataframe thead tr:only-child th {\n",
       "        text-align: right;\n",
       "    }\n",
       "\n",
       "    .dataframe thead th {\n",
       "        text-align: left;\n",
       "    }\n",
       "\n",
       "    .dataframe tbody tr th {\n",
       "        vertical-align: top;\n",
       "    }\n",
       "</style>\n",
       "<table border=\"1\" class=\"dataframe\">\n",
       "  <thead>\n",
       "    <tr style=\"text-align: right;\">\n",
       "      <th></th>\n",
       "      <th>Hispanic.Ethnicity</th>\n",
       "      <th>Client.Ethnicity</th>\n",
       "    </tr>\n",
       "  </thead>\n",
       "  <tbody>\n",
       "    <tr>\n",
       "      <th>0</th>\n",
       "      <td>Not of Hispanic Origin</td>\n",
       "      <td>Not Entered</td>\n",
       "    </tr>\n",
       "    <tr>\n",
       "      <th>1</th>\n",
       "      <td>Not of Hispanic Origin</td>\n",
       "      <td>Not Entered</td>\n",
       "    </tr>\n",
       "    <tr>\n",
       "      <th>2</th>\n",
       "      <td>Not of Hispanic Origin</td>\n",
       "      <td>Not Hispanic or Latino</td>\n",
       "    </tr>\n",
       "    <tr>\n",
       "      <th>3</th>\n",
       "      <td>Not of Hispanic Origin</td>\n",
       "      <td>NaN</td>\n",
       "    </tr>\n",
       "    <tr>\n",
       "      <th>5</th>\n",
       "      <td>Not of Hispanic Origin</td>\n",
       "      <td>NaN</td>\n",
       "    </tr>\n",
       "    <tr>\n",
       "      <th>6</th>\n",
       "      <td>Not of Hispanic Origin</td>\n",
       "      <td>NaN</td>\n",
       "    </tr>\n",
       "    <tr>\n",
       "      <th>7</th>\n",
       "      <td>Not of Hispanic Origin</td>\n",
       "      <td>NaN</td>\n",
       "    </tr>\n",
       "    <tr>\n",
       "      <th>9</th>\n",
       "      <td>Not of Hispanic Origin</td>\n",
       "      <td>NaN</td>\n",
       "    </tr>\n",
       "    <tr>\n",
       "      <th>10</th>\n",
       "      <td>Not of Hispanic Origin</td>\n",
       "      <td>NaN</td>\n",
       "    </tr>\n",
       "    <tr>\n",
       "      <th>11</th>\n",
       "      <td>Not of Hispanic Origin</td>\n",
       "      <td>Not Hispanic or Latino</td>\n",
       "    </tr>\n",
       "    <tr>\n",
       "      <th>12</th>\n",
       "      <td>Not of Hispanic Origin</td>\n",
       "      <td>Not Hispanic or Latino</td>\n",
       "    </tr>\n",
       "    <tr>\n",
       "      <th>14</th>\n",
       "      <td>Not of Hispanic Origin</td>\n",
       "      <td>Not Hispanic or Latino</td>\n",
       "    </tr>\n",
       "    <tr>\n",
       "      <th>15</th>\n",
       "      <td>Puerto Rican</td>\n",
       "      <td>Hispanic or Lation</td>\n",
       "    </tr>\n",
       "    <tr>\n",
       "      <th>16</th>\n",
       "      <td>Not of Hispanic Origin</td>\n",
       "      <td>Not Hispanic or Latino</td>\n",
       "    </tr>\n",
       "    <tr>\n",
       "      <th>17</th>\n",
       "      <td>Not of Hispanic Origin</td>\n",
       "      <td>Not Hispanic or Latino</td>\n",
       "    </tr>\n",
       "    <tr>\n",
       "      <th>18</th>\n",
       "      <td>Not of Hispanic Origin</td>\n",
       "      <td>Not Entered</td>\n",
       "    </tr>\n",
       "    <tr>\n",
       "      <th>19</th>\n",
       "      <td>Not of Hispanic Origin</td>\n",
       "      <td>NaN</td>\n",
       "    </tr>\n",
       "    <tr>\n",
       "      <th>20</th>\n",
       "      <td>Not of Hispanic Origin</td>\n",
       "      <td>NaN</td>\n",
       "    </tr>\n",
       "    <tr>\n",
       "      <th>21</th>\n",
       "      <td>Not of Hispanic Origin</td>\n",
       "      <td>NaN</td>\n",
       "    </tr>\n",
       "    <tr>\n",
       "      <th>22</th>\n",
       "      <td>Puerto Rican</td>\n",
       "      <td>NaN</td>\n",
       "    </tr>\n",
       "    <tr>\n",
       "      <th>23</th>\n",
       "      <td>Not of Hispanic Origin</td>\n",
       "      <td>Not Hispanic or Latino</td>\n",
       "    </tr>\n",
       "    <tr>\n",
       "      <th>24</th>\n",
       "      <td>Not of Hispanic Origin</td>\n",
       "      <td>NaN</td>\n",
       "    </tr>\n",
       "    <tr>\n",
       "      <th>25</th>\n",
       "      <td>Not of Hispanic Origin</td>\n",
       "      <td>NaN</td>\n",
       "    </tr>\n",
       "    <tr>\n",
       "      <th>26</th>\n",
       "      <td>Not of Hispanic Origin</td>\n",
       "      <td>Not Entered</td>\n",
       "    </tr>\n",
       "    <tr>\n",
       "      <th>27</th>\n",
       "      <td>Not of Hispanic Origin</td>\n",
       "      <td>Not Hispanic or Latino</td>\n",
       "    </tr>\n",
       "    <tr>\n",
       "      <th>28</th>\n",
       "      <td>Not of Hispanic Origin</td>\n",
       "      <td>Not Hispanic or Latino</td>\n",
       "    </tr>\n",
       "    <tr>\n",
       "      <th>29</th>\n",
       "      <td>Not of Hispanic Origin</td>\n",
       "      <td>Not Entered</td>\n",
       "    </tr>\n",
       "    <tr>\n",
       "      <th>30</th>\n",
       "      <td>Not of Hispanic Origin</td>\n",
       "      <td>NaN</td>\n",
       "    </tr>\n",
       "    <tr>\n",
       "      <th>31</th>\n",
       "      <td>Not of Hispanic Origin</td>\n",
       "      <td>Not Hispanic or Latino</td>\n",
       "    </tr>\n",
       "    <tr>\n",
       "      <th>32</th>\n",
       "      <td>Not of Hispanic Origin</td>\n",
       "      <td>Not Hispanic or Latino</td>\n",
       "    </tr>\n",
       "    <tr>\n",
       "      <th>...</th>\n",
       "      <td>...</td>\n",
       "      <td>...</td>\n",
       "    </tr>\n",
       "    <tr>\n",
       "      <th>796</th>\n",
       "      <td>Not of Hispanic Origin</td>\n",
       "      <td>Not Hispanic or Latino</td>\n",
       "    </tr>\n",
       "    <tr>\n",
       "      <th>797</th>\n",
       "      <td>Mexican</td>\n",
       "      <td>NaN</td>\n",
       "    </tr>\n",
       "    <tr>\n",
       "      <th>798</th>\n",
       "      <td>Not of Hispanic Origin</td>\n",
       "      <td>Not Entered</td>\n",
       "    </tr>\n",
       "    <tr>\n",
       "      <th>799</th>\n",
       "      <td>Not of Hispanic Origin</td>\n",
       "      <td>Not Hispanic or Latino</td>\n",
       "    </tr>\n",
       "    <tr>\n",
       "      <th>800</th>\n",
       "      <td>Not of Hispanic Origin</td>\n",
       "      <td>Not Hispanic or Latino</td>\n",
       "    </tr>\n",
       "    <tr>\n",
       "      <th>801</th>\n",
       "      <td>Not of Hispanic Origin</td>\n",
       "      <td>NaN</td>\n",
       "    </tr>\n",
       "    <tr>\n",
       "      <th>802</th>\n",
       "      <td>Mexican</td>\n",
       "      <td>Not Entered</td>\n",
       "    </tr>\n",
       "    <tr>\n",
       "      <th>803</th>\n",
       "      <td>Not of Hispanic Origin</td>\n",
       "      <td>Not Entered</td>\n",
       "    </tr>\n",
       "    <tr>\n",
       "      <th>804</th>\n",
       "      <td>Not of Hispanic Origin</td>\n",
       "      <td>Not Hispanic or Latino</td>\n",
       "    </tr>\n",
       "    <tr>\n",
       "      <th>805</th>\n",
       "      <td>Cuban</td>\n",
       "      <td>Not Hispanic or Latino</td>\n",
       "    </tr>\n",
       "    <tr>\n",
       "      <th>806</th>\n",
       "      <td>Not of Hispanic Origin</td>\n",
       "      <td>Hispanic or Lation</td>\n",
       "    </tr>\n",
       "    <tr>\n",
       "      <th>807</th>\n",
       "      <td>Not of Hispanic Origin</td>\n",
       "      <td>Not Entered</td>\n",
       "    </tr>\n",
       "    <tr>\n",
       "      <th>808</th>\n",
       "      <td>Not of Hispanic Origin</td>\n",
       "      <td>NaN</td>\n",
       "    </tr>\n",
       "    <tr>\n",
       "      <th>809</th>\n",
       "      <td>Other Hispanic</td>\n",
       "      <td>Hispanic or Lation</td>\n",
       "    </tr>\n",
       "    <tr>\n",
       "      <th>810</th>\n",
       "      <td>Not of Hispanic Origin</td>\n",
       "      <td>Not Hispanic or Latino</td>\n",
       "    </tr>\n",
       "    <tr>\n",
       "      <th>811</th>\n",
       "      <td>Not of Hispanic Origin</td>\n",
       "      <td>Not Entered</td>\n",
       "    </tr>\n",
       "    <tr>\n",
       "      <th>812</th>\n",
       "      <td>Not of Hispanic Origin</td>\n",
       "      <td>NaN</td>\n",
       "    </tr>\n",
       "    <tr>\n",
       "      <th>813</th>\n",
       "      <td>Not of Hispanic Origin</td>\n",
       "      <td>Not Entered</td>\n",
       "    </tr>\n",
       "    <tr>\n",
       "      <th>814</th>\n",
       "      <td>Not of Hispanic Origin</td>\n",
       "      <td>Not Entered</td>\n",
       "    </tr>\n",
       "    <tr>\n",
       "      <th>815</th>\n",
       "      <td>Not of Hispanic Origin</td>\n",
       "      <td>Not Hispanic or Latino</td>\n",
       "    </tr>\n",
       "    <tr>\n",
       "      <th>816</th>\n",
       "      <td>Not of Hispanic Origin</td>\n",
       "      <td>Not Entered</td>\n",
       "    </tr>\n",
       "    <tr>\n",
       "      <th>817</th>\n",
       "      <td>Not of Hispanic Origin</td>\n",
       "      <td>NaN</td>\n",
       "    </tr>\n",
       "    <tr>\n",
       "      <th>818</th>\n",
       "      <td>Not of Hispanic Origin</td>\n",
       "      <td>Not Entered</td>\n",
       "    </tr>\n",
       "    <tr>\n",
       "      <th>819</th>\n",
       "      <td>Not of Hispanic Origin</td>\n",
       "      <td>Not Entered</td>\n",
       "    </tr>\n",
       "    <tr>\n",
       "      <th>820</th>\n",
       "      <td>Not of Hispanic Origin</td>\n",
       "      <td>Not Entered</td>\n",
       "    </tr>\n",
       "    <tr>\n",
       "      <th>821</th>\n",
       "      <td>Other Hispanic</td>\n",
       "      <td>Hispanic or Lation</td>\n",
       "    </tr>\n",
       "    <tr>\n",
       "      <th>822</th>\n",
       "      <td>Not of Hispanic Origin</td>\n",
       "      <td>Not Entered</td>\n",
       "    </tr>\n",
       "    <tr>\n",
       "      <th>823</th>\n",
       "      <td>Not of Hispanic Origin</td>\n",
       "      <td>Not Hispanic or Latino</td>\n",
       "    </tr>\n",
       "    <tr>\n",
       "      <th>825</th>\n",
       "      <td>Not of Hispanic Origin</td>\n",
       "      <td>Not Hispanic or Latino</td>\n",
       "    </tr>\n",
       "    <tr>\n",
       "      <th>826</th>\n",
       "      <td>Not of Hispanic Origin</td>\n",
       "      <td>NaN</td>\n",
       "    </tr>\n",
       "  </tbody>\n",
       "</table>\n",
       "<p>793 rows × 2 columns</p>\n",
       "</div>"
      ],
      "text/plain": [
       "         Hispanic.Ethnicity        Client.Ethnicity\n",
       "0    Not of Hispanic Origin             Not Entered\n",
       "1    Not of Hispanic Origin             Not Entered\n",
       "2    Not of Hispanic Origin  Not Hispanic or Latino\n",
       "3    Not of Hispanic Origin                     NaN\n",
       "5    Not of Hispanic Origin                     NaN\n",
       "6    Not of Hispanic Origin                     NaN\n",
       "7    Not of Hispanic Origin                     NaN\n",
       "9    Not of Hispanic Origin                     NaN\n",
       "10   Not of Hispanic Origin                     NaN\n",
       "11   Not of Hispanic Origin  Not Hispanic or Latino\n",
       "12   Not of Hispanic Origin  Not Hispanic or Latino\n",
       "14   Not of Hispanic Origin  Not Hispanic or Latino\n",
       "15             Puerto Rican      Hispanic or Lation\n",
       "16   Not of Hispanic Origin  Not Hispanic or Latino\n",
       "17   Not of Hispanic Origin  Not Hispanic or Latino\n",
       "18   Not of Hispanic Origin             Not Entered\n",
       "19   Not of Hispanic Origin                     NaN\n",
       "20   Not of Hispanic Origin                     NaN\n",
       "21   Not of Hispanic Origin                     NaN\n",
       "22             Puerto Rican                     NaN\n",
       "23   Not of Hispanic Origin  Not Hispanic or Latino\n",
       "24   Not of Hispanic Origin                     NaN\n",
       "25   Not of Hispanic Origin                     NaN\n",
       "26   Not of Hispanic Origin             Not Entered\n",
       "27   Not of Hispanic Origin  Not Hispanic or Latino\n",
       "28   Not of Hispanic Origin  Not Hispanic or Latino\n",
       "29   Not of Hispanic Origin             Not Entered\n",
       "30   Not of Hispanic Origin                     NaN\n",
       "31   Not of Hispanic Origin  Not Hispanic or Latino\n",
       "32   Not of Hispanic Origin  Not Hispanic or Latino\n",
       "..                      ...                     ...\n",
       "796  Not of Hispanic Origin  Not Hispanic or Latino\n",
       "797                 Mexican                     NaN\n",
       "798  Not of Hispanic Origin             Not Entered\n",
       "799  Not of Hispanic Origin  Not Hispanic or Latino\n",
       "800  Not of Hispanic Origin  Not Hispanic or Latino\n",
       "801  Not of Hispanic Origin                     NaN\n",
       "802                 Mexican             Not Entered\n",
       "803  Not of Hispanic Origin             Not Entered\n",
       "804  Not of Hispanic Origin  Not Hispanic or Latino\n",
       "805                   Cuban  Not Hispanic or Latino\n",
       "806  Not of Hispanic Origin      Hispanic or Lation\n",
       "807  Not of Hispanic Origin             Not Entered\n",
       "808  Not of Hispanic Origin                     NaN\n",
       "809          Other Hispanic      Hispanic or Lation\n",
       "810  Not of Hispanic Origin  Not Hispanic or Latino\n",
       "811  Not of Hispanic Origin             Not Entered\n",
       "812  Not of Hispanic Origin                     NaN\n",
       "813  Not of Hispanic Origin             Not Entered\n",
       "814  Not of Hispanic Origin             Not Entered\n",
       "815  Not of Hispanic Origin  Not Hispanic or Latino\n",
       "816  Not of Hispanic Origin             Not Entered\n",
       "817  Not of Hispanic Origin                     NaN\n",
       "818  Not of Hispanic Origin             Not Entered\n",
       "819  Not of Hispanic Origin             Not Entered\n",
       "820  Not of Hispanic Origin             Not Entered\n",
       "821          Other Hispanic      Hispanic or Lation\n",
       "822  Not of Hispanic Origin             Not Entered\n",
       "823  Not of Hispanic Origin  Not Hispanic or Latino\n",
       "825  Not of Hispanic Origin  Not Hispanic or Latino\n",
       "826  Not of Hispanic Origin                     NaN\n",
       "\n",
       "[793 rows x 2 columns]"
      ]
     },
     "execution_count": 40,
     "metadata": {},
     "output_type": "execute_result"
    }
   ],
   "source": [
    "master[['Hispanic.Ethnicity','Client.Ethnicity']]"
   ]
  },
  {
   "cell_type": "markdown",
   "metadata": {},
   "source": [
    "Looking at the columns, since 'Hispanic.Ethnicity' seems to have more information than 'Client.Ethnicity' let's retain the first column"
   ]
  },
  {
   "cell_type": "code",
   "execution_count": 41,
   "metadata": {},
   "outputs": [],
   "source": [
    "master.drop('Client.Ethnicity', axis=1, inplace=True)"
   ]
  },
  {
   "cell_type": "markdown",
   "metadata": {},
   "source": [
    "Looking at the Substance abuse problem at Admission and Discharge:"
   ]
  },
  {
   "cell_type": "code",
   "execution_count": 42,
   "metadata": {},
   "outputs": [
    {
     "name": "stdout",
     "output_type": "stream",
     "text": [
      "['Alcohol' 'Other Opiates/Synthetics' nan 'Marijuana/Hashish' 'Crack'\n",
      " 'Methamphetamine' 'Cocaine powder' 'Heroin' 'Cocaine power'\n",
      " 'Benzodiazepines' 'Other Sedative/Hypnotic/Anxiolytic' 'PCP'\n",
      " 'Other Stimulants' 'Other' 'Inhalants' 'Other Amphetamines']\n"
     ]
    },
    {
     "data": {
      "text/plain": [
       "array(['Alcohol', 'Marijuana/Hashish', 'Other Opiates/Synthetics',\n",
       "       'Heroin', 'Crack', 'Methamphetamine', 'Cocaine power',\n",
       "       'Non-prescription Methadone', 'Benzodiazepines', 'Cocaine powder',\n",
       "       'PCP', 'Other'], dtype=object)"
      ]
     },
     "execution_count": 42,
     "metadata": {},
     "output_type": "execute_result"
    }
   ],
   "source": [
    "print(master['Substance.abuse.problem.at.Discharge'].unique())\n",
    "master['Primary.substance.abuse.problem'].unique()"
   ]
  },
  {
   "cell_type": "markdown",
   "metadata": {},
   "source": [
    "We can see that there are two entries - 'Cocaine pow*d*er' & 'Cocaine power' which has clearly been misspelt, Let's correct this: "
   ]
  },
  {
   "cell_type": "code",
   "execution_count": 43,
   "metadata": {},
   "outputs": [
    {
     "name": "stdout",
     "output_type": "stream",
     "text": [
      "['Alcohol' 'Other Opiates/Synthetics' nan 'Marijuana/Hashish' 'Crack'\n",
      " 'Methamphetamine' 'Cocaine powder' 'Heroin' 'Benzodiazepines'\n",
      " 'Other Sedative/Hypnotic/Anxiolytic' 'PCP' 'Other Stimulants' 'Other'\n",
      " 'Inhalants' 'Other Amphetamines']\n"
     ]
    },
    {
     "data": {
      "text/plain": [
       "array(['Alcohol', 'Marijuana/Hashish', 'Other Opiates/Synthetics',\n",
       "       'Heroin', 'Crack', 'Methamphetamine', 'Cocaine powder',\n",
       "       'Non-prescription Methadone', 'Benzodiazepines', 'PCP', 'Other'], dtype=object)"
      ]
     },
     "execution_count": 43,
     "metadata": {},
     "output_type": "execute_result"
    }
   ],
   "source": [
    "#replacing the values:\n",
    "master.loc[master['Substance.abuse.problem.at.Discharge'] == 'Cocaine power', \n",
    "           'Substance.abuse.problem.at.Discharge'] =  'Cocaine powder'\n",
    "master.loc[master['Primary.substance.abuse.problem'] == 'Cocaine power', \n",
    "           'Primary.substance.abuse.problem'] = 'Cocaine powder'\n",
    "\n",
    "print(master['Substance.abuse.problem.at.Discharge'].unique())\n",
    "master['Primary.substance.abuse.problem'].unique()"
   ]
  },
  {
   "cell_type": "code",
   "execution_count": 44,
   "metadata": {},
   "outputs": [
    {
     "data": {
      "text/plain": [
       "['Form.Date',\n",
       " 'Staff.admission',\n",
       " 'Client.Number',\n",
       " 'Age.of.first.use.(Primary)',\n",
       " 'Age.of.first.use.(Secondary)',\n",
       " 'Age.of.first.use.(Tertiary)',\n",
       " 'Are.any.children.living.with.someone.else.due.to.CPS.court.order.or.other.action',\n",
       " 'CHSR.Dimension.1.admission',\n",
       " 'CHSR.Dimension.2.admission',\n",
       " 'CHSR.Dimension.3.admission',\n",
       " 'CHSR.Dimension.4.admission',\n",
       " 'CHSR.Dimension.5.admission',\n",
       " 'CHSR.Dimension.6.admission',\n",
       " 'Client.currently.involved.with.CPS',\n",
       " 'Current.CD.Treatment.admission',\n",
       " 'Current.labor.status',\n",
       " 'Current.marital.status',\n",
       " 'Currently.enrolled.in.school.or.job.training.program',\n",
       " 'Currently.smoke.cigarettes',\n",
       " 'Currently.under.the.jurisdiction.of.the.court.or.on.probation.parole.of',\n",
       " 'Did.drug.court.refer',\n",
       " 'Does.client.have.children',\n",
       " 'Does.this.involvement.result.from',\n",
       " \"Driver's.license.revoked.due.to.DWI\",\n",
       " 'Education',\n",
       " 'For.how.many.children.has.the.client.lost.parental.rights',\n",
       " 'Hispanic.Ethnicity',\n",
       " 'History.of.injection.drug.use',\n",
       " 'How.many.children',\n",
       " 'How.many.of.the.children.are.living.with.someone.else.for.these.reasons',\n",
       " 'Interaction.with.supportive.family.friends.in.past.30.days',\n",
       " 'Legal.status.at.admission',\n",
       " 'Number.of.arrests.in.lifetime',\n",
       " 'Number.of.arrests.in.past.30.days',\n",
       " 'Number.of.days.used.in.past.30.(Primary)',\n",
       " 'Number.of.days.used.in.past.30.(Secondary)',\n",
       " 'Number.of.days.used.in.past.30.(Tertiary)',\n",
       " 'Number.of.days,.in.past.30.days,.has.client.used.alcohol.(99.unknown)',\n",
       " 'Number.of.days,.in.past.30.days,.has.client.used.illicit.drugs.(99.unknown)',\n",
       " 'Number.of.lifetime.detoxification.admissions',\n",
       " 'Number.of.lifetime.treatment.episodes.in.CD.treatment.program.(no.detox)',\n",
       " 'Number.of.times.at.self.help.programs.in.past.30.days.(eg..AA,.NA)',\n",
       " 'Opioid.Replacement.therapy.planned',\n",
       " 'Pregnancy.status.at.admission',\n",
       " 'Primary.condition.surrounding.admission',\n",
       " 'Primary.condition.surrounding.admission.1',\n",
       " 'Primary.source.of.income',\n",
       " 'Primary.Source.of.Referral',\n",
       " 'Primary.substance.abuse.problem',\n",
       " 'Reside.on.reservation',\n",
       " 'Route.of.administration.(Primary)',\n",
       " 'Route.of.administration.(Secondary)',\n",
       " 'Route.of.Administration.(Tertiary)',\n",
       " 'Secondary.Source.of.Referral',\n",
       " 'Secondary.substance.abuse.problem',\n",
       " 'Tertiary.substance.abuse.problem',\n",
       " 'Tribal.enrollment',\n",
       " 'Type.of.Insurance',\n",
       " 'Usual.living.situation',\n",
       " 'Veteran.status',\n",
       " 'Was.client.in.jail.in.past.30.days',\n",
       " 'Was.client.in.prison.in.past.30.days',\n",
       " 'Where.has.client.been.living.in.past.30.days',\n",
       " 'Years.of.schooling',\n",
       " 'Form.Date.discharge',\n",
       " 'Staff.discharge',\n",
       " 'CHSR.Dimension.1',\n",
       " 'CHSR.Dimension.2',\n",
       " 'CHSR.Dimension.3',\n",
       " 'CHSR.Dimension.4',\n",
       " 'CHSR.Dimension.5',\n",
       " 'CHSR.Dimension.6',\n",
       " 'CPS.involvement.results.from',\n",
       " 'Current.CD.Treatment',\n",
       " 'Current.labor.force.status',\n",
       " 'Currently.involved.with.CPS',\n",
       " 'Does.client.have.children',\n",
       " 'DSM.CD.Diagnosis',\n",
       " 'DSM.CD.Diagnosis..Secondary.',\n",
       " 'Enrolled.in.school.or.job.training',\n",
       " 'Number.of.children',\n",
       " 'Number.of.self.help.programs.attended.in.past.30.days',\n",
       " 'Reason.for.Discharge',\n",
       " 'Secondary.substance.abuse.problem',\n",
       " 'Substance.abuse.problem.at.Discharge',\n",
       " 'Tertiary.substance.abuse.problem',\n",
       " 'Where.client.has.been.living.in.past.30.days',\n",
       " 'Date.of.Birth.x',\n",
       " 'Sex.x',\n",
       " 'Ratio.living.elsewhere',\n",
       " 'Last.Discharge.Date',\n",
       " 'Age.at.Discharge',\n",
       " 'Race1',\n",
       " 'Race2',\n",
       " 'Race3',\n",
       " 'Race4',\n",
       " 'Program',\n",
       " 'Code',\n",
       " 'start.service.data',\n",
       " 'end.service.data',\n",
       " 'number.hours',\n",
       " 'year']"
      ]
     },
     "execution_count": 44,
     "metadata": {},
     "output_type": "execute_result"
    }
   ],
   "source": [
    "list(master.columns)"
   ]
  },
  {
   "cell_type": "markdown",
   "metadata": {},
   "source": [
    "Looking at where client has been living for the past 30 days columns:"
   ]
  },
  {
   "cell_type": "code",
   "execution_count": 45,
   "metadata": {},
   "outputs": [
    {
     "name": "stdout",
     "output_type": "stream",
     "text": [
      "[ 'Dependent living - dependent children and/or adults living in a supervised setting'\n",
      " 'Homless - no fixed address (includes shelters)'\n",
      " 'Children living with their family'\n",
      " 'Independent living - including on own, self supported and non-supervised group homes'\n",
      " nan]\n",
      "[ 'Independent living - including on own, self supported and non-supervised group homes '\n",
      " nan\n",
      " 'Dependent living - dependent children and/or adults living in a supervised setting'\n",
      " 'Homeless - no fixed address (includes shelters)'\n",
      " 'Children living with their family']\n"
     ]
    }
   ],
   "source": [
    "Living_adm = master['Where.has.client.been.living.in.past.30.days'].unique()\n",
    "Living_dis = master['Where.client.has.been.living.in.past.30.days'].unique()\n",
    "print(Living_adm)\n",
    "print(Living_dis)"
   ]
  },
  {
   "cell_type": "code",
   "execution_count": 46,
   "metadata": {},
   "outputs": [],
   "source": [
    "#Replacing nan with Unknown for analysis\n",
    "master['Where.client.has.been.living.in.past.30.days'] = [str(val).strip() for val in master['Where.client.has.been.living.in.past.30.days']]\n",
    "\n",
    "master.loc[master['Where.client.has.been.living.in.past.30.days'] == 'nan', \n",
    "           'Where.client.has.been.living.in.past.30.days'] = np.nan\n",
    "\n",
    "master.loc[master['Where.has.client.been.living.in.past.30.days'] == 'Homless - no fixed address (includes shelters)', \n",
    "           'Where.has.client.been.living.in.past.30.days'] = 'Homeless - no fixed address (includes shelters)'"
   ]
  },
  {
   "cell_type": "markdown",
   "metadata": {},
   "source": [
    "Looking at how many self help programs client has attended in the past 30 days:"
   ]
  },
  {
   "cell_type": "code",
   "execution_count": 47,
   "metadata": {},
   "outputs": [
    {
     "name": "stdout",
     "output_type": "stream",
     "text": [
      "['16-30 times past month (0ver 3 times per week)' 'No attendance'\n",
      " '1-3 times past month (less than once per week)'\n",
      " '4-7 times past month (once per week)'\n",
      " '8-15 times past month (2 or 3 times per week)'\n",
      " 'Some attendance, but frequency unknown' nan]\n",
      "['Some attendance, but frequency unknown '\n",
      " '1-3 times past month (less than once per week)'\n",
      " '8-15 times past month (2 or 3 times per week)' nan\n",
      " '4-7 times past month (once per week)' 'No attendance'\n",
      " '16-30 times past month (0ver 3 times per week)']\n"
     ]
    }
   ],
   "source": [
    "self_adm = master['Number.of.times.at.self.help.programs.in.past.30.days.(eg..AA,.NA)'].unique()\n",
    "self_dis = master['Number.of.self.help.programs.attended.in.past.30.days'].unique()\n",
    "print(self_adm)\n",
    "print(self_dis)"
   ]
  },
  {
   "cell_type": "code",
   "execution_count": 48,
   "metadata": {},
   "outputs": [],
   "source": [
    "master['Number.of.self.help.programs.attended.in.past.30.days'] = [str(val).strip() for val in master['Number.of.self.help.programs.attended.in.past.30.days']]\n",
    "\n",
    "master.loc[master['Number.of.self.help.programs.attended.in.past.30.days'] == 'nan', \n",
    "           'Number.of.self.help.programs.attended.in.past.30.days'] = np.nan"
   ]
  },
  {
   "cell_type": "code",
   "execution_count": 49,
   "metadata": {},
   "outputs": [
    {
     "name": "stdout",
     "output_type": "stream",
     "text": [
      "['16-30 times past month (0ver 3 times per week)' 'No attendance'\n",
      " '1-3 times past month (less than once per week)'\n",
      " '4-7 times past month (once per week)'\n",
      " '8-15 times past month (2 or 3 times per week)'\n",
      " 'Some attendance, but frequency unknown' nan]\n",
      "['Some attendance, but frequency unknown'\n",
      " '1-3 times past month (less than once per week)'\n",
      " '8-15 times past month (2 or 3 times per week)' nan\n",
      " '4-7 times past month (once per week)' 'No attendance'\n",
      " '16-30 times past month (0ver 3 times per week)']\n"
     ]
    }
   ],
   "source": [
    "self_adm = master['Number.of.times.at.self.help.programs.in.past.30.days.(eg..AA,.NA)'].unique()\n",
    "self_dis = master['Number.of.self.help.programs.attended.in.past.30.days'].unique()\n",
    "print(self_adm)\n",
    "print(self_dis)"
   ]
  },
  {
   "cell_type": "markdown",
   "metadata": {},
   "source": [
    "Let's look at the age of first use columns:"
   ]
  },
  {
   "cell_type": "code",
   "execution_count": 50,
   "metadata": {},
   "outputs": [
    {
     "name": "stdout",
     "output_type": "stream",
     "text": [
      "[  1.30000000e+01   9.00000000e+00   1.60000000e+01   1.40000000e+01\n",
      "   1.20000000e+01   4.00000000e+01   1.80000000e+01   1.70000000e+01\n",
      "              nan   2.10000000e+01   3.90000000e+01   1.50000000e+01\n",
      "   1.10000000e+01   3.20000000e+01   2.20000000e+01   1.90000000e+01\n",
      "   3.70000000e+01   3.10000000e+01   2.50000000e+01   2.60000000e+01\n",
      "   4.90000000e+01   2.80000000e+01   1.00000000e+01   4.80000000e+01\n",
      "   2.90000000e+01   3.00000000e+01   2.70000000e+01   2.40000000e+01\n",
      "   3.60000000e+01   2.30000000e+01   2.00000000e+01   4.40000000e+01\n",
      "   4.70000000e+01   8.00000000e+00   4.20000000e+01   3.40000000e+01\n",
      "   3.30000000e+01   7.00000000e+00   3.80000000e+01   4.30000000e+01\n",
      "   5.30000000e+01   6.20000000e+01   5.00000000e+00   3.50000000e+01\n",
      "   4.60000000e+01   1.00000000e+00   4.00000000e+00   6.00000000e+00\n",
      "   5.00000000e+01   4.10000000e+01   1.45000000e+01   5.10000000e+01\n",
      "   2.01400000e+03   3.00000000e+00   5.60000000e+01]\n",
      "['19' '9' '0' '14' '23' '12' nan '13' '20' '18' '15' '17' '22' '25' '16'\n",
      " '33' '21' '38' '11' '35' '36' '32' '26' '40' '24' '8' '30' '58' '28' '50'\n",
      " '10' '29' '7' '45' '5' '31' '27' '1' '59' '43' '37' '54' '42' '2014' '47'\n",
      " '49' '4' '34']\n",
      "['13' '0' '35' '21' '14' '12' nan '10' '16' '8' '11' '22' '30' '9' '7' '24'\n",
      " '15' '25' '23' '17' '45' '19' '6' '20' '33' '32' '27' '18' '26' '28' '38'\n",
      " '16+' '59' '31' '40' '34' '44' '37']\n"
     ]
    }
   ],
   "source": [
    "print(master['Age.of.first.use.(Primary)'].unique())\n",
    "print(master['Age.of.first.use.(Secondary)'].unique())\n",
    "print(master[ 'Age.of.first.use.(Tertiary)'].unique())"
   ]
  },
  {
   "cell_type": "markdown",
   "metadata": {},
   "source": [
    "Looking at this we notice the first column is stored in an float format because of the NAN values. Let's change this. Also we can see that the first two columns have an instance where age of first use = 2014! We should change this to NA. There is also a value 'n/a' in the second column."
   ]
  },
  {
   "cell_type": "code",
   "execution_count": 51,
   "metadata": {},
   "outputs": [
    {
     "name": "stdout",
     "output_type": "stream",
     "text": [
      "float64\n",
      "float64\n",
      "float64\n"
     ]
    }
   ],
   "source": [
    "master.loc[master['Age.of.first.use.(Primary)'] == 2014, 'Age.of.first.use.(Primary)'] = np.nan\n",
    "\n",
    "master.loc[master['Age.of.first.use.(Tertiary)'] == '16+', 'Age.of.first.use.(Tertiary)'] = 16\n",
    "\n",
    "#converting the columns to int\n",
    "master['Age.of.first.use.(Secondary)'] = pd.to_numeric(master['Age.of.first.use.(Secondary)'])\n",
    "master['Age.of.first.use.(Tertiary)'] = pd.to_numeric(master['Age.of.first.use.(Tertiary)'])\n",
    "\n",
    "print(master['Age.of.first.use.(Primary)'].dtypes)\n",
    "print(master['Age.of.first.use.(Secondary)'].dtypes)\n",
    "print(master['Age.of.first.use.(Tertiary)'].dtypes)"
   ]
  },
  {
   "cell_type": "code",
   "execution_count": 52,
   "metadata": {},
   "outputs": [
    {
     "name": "stdout",
     "output_type": "stream",
     "text": [
      "Lifetime arrests: \n",
      " [   2.   nan    5.    3.   12.   25.    0.   15.   10.    6.    1.    8.\n",
      "    7.    4.   50.   35.   30.   80.   13.    9.   65.   20.   47.   40.\n",
      "  100.   60.   24.   75.  150.   16.   21.   90.   58.   70.  200.   11.\n",
      "   18.   14.   27.   57.   95.  500.   37.   19.   23.   45.   43.   68.]\n",
      "Days used: \n",
      " [   0.   21.    2.   25.   14.   30.   nan    4.    8.   15.    1.   12.\n",
      "    3.    7.    6.   27.    5.   20.   29.   10.   13.  156.   24.    9.\n",
      "  258.   26.   23.   28.   16.   22.]\n",
      "Detox sessions used: \n",
      " [   2.    0.    1.    6.    3.   15.    7.    9.  999.   nan    5.   10.\n",
      "   30.  120.   20.   50.    4.  180.   11.   25.   75.   70.   12.  150.\n",
      "  300.]\n",
      "Years of schooling: \n",
      " ['13' '11' '12' '10' '14' '7' '16' '9' nan '15' '4' '125' '18' '8' '19'\n",
      " '8th']\n"
     ]
    }
   ],
   "source": [
    "#looking at unique values of some columns at admission:\n",
    "print('Lifetime arrests: \\n',master['Number.of.arrests.in.lifetime'].unique())\n",
    "print('Days used: \\n',master['Number.of.days.used.in.past.30.(Secondary)'].unique())\n",
    "print('Detox sessions used: \\n',master['Number.of.lifetime.detoxification.admissions'].unique())\n",
    "print('Years of schooling: \\n',master['Years.of.schooling'].unique())"
   ]
  },
  {
   "cell_type": "markdown",
   "metadata": {},
   "source": [
    "There are some garbage like values:\n",
    "* **Lifetimes arrests:** 100, 150, 200, 500 \n",
    "* **Days used: ** 156 and 258.\n",
    "* **Detox sessions: ** 120, 150, 180, 300, 999 \n",
    "* **Years of schooling: ** 125, 8th\n",
    "\n",
    "Not too sure about how to handle these values."
   ]
  },
  {
   "cell_type": "code",
   "execution_count": 53,
   "metadata": {},
   "outputs": [
    {
     "name": "stdout",
     "output_type": "stream",
     "text": [
      "float64\n"
     ]
    }
   ],
   "source": [
    "# On average a student in grade 8 would have completed 9 years of schooling \n",
    "master.loc[master['Years.of.schooling'] == '8th', 'Years.of.schooling'] = 9 \n",
    "master['Years.of.schooling'] = pd.to_numeric(master['Years.of.schooling'])\n",
    "\n",
    "print(master['Years.of.schooling'].dtypes)"
   ]
  },
  {
   "cell_type": "code",
   "execution_count": 54,
   "metadata": {},
   "outputs": [],
   "source": [
    "#Creating a new comlumn for completed and not completed\n",
    "master = master.assign(Completed = None)\n",
    "for (index,row) in master.iterrows():\n",
    "    if (master.loc[index,'Reason.for.Discharge'] == 'Completed program') or (master.loc[index,'Reason.for.Discharge'] == 'Transferred to other program'):\n",
    "        master.loc[index,'Completed'] = 1\n",
    "    else:\n",
    "        master.loc[index,'Completed'] = 0"
   ]
  },
  {
   "cell_type": "code",
   "execution_count": 55,
   "metadata": {},
   "outputs": [],
   "source": [
    "#Writing the edited file to disk\n",
    "master.to_csv('Master_Edited.csv')"
   ]
  },
  {
   "cell_type": "markdown",
   "metadata": {},
   "source": [
    "## Let us now look at how CHSR Dimensions change from admissions to discharge"
   ]
  },
  {
   "cell_type": "code",
   "execution_count": 56,
   "metadata": {},
   "outputs": [
    {
     "data": {
      "text/html": [
       "<iframe id=\"igraph\" scrolling=\"no\" style=\"border:none;\" seamless=\"seamless\" src=\"https://plot.ly/~Prableen/4.embed\" height=\"525px\" width=\"100%\"></iframe>"
      ],
      "text/plain": [
       "<plotly.tools.PlotlyDisplay object>"
      ]
     },
     "execution_count": 56,
     "metadata": {},
     "output_type": "execute_result"
    }
   ],
   "source": [
    "#CHSR Dimension 1\n",
    "\n",
    "dis = master['CHSR.Dimension.1'].value_counts()\n",
    "adm = master['CHSR.Dimension.1.admission'].value_counts()\n",
    "\n",
    "vals = pd.concat([adm,dis], axis=1)\n",
    "vals.columns = ['Admission','Discharge']\n",
    "\n",
    "Discharge = go.Scatter(x= vals.index, y = vals['Discharge'], mode = 'lines+markers', name = 'DISCHARGE')\n",
    "Admission = go.Scatter(x= vals.index,y = vals['Admission'], mode = 'lines+markers', name = 'ADMISSION')\n",
    "data = [Discharge, Admission]\n",
    "\n",
    "layout = dict(title = 'Dimension 1 - Withdrawal problems: Admission v/s Discharge',\n",
    "              xaxis = dict(title = 'Problem Level'),\n",
    "              yaxis = dict(title = 'Number of Clients'),\n",
    "              )\n",
    "\n",
    "fig = go.Figure(data = data, layout = layout)\n",
    "py.iplot(fig, filename='Dimension1')"
   ]
  },
  {
   "cell_type": "code",
   "execution_count": 57,
   "metadata": {},
   "outputs": [
    {
     "data": {
      "text/html": [
       "<div>\n",
       "<style>\n",
       "    .dataframe thead tr:only-child th {\n",
       "        text-align: right;\n",
       "    }\n",
       "\n",
       "    .dataframe thead th {\n",
       "        text-align: left;\n",
       "    }\n",
       "\n",
       "    .dataframe tbody tr th {\n",
       "        vertical-align: top;\n",
       "    }\n",
       "</style>\n",
       "<table border=\"1\" class=\"dataframe\">\n",
       "  <thead>\n",
       "    <tr style=\"text-align: right;\">\n",
       "      <th></th>\n",
       "      <th>Admission</th>\n",
       "      <th>Discharge</th>\n",
       "    </tr>\n",
       "  </thead>\n",
       "  <tbody>\n",
       "    <tr>\n",
       "      <th>Extreme problem</th>\n",
       "      <td>NaN</td>\n",
       "      <td>0.882724</td>\n",
       "    </tr>\n",
       "    <tr>\n",
       "      <th>Minor problem</th>\n",
       "      <td>25.851198</td>\n",
       "      <td>21.059269</td>\n",
       "    </tr>\n",
       "    <tr>\n",
       "      <th>Moderate problem</th>\n",
       "      <td>6.052963</td>\n",
       "      <td>12.862547</td>\n",
       "    </tr>\n",
       "    <tr>\n",
       "      <th>No problem</th>\n",
       "      <td>67.843632</td>\n",
       "      <td>49.306431</td>\n",
       "    </tr>\n",
       "    <tr>\n",
       "      <th>Serious problem</th>\n",
       "      <td>0.252207</td>\n",
       "      <td>4.539723</td>\n",
       "    </tr>\n",
       "    <tr>\n",
       "      <th>Unable to assess</th>\n",
       "      <td>NaN</td>\n",
       "      <td>11.349306</td>\n",
       "    </tr>\n",
       "  </tbody>\n",
       "</table>\n",
       "</div>"
      ],
      "text/plain": [
       "                  Admission  Discharge\n",
       "Extreme problem         NaN   0.882724\n",
       "Minor problem     25.851198  21.059269\n",
       "Moderate problem   6.052963  12.862547\n",
       "No problem        67.843632  49.306431\n",
       "Serious problem    0.252207   4.539723\n",
       "Unable to assess        NaN  11.349306"
      ]
     },
     "execution_count": 57,
     "metadata": {},
     "output_type": "execute_result"
    }
   ],
   "source": [
    "total_clients = master.shape[0]\n",
    "vals = vals/total_clients*100\n",
    "vals"
   ]
  },
  {
   "cell_type": "markdown",
   "metadata": {},
   "source": [
    "** CHSR Dimension 1 : Acute intoxication/ Withdrawal potential **\n",
    "We notice that the problems in Withdrawal tend to **increase** over the duration of the program.\n",
    "We can see that there were no clients with a serious or extreme problem at admission but there are a few people with serious and moderate problem at discharge. Further the number of people with No problem - have reduced! And number of people having a moderate problem have doubled! "
   ]
  },
  {
   "cell_type": "code",
   "execution_count": 58,
   "metadata": {},
   "outputs": [
    {
     "data": {
      "text/html": [
       "<iframe id=\"igraph\" scrolling=\"no\" style=\"border:none;\" seamless=\"seamless\" src=\"https://plot.ly/~Prableen/6.embed\" height=\"525px\" width=\"100%\"></iframe>"
      ],
      "text/plain": [
       "<plotly.tools.PlotlyDisplay object>"
      ]
     },
     "execution_count": 58,
     "metadata": {},
     "output_type": "execute_result"
    }
   ],
   "source": [
    "#CHSR Dimension 2\n",
    "\n",
    "dis = master['CHSR.Dimension.2'].value_counts()\n",
    "adm = master['CHSR.Dimension.2.admission'].value_counts()\n",
    "\n",
    "vals = pd.concat([adm,dis], axis=1)\n",
    "vals.columns = ['Admission','Discharge']\n",
    "\n",
    "Discharge = go.Scatter(x= vals.index, y = vals['Discharge'], mode = 'lines+markers', name = 'DISCHARGE')\n",
    "Admission = go.Scatter(x= vals.index,y = vals['Admission'], mode = 'lines+markers', name = 'ADMISSION')\n",
    "data = [Discharge, Admission]\n",
    "\n",
    "layout = dict(title = 'Dimension 2 - Biomedical problems: Admission v/s Discharge',\n",
    "              xaxis = dict(title = 'Problem Level'),\n",
    "              yaxis = dict(title = 'Number of Clients'),\n",
    "              )\n",
    "\n",
    "fig = go.Figure(data = data, layout = layout)\n",
    "py.iplot(fig, filename='Dimension2')"
   ]
  },
  {
   "cell_type": "code",
   "execution_count": 59,
   "metadata": {},
   "outputs": [
    {
     "data": {
      "text/html": [
       "<div>\n",
       "<style>\n",
       "    .dataframe thead tr:only-child th {\n",
       "        text-align: right;\n",
       "    }\n",
       "\n",
       "    .dataframe thead th {\n",
       "        text-align: left;\n",
       "    }\n",
       "\n",
       "    .dataframe tbody tr th {\n",
       "        vertical-align: top;\n",
       "    }\n",
       "</style>\n",
       "<table border=\"1\" class=\"dataframe\">\n",
       "  <thead>\n",
       "    <tr style=\"text-align: right;\">\n",
       "      <th></th>\n",
       "      <th>Admission</th>\n",
       "      <th>Discharge</th>\n",
       "    </tr>\n",
       "  </thead>\n",
       "  <tbody>\n",
       "    <tr>\n",
       "      <th>Extreme problem</th>\n",
       "      <td>NaN</td>\n",
       "      <td>0.504414</td>\n",
       "    </tr>\n",
       "    <tr>\n",
       "      <th>Minor problem</th>\n",
       "      <td>60.277427</td>\n",
       "      <td>44.262295</td>\n",
       "    </tr>\n",
       "    <tr>\n",
       "      <th>Moderate problem</th>\n",
       "      <td>5.422446</td>\n",
       "      <td>10.592686</td>\n",
       "    </tr>\n",
       "    <tr>\n",
       "      <th>No problem</th>\n",
       "      <td>34.047919</td>\n",
       "      <td>30.390921</td>\n",
       "    </tr>\n",
       "    <tr>\n",
       "      <th>Serious problem</th>\n",
       "      <td>0.252207</td>\n",
       "      <td>2.648172</td>\n",
       "    </tr>\n",
       "    <tr>\n",
       "      <th>Unable to assess</th>\n",
       "      <td>NaN</td>\n",
       "      <td>11.601513</td>\n",
       "    </tr>\n",
       "  </tbody>\n",
       "</table>\n",
       "</div>"
      ],
      "text/plain": [
       "                  Admission  Discharge\n",
       "Extreme problem         NaN   0.504414\n",
       "Minor problem     60.277427  44.262295\n",
       "Moderate problem   5.422446  10.592686\n",
       "No problem        34.047919  30.390921\n",
       "Serious problem    0.252207   2.648172\n",
       "Unable to assess        NaN  11.601513"
      ]
     },
     "execution_count": 59,
     "metadata": {},
     "output_type": "execute_result"
    }
   ],
   "source": [
    "total_clients = master.shape[0]\n",
    "vals = vals/total_clients*100\n",
    "vals"
   ]
  },
  {
   "cell_type": "markdown",
   "metadata": {},
   "source": [
    "** CHSR Dimension 2 : Biomedical conditions and complications **\n",
    "We notice that the problems in the CHSR Dimension tend to **increase** over the duration of the program.\n",
    "We can see that there were no or very few clients with a serious/extreme problem at admission but there are a few people with serious and moderate problem at discharge. Further the number of clients having moderate problem has doubled at discharge."
   ]
  },
  {
   "cell_type": "code",
   "execution_count": 60,
   "metadata": {},
   "outputs": [
    {
     "data": {
      "text/html": [
       "<iframe id=\"igraph\" scrolling=\"no\" style=\"border:none;\" seamless=\"seamless\" src=\"https://plot.ly/~Prableen/8.embed\" height=\"525px\" width=\"100%\"></iframe>"
      ],
      "text/plain": [
       "<plotly.tools.PlotlyDisplay object>"
      ]
     },
     "execution_count": 60,
     "metadata": {},
     "output_type": "execute_result"
    }
   ],
   "source": [
    "#CHSR Dimension 3\n",
    "\n",
    "dis = master['CHSR.Dimension.3'].value_counts()\n",
    "adm = master['CHSR.Dimension.3.admission'].value_counts()\n",
    "\n",
    "vals = pd.concat([adm,dis], axis=1)\n",
    "vals.columns = ['Admission','Discharge']\n",
    "\n",
    "Discharge = go.Scatter(x= vals.index, y = vals['Discharge'], mode = 'lines+markers', name = 'DISCHARGE')\n",
    "Admission = go.Scatter(x= vals.index,y = vals['Admission'], mode = 'lines+markers', name = 'ADMISSION')\n",
    "data = [Discharge, Admission]\n",
    "\n",
    "layout = dict(title = 'Dimension 3 - Mental Health problems: Admission v/s Discharge',\n",
    "              xaxis = dict(title = 'Problem Level'),\n",
    "              yaxis = dict(title = 'Number of Clients'),\n",
    "              )\n",
    "\n",
    "fig = go.Figure(data = data, layout = layout)\n",
    "py.iplot(fig, filename='Dimension3')"
   ]
  },
  {
   "cell_type": "code",
   "execution_count": 61,
   "metadata": {},
   "outputs": [
    {
     "data": {
      "text/html": [
       "<div>\n",
       "<style>\n",
       "    .dataframe thead tr:only-child th {\n",
       "        text-align: right;\n",
       "    }\n",
       "\n",
       "    .dataframe thead th {\n",
       "        text-align: left;\n",
       "    }\n",
       "\n",
       "    .dataframe tbody tr th {\n",
       "        vertical-align: top;\n",
       "    }\n",
       "</style>\n",
       "<table border=\"1\" class=\"dataframe\">\n",
       "  <thead>\n",
       "    <tr style=\"text-align: right;\">\n",
       "      <th></th>\n",
       "      <th>Admission</th>\n",
       "      <th>Discharge</th>\n",
       "    </tr>\n",
       "  </thead>\n",
       "  <tbody>\n",
       "    <tr>\n",
       "      <th>Extreme problem</th>\n",
       "      <td>NaN</td>\n",
       "      <td>2.143758</td>\n",
       "    </tr>\n",
       "    <tr>\n",
       "      <th>Minor problem</th>\n",
       "      <td>16.897856</td>\n",
       "      <td>21.311475</td>\n",
       "    </tr>\n",
       "    <tr>\n",
       "      <th>Moderate problem</th>\n",
       "      <td>75.914250</td>\n",
       "      <td>44.892812</td>\n",
       "    </tr>\n",
       "    <tr>\n",
       "      <th>No problem</th>\n",
       "      <td>6.683480</td>\n",
       "      <td>6.179067</td>\n",
       "    </tr>\n",
       "    <tr>\n",
       "      <th>Serious problem</th>\n",
       "      <td>0.504414</td>\n",
       "      <td>14.375788</td>\n",
       "    </tr>\n",
       "    <tr>\n",
       "      <th>Unable to assess</th>\n",
       "      <td>NaN</td>\n",
       "      <td>11.097100</td>\n",
       "    </tr>\n",
       "  </tbody>\n",
       "</table>\n",
       "</div>"
      ],
      "text/plain": [
       "                  Admission  Discharge\n",
       "Extreme problem         NaN   2.143758\n",
       "Minor problem     16.897856  21.311475\n",
       "Moderate problem  75.914250  44.892812\n",
       "No problem         6.683480   6.179067\n",
       "Serious problem    0.504414  14.375788\n",
       "Unable to assess        NaN  11.097100"
      ]
     },
     "execution_count": 61,
     "metadata": {},
     "output_type": "execute_result"
    }
   ],
   "source": [
    "total_clients = master.shape[0]\n",
    "vals = vals/total_clients*100\n",
    "vals"
   ]
  },
  {
   "cell_type": "markdown",
   "metadata": {},
   "source": [
    "** CHSR Dimension 3 : Mental Health Barriers/Problems **\n",
    "We notice that the problems in Mental Health tend to **increase** over the duration of the program.\n",
    "The number of clients having a serious problem has dramatically indreased from 0.5% to 14%! "
   ]
  },
  {
   "cell_type": "code",
   "execution_count": 62,
   "metadata": {},
   "outputs": [
    {
     "data": {
      "text/html": [
       "<iframe id=\"igraph\" scrolling=\"no\" style=\"border:none;\" seamless=\"seamless\" src=\"https://plot.ly/~Prableen/10.embed\" height=\"525px\" width=\"100%\"></iframe>"
      ],
      "text/plain": [
       "<plotly.tools.PlotlyDisplay object>"
      ]
     },
     "execution_count": 62,
     "metadata": {},
     "output_type": "execute_result"
    }
   ],
   "source": [
    "#CHSR Dimension 4\n",
    "\n",
    "dis = master['CHSR.Dimension.4'].value_counts()\n",
    "adm = master['CHSR.Dimension.4.admission'].value_counts()\n",
    "\n",
    "vals = pd.concat([adm,dis], axis=1)\n",
    "vals.columns = ['Admission','Discharge']\n",
    "\n",
    "Discharge = go.Scatter(x= vals.index, y = vals['Discharge'], mode = 'lines+markers', name = 'DISCHARGE')\n",
    "Admission = go.Scatter(x= vals.index,y = vals['Admission'], mode = 'lines+markers', name = 'ADMISSION')\n",
    "data = [Discharge, Admission]\n",
    "\n",
    "layout = dict(title = 'Dimension 4 - Treatment Acceptance problems: Admission v/s Discharge',\n",
    "              xaxis = dict(title = 'Problem Level'),\n",
    "              yaxis = dict(title = 'Number of Clients'),\n",
    "              )\n",
    "\n",
    "fig = go.Figure(data = data, layout = layout)\n",
    "py.iplot(fig, filename='Dimension4')"
   ]
  },
  {
   "cell_type": "code",
   "execution_count": 63,
   "metadata": {},
   "outputs": [
    {
     "data": {
      "text/html": [
       "<div>\n",
       "<style>\n",
       "    .dataframe thead tr:only-child th {\n",
       "        text-align: right;\n",
       "    }\n",
       "\n",
       "    .dataframe thead th {\n",
       "        text-align: left;\n",
       "    }\n",
       "\n",
       "    .dataframe tbody tr th {\n",
       "        vertical-align: top;\n",
       "    }\n",
       "</style>\n",
       "<table border=\"1\" class=\"dataframe\">\n",
       "  <thead>\n",
       "    <tr style=\"text-align: right;\">\n",
       "      <th></th>\n",
       "      <th>Admission</th>\n",
       "      <th>Discharge</th>\n",
       "    </tr>\n",
       "  </thead>\n",
       "  <tbody>\n",
       "    <tr>\n",
       "      <th>Extreme problem</th>\n",
       "      <td>0.126103</td>\n",
       "      <td>5.422446</td>\n",
       "    </tr>\n",
       "    <tr>\n",
       "      <th>Minor problem</th>\n",
       "      <td>42.244641</td>\n",
       "      <td>18.158890</td>\n",
       "    </tr>\n",
       "    <tr>\n",
       "      <th>Moderate problem</th>\n",
       "      <td>45.018916</td>\n",
       "      <td>26.860025</td>\n",
       "    </tr>\n",
       "    <tr>\n",
       "      <th>No problem</th>\n",
       "      <td>9.457755</td>\n",
       "      <td>15.510719</td>\n",
       "    </tr>\n",
       "    <tr>\n",
       "      <th>Serious problem</th>\n",
       "      <td>3.152585</td>\n",
       "      <td>26.229508</td>\n",
       "    </tr>\n",
       "    <tr>\n",
       "      <th>Unable to assess</th>\n",
       "      <td>NaN</td>\n",
       "      <td>7.818411</td>\n",
       "    </tr>\n",
       "  </tbody>\n",
       "</table>\n",
       "</div>"
      ],
      "text/plain": [
       "                  Admission  Discharge\n",
       "Extreme problem    0.126103   5.422446\n",
       "Minor problem     42.244641  18.158890\n",
       "Moderate problem  45.018916  26.860025\n",
       "No problem         9.457755  15.510719\n",
       "Serious problem    3.152585  26.229508\n",
       "Unable to assess        NaN   7.818411"
      ]
     },
     "execution_count": 63,
     "metadata": {},
     "output_type": "execute_result"
    }
   ],
   "source": [
    "total_clients = master.shape[0]\n",
    "vals = vals/total_clients*100\n",
    "vals"
   ]
  },
  {
   "cell_type": "markdown",
   "metadata": {},
   "source": [
    "** CHSR Dimension 4 : Treatment Acceptance **\n",
    "We notice that the problems in Treatment Acceptance tend to **increase** over the duration of the program.\n",
    "We can see that the number of clients with a moderate or minor problem has reduced but there has been a drastic increase in the number of people having a serious problem from 3.15% to **26.2%**!"
   ]
  },
  {
   "cell_type": "code",
   "execution_count": 64,
   "metadata": {},
   "outputs": [
    {
     "data": {
      "text/html": [
       "<iframe id=\"igraph\" scrolling=\"no\" style=\"border:none;\" seamless=\"seamless\" src=\"https://plot.ly/~Prableen/12.embed\" height=\"525px\" width=\"100%\"></iframe>"
      ],
      "text/plain": [
       "<plotly.tools.PlotlyDisplay object>"
      ]
     },
     "execution_count": 64,
     "metadata": {},
     "output_type": "execute_result"
    }
   ],
   "source": [
    "#CHSR Dimension 5\n",
    "\n",
    "dis = master['CHSR.Dimension.5'].value_counts()\n",
    "adm = master['CHSR.Dimension.5.admission'].value_counts()\n",
    "\n",
    "vals = pd.concat([adm,dis], axis=1)\n",
    "vals.columns = ['Admission','Discharge']\n",
    "\n",
    "Discharge = go.Scatter(x= vals.index, y = vals['Discharge'], mode = 'lines+markers', name = 'DISCHARGE')\n",
    "Admission = go.Scatter(x= vals.index,y = vals['Admission'], mode = 'lines+markers', name = 'ADMISSION')\n",
    "data = [Discharge, Admission]\n",
    "\n",
    "layout = dict(title = 'Dimension 5 - Relapse problems: Admission v/s Discharge',\n",
    "              xaxis = dict(title = 'Problem Level'),\n",
    "              yaxis = dict(title = 'Number of Clients'),\n",
    "              )\n",
    "\n",
    "fig = go.Figure(data = data, layout = layout)\n",
    "py.iplot(fig, filename='Dimension5')"
   ]
  },
  {
   "cell_type": "code",
   "execution_count": 65,
   "metadata": {},
   "outputs": [
    {
     "data": {
      "text/html": [
       "<div>\n",
       "<style>\n",
       "    .dataframe thead tr:only-child th {\n",
       "        text-align: right;\n",
       "    }\n",
       "\n",
       "    .dataframe thead th {\n",
       "        text-align: left;\n",
       "    }\n",
       "\n",
       "    .dataframe tbody tr th {\n",
       "        vertical-align: top;\n",
       "    }\n",
       "</style>\n",
       "<table border=\"1\" class=\"dataframe\">\n",
       "  <thead>\n",
       "    <tr style=\"text-align: right;\">\n",
       "      <th></th>\n",
       "      <th>Admission</th>\n",
       "      <th>Discharge</th>\n",
       "    </tr>\n",
       "  </thead>\n",
       "  <tbody>\n",
       "    <tr>\n",
       "      <th>Extreme problem</th>\n",
       "      <td>3.026482</td>\n",
       "      <td>19.293821</td>\n",
       "    </tr>\n",
       "    <tr>\n",
       "      <th>Minor problem</th>\n",
       "      <td>2.269861</td>\n",
       "      <td>11.601513</td>\n",
       "    </tr>\n",
       "    <tr>\n",
       "      <th>Moderate problem</th>\n",
       "      <td>49.684741</td>\n",
       "      <td>20.050441</td>\n",
       "    </tr>\n",
       "    <tr>\n",
       "      <th>No problem</th>\n",
       "      <td>2.269861</td>\n",
       "      <td>5.800757</td>\n",
       "    </tr>\n",
       "    <tr>\n",
       "      <th>Serious problem</th>\n",
       "      <td>42.749054</td>\n",
       "      <td>34.678436</td>\n",
       "    </tr>\n",
       "    <tr>\n",
       "      <th>Unable to assess</th>\n",
       "      <td>NaN</td>\n",
       "      <td>8.575032</td>\n",
       "    </tr>\n",
       "  </tbody>\n",
       "</table>\n",
       "</div>"
      ],
      "text/plain": [
       "                  Admission  Discharge\n",
       "Extreme problem    3.026482  19.293821\n",
       "Minor problem      2.269861  11.601513\n",
       "Moderate problem  49.684741  20.050441\n",
       "No problem         2.269861   5.800757\n",
       "Serious problem   42.749054  34.678436\n",
       "Unable to assess        NaN   8.575032"
      ]
     },
     "execution_count": 65,
     "metadata": {},
     "output_type": "execute_result"
    }
   ],
   "source": [
    "total_clients = master.shape[0]\n",
    "vals = vals/total_clients*100\n",
    "vals"
   ]
  },
  {
   "cell_type": "markdown",
   "metadata": {},
   "source": [
    "** CHSR Dimension 5 : Relapse Problems **\n",
    "We notice that the problems in Relapse tend to slightly decrease over the duration of the program.\n",
    "We can see that the number of clients with a moderate or serious problem has reduced but there has been an increase in the number of people having a extreme problem from 3% to 19.28% but there is also an increase in minor problem from 2% to 11%."
   ]
  },
  {
   "cell_type": "code",
   "execution_count": 66,
   "metadata": {},
   "outputs": [
    {
     "data": {
      "text/html": [
       "<iframe id=\"igraph\" scrolling=\"no\" style=\"border:none;\" seamless=\"seamless\" src=\"https://plot.ly/~Prableen/14.embed\" height=\"525px\" width=\"100%\"></iframe>"
      ],
      "text/plain": [
       "<plotly.tools.PlotlyDisplay object>"
      ]
     },
     "execution_count": 66,
     "metadata": {},
     "output_type": "execute_result"
    }
   ],
   "source": [
    "#CHSR Dimension 6\n",
    "\n",
    "dis = master['CHSR.Dimension.6'].value_counts()\n",
    "adm = master['CHSR.Dimension.6.admission'].value_counts()\n",
    "\n",
    "vals = pd.concat([adm,dis], axis=1)\n",
    "vals.columns = ['Admission','Discharge']\n",
    "\n",
    "Discharge = go.Scatter(x= vals.index, y = vals['Discharge'], mode = 'lines+markers', name = 'DISCHARGE')\n",
    "Admission = go.Scatter(x= vals.index,y = vals['Admission'], mode = 'lines+markers', name = 'ADMISSION')\n",
    "data = [Discharge, Admission]\n",
    "\n",
    "layout = dict(title = 'Dimension 6 - Recovery Environment problems: Admission v/s Discharge',\n",
    "              xaxis = dict(title = 'Problem Level'),\n",
    "              yaxis = dict(title = 'Number of Clients'),\n",
    "              )\n",
    "\n",
    "fig = go.Figure(data = data, layout = layout)\n",
    "py.iplot(fig, filename='Dimension6')"
   ]
  },
  {
   "cell_type": "code",
   "execution_count": 67,
   "metadata": {},
   "outputs": [
    {
     "data": {
      "text/html": [
       "<div>\n",
       "<style>\n",
       "    .dataframe thead tr:only-child th {\n",
       "        text-align: right;\n",
       "    }\n",
       "\n",
       "    .dataframe thead th {\n",
       "        text-align: left;\n",
       "    }\n",
       "\n",
       "    .dataframe tbody tr th {\n",
       "        vertical-align: top;\n",
       "    }\n",
       "</style>\n",
       "<table border=\"1\" class=\"dataframe\">\n",
       "  <thead>\n",
       "    <tr style=\"text-align: right;\">\n",
       "      <th></th>\n",
       "      <th>Admission</th>\n",
       "      <th>Discharge</th>\n",
       "    </tr>\n",
       "  </thead>\n",
       "  <tbody>\n",
       "    <tr>\n",
       "      <th>Extreme problem</th>\n",
       "      <td>36.443884</td>\n",
       "      <td>25.220681</td>\n",
       "    </tr>\n",
       "    <tr>\n",
       "      <th>Minor problem</th>\n",
       "      <td>0.630517</td>\n",
       "      <td>7.440101</td>\n",
       "    </tr>\n",
       "    <tr>\n",
       "      <th>Moderate problem</th>\n",
       "      <td>8.827238</td>\n",
       "      <td>11.979823</td>\n",
       "    </tr>\n",
       "    <tr>\n",
       "      <th>No problem</th>\n",
       "      <td>2.017654</td>\n",
       "      <td>4.918033</td>\n",
       "    </tr>\n",
       "    <tr>\n",
       "      <th>Serious problem</th>\n",
       "      <td>52.080706</td>\n",
       "      <td>27.364439</td>\n",
       "    </tr>\n",
       "    <tr>\n",
       "      <th>Unable to assess</th>\n",
       "      <td>NaN</td>\n",
       "      <td>23.076923</td>\n",
       "    </tr>\n",
       "  </tbody>\n",
       "</table>\n",
       "</div>"
      ],
      "text/plain": [
       "                  Admission  Discharge\n",
       "Extreme problem   36.443884  25.220681\n",
       "Minor problem      0.630517   7.440101\n",
       "Moderate problem   8.827238  11.979823\n",
       "No problem         2.017654   4.918033\n",
       "Serious problem   52.080706  27.364439\n",
       "Unable to assess        NaN  23.076923"
      ]
     },
     "execution_count": 67,
     "metadata": {},
     "output_type": "execute_result"
    }
   ],
   "source": [
    "total_clients = master.shape[0]\n",
    "vals = vals/total_clients*100\n",
    "vals"
   ]
  },
  {
   "cell_type": "markdown",
   "metadata": {},
   "source": [
    "** CHSR Dimension 6 : Recovery Environment Problems **\n",
    "We notice that the problems in Recovery environment tend to clearly decrease over the duration of the program.\n",
    "It is clear that the number of clients having extreme and serious problems reduces and there is an increase in No problem, minor problem and moderate problem."
   ]
  },
  {
   "cell_type": "markdown",
   "metadata": {},
   "source": [
    "## Let us now look at how Labor Status of clients has changed from admission to discharge"
   ]
  },
  {
   "cell_type": "code",
   "execution_count": 68,
   "metadata": {},
   "outputs": [
    {
     "data": {
      "text/html": [
       "<iframe id=\"igraph\" scrolling=\"no\" style=\"border:none;\" seamless=\"seamless\" src=\"https://plot.ly/~Prableen/16.embed\" height=\"500px\" width=\"900px\"></iframe>"
      ],
      "text/plain": [
       "<plotly.tools.PlotlyDisplay object>"
      ]
     },
     "execution_count": 68,
     "metadata": {},
     "output_type": "execute_result"
    }
   ],
   "source": [
    "LaborForce_Discharge = master['Current.labor.force.status'].value_counts()\n",
    "LaborForce_Admission = master['Current.labor.status'].value_counts()\n",
    "\n",
    "LaborForce = pd.concat([LaborForce_Admission,LaborForce_Discharge], axis=1)\n",
    "LaborForce.columns = ['Admission','Discharge']\n",
    "\n",
    "Discharge = go.Scatter(x= LaborForce.index, y = LaborForce['Discharge'], mode = 'lines+markers', name = 'DISCHARGE')\n",
    "Admission = go.Scatter(x= LaborForce.index,y = LaborForce['Admission'], mode = 'lines+markers', name = 'ADMISSION')\n",
    "data = [Discharge, Admission]\n",
    "\n",
    "layout = dict(title = 'Current Labor Force Status: Admission v/s Discharge',\n",
    "              xaxis = dict(title = 'Status'),\n",
    "              yaxis = dict(title = 'Number of Clients'),\n",
    "              width = 900,\n",
    "              height = 500,\n",
    "              margin = go.Margin(b=200)\n",
    "              )\n",
    "\n",
    "fig = go.Figure(data = data, layout = layout)\n",
    "py.iplot(fig, filename='Labor Force')\n"
   ]
  },
  {
   "cell_type": "markdown",
   "metadata": {},
   "source": [
    "We can see that the number of people Not Looking for work has reduced by a great amount and there is a slight increase in the number of people looking for work and those that are employed part-time!   \n",
    "**NOTE: ** However it does seem like the data might not be giving the right picture as the number of disbled people reduces over the program - which is something absurd."
   ]
  },
  {
   "cell_type": "markdown",
   "metadata": {},
   "source": [
    "## Let us now look at how the Primary substance abuse changes"
   ]
  },
  {
   "cell_type": "code",
   "execution_count": 69,
   "metadata": {},
   "outputs": [
    {
     "data": {
      "text/html": [
       "<iframe id=\"igraph\" scrolling=\"no\" style=\"border:none;\" seamless=\"seamless\" src=\"https://plot.ly/~Prableen/18.embed\" height=\"525px\" width=\"100%\"></iframe>"
      ],
      "text/plain": [
       "<plotly.tools.PlotlyDisplay object>"
      ]
     },
     "execution_count": 69,
     "metadata": {},
     "output_type": "execute_result"
    }
   ],
   "source": [
    "Subs_dis= master['Substance.abuse.problem.at.Discharge'].value_counts()\n",
    "Subs_adm = master['Primary.substance.abuse.problem'].value_counts()\n",
    "\n",
    "Subs = pd.concat([Subs_adm,Subs_dis], axis=1)\n",
    "Subs.columns = ['Admission','Discharge']\n",
    "\n",
    "Discharge = go.Scatter(x= Subs.index, y = Subs['Discharge'], mode = 'lines+markers', name = 'DISCHARGE')\n",
    "Admission = go.Scatter(x= Subs.index,y = Subs['Admission'], mode = 'lines+markers', name = 'ADMISSION')\n",
    "\n",
    "data = [Discharge, Admission]\n",
    "\n",
    "layout = dict(title = 'Primary substance abuse: Admission v/s Discharge',\n",
    "              xaxis = dict(title = 'Substance Used'),\n",
    "              yaxis = dict(title = 'Number of Clients'),\n",
    "              margin = go.Margin(b=150)\n",
    "              )\n",
    "\n",
    "fig = go.Figure(data = data, layout = layout)\n",
    "py.iplot(fig, filename='Substance abuse')\n"
   ]
  },
  {
   "cell_type": "markdown",
   "metadata": {},
   "source": [
    "Looking at the above comparison, We can see that there is not a significant difference between the primary substance abuse at admission and discharge. However, there is a slight reduction in the case of Alcohol, Heroin, Methamphetamine and Marijuana/Hashish."
   ]
  },
  {
   "cell_type": "markdown",
   "metadata": {},
   "source": [
    "## Comparing Enrolled in school job or taining from admission to dsicharge:"
   ]
  },
  {
   "cell_type": "code",
   "execution_count": 70,
   "metadata": {},
   "outputs": [
    {
     "name": "stdout",
     "output_type": "stream",
     "text": [
      "['Not enrolled' nan 'Enrolled, part time' 'Enrolled, full time']\n",
      "['Not enrolled' nan 'Enrolled, full time ' 'Enrolled, part time ']\n"
     ]
    }
   ],
   "source": [
    "enroll_dis = master['Enrolled.in.school.or.job.training'].unique()\n",
    "enroll_adm = master['Currently.enrolled.in.school.or.job.training.program'].unique()\n",
    "print(enroll_adm)\n",
    "print(enroll_dis)"
   ]
  },
  {
   "cell_type": "markdown",
   "metadata": {},
   "source": [
    "Looking at this we can see that the discharge column has an extra space at the end of the values, thus we need to strip the values of this space. Further, we need to replace the 'Unknown' with Nan."
   ]
  },
  {
   "cell_type": "code",
   "execution_count": 71,
   "metadata": {},
   "outputs": [],
   "source": [
    "master['Enrolled.in.school.or.job.training'] = [str(val).strip() for val in master['Enrolled.in.school.or.job.training']]\n",
    "\n",
    "master.loc[master['Enrolled.in.school.or.job.training'] == 'nan', \n",
    "           'Enrolled.in.school.or.job.training'] = 'Unknown'"
   ]
  },
  {
   "cell_type": "code",
   "execution_count": 72,
   "metadata": {},
   "outputs": [
    {
     "name": "stdout",
     "output_type": "stream",
     "text": [
      "['Not enrolled' nan 'Enrolled, part time' 'Enrolled, full time']\n",
      "['Not enrolled' 'Unknown' 'Enrolled, full time' 'Enrolled, part time']\n"
     ]
    }
   ],
   "source": [
    "enroll_dis = master['Enrolled.in.school.or.job.training'].unique()\n",
    "enroll_adm = master['Currently.enrolled.in.school.or.job.training.program'].unique()\n",
    "print(enroll_adm)\n",
    "print(enroll_dis)"
   ]
  },
  {
   "cell_type": "code",
   "execution_count": 73,
   "metadata": {},
   "outputs": [
    {
     "data": {
      "text/html": [
       "<iframe id=\"igraph\" scrolling=\"no\" style=\"border:none;\" seamless=\"seamless\" src=\"https://plot.ly/~Prableen/20.embed\" height=\"525px\" width=\"100%\"></iframe>"
      ],
      "text/plain": [
       "<plotly.tools.PlotlyDisplay object>"
      ]
     },
     "execution_count": 73,
     "metadata": {},
     "output_type": "execute_result"
    }
   ],
   "source": [
    "enroll_dis = master['Enrolled.in.school.or.job.training'].value_counts()\n",
    "enroll_adm = master['Currently.enrolled.in.school.or.job.training.program'].value_counts()\n",
    "\n",
    "Enroll = pd.concat([enroll_adm,enroll_dis], axis=1)\n",
    "Enroll.columns = ['Admission','Discharge']\n",
    "\n",
    "Discharge = go.Scatter(x= Enroll.index, y = Enroll['Discharge'], mode = 'lines+markers', name = 'DISCHARGE')\n",
    "Admission = go.Scatter(x= Enroll.index,y = Enroll['Admission'], mode = 'lines+markers', name = 'ADMISSION')\n",
    "data = [Discharge, Admission]\n",
    "\n",
    "layout = dict(title = 'Enrolled in school or job training: Admission v/s Discharge',\n",
    "              xaxis = dict(title = 'Status'),\n",
    "              yaxis = dict(title = 'Number of Clients'))\n",
    "\n",
    "fig = go.Figure(data = data, layout = layout)\n",
    "py.iplot(fig, filename='Enrolled')"
   ]
  },
  {
   "cell_type": "markdown",
   "metadata": {},
   "source": [
    "Again, here we can see that there is not much of a difference between the number of clients enrolled at discharge and at admission, however the number of clients Not Enrolled have reduced, however the number of clients Unknown has increased. "
   ]
  },
  {
   "cell_type": "markdown",
   "metadata": {},
   "source": [
    "## Cmparing where client has been living in the past 30 days at Admission and Discharge:"
   ]
  },
  {
   "cell_type": "code",
   "execution_count": 74,
   "metadata": {},
   "outputs": [
    {
     "name": "stdout",
     "output_type": "stream",
     "text": [
      "[ 'Dependent living - dependent children and/or adults living in a supervised setting'\n",
      " 'Homeless - no fixed address (includes shelters)'\n",
      " 'Children living with their family'\n",
      " 'Independent living - including on own, self supported and non-supervised group homes'\n",
      " nan]\n",
      "[ 'Independent living - including on own, self supported and non-supervised group homes'\n",
      " nan\n",
      " 'Dependent living - dependent children and/or adults living in a supervised setting'\n",
      " 'Homeless - no fixed address (includes shelters)'\n",
      " 'Children living with their family']\n"
     ]
    }
   ],
   "source": [
    "Living_adm = master['Where.has.client.been.living.in.past.30.days'].unique()\n",
    "Living_dis = master['Where.client.has.been.living.in.past.30.days'].unique()\n",
    "print(Living_adm)\n",
    "print(Living_dis)"
   ]
  },
  {
   "cell_type": "code",
   "execution_count": 75,
   "metadata": {},
   "outputs": [],
   "source": [
    "#Replacing nan with Unknown for analysis\n",
    "master['Where.client.has.been.living.in.past.30.days'] = [str(val).strip() for val in master['Where.client.has.been.living.in.past.30.days']]\n",
    "\n",
    "master.loc[master['Where.client.has.been.living.in.past.30.days'] == 'nan', \n",
    "           'Where.client.has.been.living.in.past.30.days'] = 'Unknown'\n",
    "\n",
    "master.loc[master['Where.has.client.been.living.in.past.30.days'] == 'Homless - no fixed address (includes shelters)', \n",
    "           'Where.has.client.been.living.in.past.30.days'] = 'Homeless - no fixed address (includes shelters)'"
   ]
  },
  {
   "cell_type": "code",
   "execution_count": 76,
   "metadata": {},
   "outputs": [
    {
     "name": "stdout",
     "output_type": "stream",
     "text": [
      "[ 'Dependent living - dependent children and/or adults living in a supervised setting'\n",
      " 'Homeless - no fixed address (includes shelters)'\n",
      " 'Children living with their family'\n",
      " 'Independent living - including on own, self supported and non-supervised group homes'\n",
      " nan]\n",
      "[ 'Independent living - including on own, self supported and non-supervised group homes'\n",
      " 'Unknown'\n",
      " 'Dependent living - dependent children and/or adults living in a supervised setting'\n",
      " 'Homeless - no fixed address (includes shelters)'\n",
      " 'Children living with their family']\n"
     ]
    }
   ],
   "source": [
    "Living_adm = master['Where.has.client.been.living.in.past.30.days'].unique()\n",
    "Living_dis = master['Where.client.has.been.living.in.past.30.days'].unique()\n",
    "print(Living_adm)\n",
    "print(Living_dis)"
   ]
  },
  {
   "cell_type": "code",
   "execution_count": 77,
   "metadata": {},
   "outputs": [
    {
     "data": {
      "text/html": [
       "<iframe id=\"igraph\" scrolling=\"no\" style=\"border:none;\" seamless=\"seamless\" src=\"https://plot.ly/~Prableen/22.embed\" height=\"500px\" width=\"100%\"></iframe>"
      ],
      "text/plain": [
       "<plotly.tools.PlotlyDisplay object>"
      ]
     },
     "execution_count": 77,
     "metadata": {},
     "output_type": "execute_result"
    }
   ],
   "source": [
    "Living_adm = master['Where.has.client.been.living.in.past.30.days'].value_counts()\n",
    "Living_dis = master['Where.client.has.been.living.in.past.30.days'].value_counts()\n",
    "\n",
    "Living = pd.concat([Living_adm,Living_dis], axis=1)\n",
    "Living.columns = ['Admission','Discharge']\n",
    "\n",
    "Discharge = go.Scatter(x= Living.index, y = Living['Discharge'], mode = 'lines+markers', name = 'DISCHARGE')\n",
    "Admission = go.Scatter(x= Living.index,y = Living['Admission'], mode = 'lines+markers', name = 'ADMISSION')\n",
    "data = [Discharge, Admission]\n",
    "\n",
    "layout = dict(title = 'Living conditions in the past 30 days: Admission v/s Discharge',\n",
    "              xaxis = dict(title = 'Status'),\n",
    "              yaxis = dict(title = 'Number of Clients'),\n",
    "              margin = go.Margin(b=250),\n",
    "              height = 500)\n",
    "\n",
    "fig = go.Figure(data = data, layout = layout)\n",
    "py.iplot(fig, filename='Living')"
   ]
  },
  {
   "cell_type": "markdown",
   "metadata": {},
   "source": [
    "Looking at this we can see that the number of homeless people has reduced from admission to discharge! However, there has also been an increase in the number of unknown values!"
   ]
  },
  {
   "cell_type": "markdown",
   "metadata": {},
   "source": [
    "## Comparing Attendance at self help programs(external to Avivo) attended by clients at Admission v/s Discharge:"
   ]
  },
  {
   "cell_type": "code",
   "execution_count": 78,
   "metadata": {},
   "outputs": [
    {
     "name": "stdout",
     "output_type": "stream",
     "text": [
      "['16-30 times past month (0ver 3 times per week)' 'No attendance'\n",
      " '1-3 times past month (less than once per week)'\n",
      " '4-7 times past month (once per week)'\n",
      " '8-15 times past month (2 or 3 times per week)'\n",
      " 'Some attendance, but frequency unknown' nan]\n",
      "['Some attendance, but frequency unknown'\n",
      " '1-3 times past month (less than once per week)'\n",
      " '8-15 times past month (2 or 3 times per week)' nan\n",
      " '4-7 times past month (once per week)' 'No attendance'\n",
      " '16-30 times past month (0ver 3 times per week)']\n"
     ]
    }
   ],
   "source": [
    "self_adm = master['Number.of.times.at.self.help.programs.in.past.30.days.(eg..AA,.NA)'].unique()\n",
    "self_dis = master['Number.of.self.help.programs.attended.in.past.30.days'].unique()\n",
    "print(self_adm)\n",
    "print(self_dis)"
   ]
  },
  {
   "cell_type": "code",
   "execution_count": 79,
   "metadata": {},
   "outputs": [],
   "source": [
    "master['Number.of.self.help.programs.attended.in.past.30.days'] = [str(val).strip() for val in master['Number.of.self.help.programs.attended.in.past.30.days']]\n",
    "\n",
    "master.loc[master['Number.of.self.help.programs.attended.in.past.30.days'] == 'nan', \n",
    "           'Number.of.self.help.programs.attended.in.past.30.days'] = 'Unknown'"
   ]
  },
  {
   "cell_type": "code",
   "execution_count": 80,
   "metadata": {},
   "outputs": [
    {
     "name": "stdout",
     "output_type": "stream",
     "text": [
      "['16-30 times past month (0ver 3 times per week)' 'No attendance'\n",
      " '1-3 times past month (less than once per week)'\n",
      " '4-7 times past month (once per week)'\n",
      " '8-15 times past month (2 or 3 times per week)'\n",
      " 'Some attendance, but frequency unknown' nan]\n",
      "['Some attendance, but frequency unknown'\n",
      " '1-3 times past month (less than once per week)'\n",
      " '8-15 times past month (2 or 3 times per week)' 'Unknown'\n",
      " '4-7 times past month (once per week)' 'No attendance'\n",
      " '16-30 times past month (0ver 3 times per week)']\n"
     ]
    }
   ],
   "source": [
    "self_adm = master['Number.of.times.at.self.help.programs.in.past.30.days.(eg..AA,.NA)'].unique()\n",
    "self_dis = master['Number.of.self.help.programs.attended.in.past.30.days'].unique()\n",
    "print(self_adm)\n",
    "print(self_dis)"
   ]
  },
  {
   "cell_type": "code",
   "execution_count": 81,
   "metadata": {},
   "outputs": [
    {
     "data": {
      "text/html": [
       "<iframe id=\"igraph\" scrolling=\"no\" style=\"border:none;\" seamless=\"seamless\" src=\"https://plot.ly/~Prableen/24.embed\" height=\"525px\" width=\"100%\"></iframe>"
      ],
      "text/plain": [
       "<plotly.tools.PlotlyDisplay object>"
      ]
     },
     "execution_count": 81,
     "metadata": {},
     "output_type": "execute_result"
    }
   ],
   "source": [
    "self_adm = master['Number.of.times.at.self.help.programs.in.past.30.days.(eg..AA,.NA)'].value_counts()\n",
    "self_dis = master['Number.of.self.help.programs.attended.in.past.30.days'].value_counts()\n",
    "\n",
    "Self_help = pd.concat([self_adm,self_dis], axis=1)\n",
    "Self_help.columns = ['Admission','Discharge']\n",
    "\n",
    "Discharge = go.Scatter(x= Self_help.index, y = Self_help['Discharge'], mode = 'lines+markers', name = 'DISCHARGE')\n",
    "Admission = go.Scatter(x= Self_help.index,y = Self_help['Admission'], mode = 'lines+markers', name = 'ADMISSION')\n",
    "data = [Discharge, Admission]\n",
    "\n",
    "layout = dict(title = 'Number of self-help sessions attended in past 30 days: Admission v/s Discharge',\n",
    "              xaxis = dict(title = 'Number of sessions'),\n",
    "              yaxis = dict(title = 'Number of Clients'),\n",
    "              margin = go.Margin(b=200))\n",
    "\n",
    "fig = go.Figure(data = data, layout = layout)\n",
    "py.iplot(fig, filename='Self help')"
   ]
  },
  {
   "cell_type": "markdown",
   "metadata": {},
   "source": [
    "Looking at this plot, it is evident that there is some increase in attendance of self help programs from Admission to Discharge. No. of clients not attending has drastically reduced, and attendence has slightly improved!"
   ]
  },
  {
   "cell_type": "code",
   "execution_count": null,
   "metadata": {},
   "outputs": [],
   "source": []
  }
 ],
 "metadata": {
  "kernelspec": {
   "display_name": "Python 3",
   "language": "python",
   "name": "python3"
  },
  "language_info": {
   "codemirror_mode": {
    "name": "ipython",
    "version": 3
   },
   "file_extension": ".py",
   "mimetype": "text/x-python",
   "name": "python",
   "nbconvert_exporter": "python",
   "pygments_lexer": "ipython3",
   "version": "3.6.1"
  }
 },
 "nbformat": 4,
 "nbformat_minor": 2
}
