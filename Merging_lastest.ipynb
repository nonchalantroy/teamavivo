{
 "cells": [
  {
   "cell_type": "code",
   "execution_count": 70,
   "metadata": {
    "collapsed": true
   },
   "outputs": [],
   "source": [
    "\n",
    "import pandas as pd\n",
    "import numpy as np\n",
    "admission = pd.read_excel(r'/Users/mbenkhal/Documents/Avivo/Updated/Admissions.xlsx')\n",
    "\n",
    "\n"
   ]
  },
  {
   "cell_type": "code",
   "execution_count": 71,
   "metadata": {},
   "outputs": [],
   "source": [
    "import pandas as pd\n",
    "import numpy as np\n",
    "\n",
    "discharge = pd.read_excel(r'/Users/mbenkhal/Documents/Avivo/Updated/Discharge_clean.xlsx')\n",
    "\n"
   ]
  },
  {
   "cell_type": "code",
   "execution_count": 72,
   "metadata": {
    "collapsed": true
   },
   "outputs": [],
   "source": [
    "Treatment = pd.read_excel(r'/Users/mbenkhal/Documents/Avivo/Updated/Hour-Treatment.xlsx')"
   ]
  },
  {
   "cell_type": "code",
   "execution_count": 73,
   "metadata": {
    "collapsed": true
   },
   "outputs": [],
   "source": [
    "Race = pd.read_excel(r'/Users/mbenkhal/Documents/Avivo/Updated/Race.xlsx')"
   ]
  },
  {
   "cell_type": "code",
   "execution_count": 74,
   "metadata": {},
   "outputs": [
    {
     "data": {
      "text/plain": [
       "(2096, 70)"
      ]
     },
     "execution_count": 74,
     "metadata": {},
     "output_type": "execute_result"
    }
   ],
   "source": [
    "admission.shape"
   ]
  },
  {
   "cell_type": "code",
   "execution_count": 75,
   "metadata": {
    "collapsed": true
   },
   "outputs": [],
   "source": [
    "admission_sans_dup = admission.drop_duplicates(subset=['Client Number'], keep=False)"
   ]
  },
  {
   "cell_type": "code",
   "execution_count": 76,
   "metadata": {},
   "outputs": [
    {
     "data": {
      "text/plain": [
       "(1550, 70)"
      ]
     },
     "execution_count": 76,
     "metadata": {},
     "output_type": "execute_result"
    }
   ],
   "source": [
    "admission_sans_dup.shape\n"
   ]
  },
  {
   "cell_type": "code",
   "execution_count": 77,
   "metadata": {},
   "outputs": [],
   "source": [
    "discharge_sans_dup = discharge.drop_duplicates(subset=['Client.Number'], keep=False)"
   ]
  },
  {
   "cell_type": "code",
   "execution_count": 78,
   "metadata": {},
   "outputs": [
    {
     "data": {
      "text/plain": [
       "(1392, 30)"
      ]
     },
     "execution_count": 78,
     "metadata": {},
     "output_type": "execute_result"
    }
   ],
   "source": [
    "discharge_sans_dup.shape"
   ]
  },
  {
   "cell_type": "code",
   "execution_count": 79,
   "metadata": {},
   "outputs": [
    {
     "data": {
      "text/plain": [
       "(2561, 10)"
      ]
     },
     "execution_count": 79,
     "metadata": {},
     "output_type": "execute_result"
    }
   ],
   "source": [
    "Treatment.shape"
   ]
  },
  {
   "cell_type": "code",
   "execution_count": 80,
   "metadata": {
    "collapsed": true
   },
   "outputs": [],
   "source": [
    "treatment_sans_dup  = Treatment.drop_duplicates(subset=['Client_number'], keep=False)"
   ]
  },
  {
   "cell_type": "code",
   "execution_count": 81,
   "metadata": {},
   "outputs": [
    {
     "data": {
      "text/plain": [
       "(1348, 10)"
      ]
     },
     "execution_count": 81,
     "metadata": {},
     "output_type": "execute_result"
    }
   ],
   "source": [
    "treatment_sans_dup.shape"
   ]
  },
  {
   "cell_type": "code",
   "execution_count": 82,
   "metadata": {},
   "outputs": [
    {
     "data": {
      "text/plain": [
       "(1577, 10)"
      ]
     },
     "execution_count": 82,
     "metadata": {},
     "output_type": "execute_result"
    }
   ],
   "source": [
    "Race.shape"
   ]
  },
  {
   "cell_type": "code",
   "execution_count": 83,
   "metadata": {
    "collapsed": true
   },
   "outputs": [],
   "source": [
    "race_sans_dup  = Race.drop_duplicates(subset=['Client.Number'], keep=False)"
   ]
  },
  {
   "cell_type": "code",
   "execution_count": 84,
   "metadata": {},
   "outputs": [
    {
     "data": {
      "text/plain": [
       "(1577, 10)"
      ]
     },
     "execution_count": 84,
     "metadata": {},
     "output_type": "execute_result"
    }
   ],
   "source": [
    "race_sans_dup.shape"
   ]
  },
  {
   "cell_type": "code",
   "execution_count": 85,
   "metadata": {},
   "outputs": [],
   "source": [
    "result = pd.merge(admission_sans_dup,\n",
    "                  discharge_sans_dup, \n",
    "                 left_on=['Client Number'], right_on = ['Client.Number'] , how = 'inner', suffixes =['_admission','_discharge'])"
   ]
  },
  {
   "cell_type": "code",
   "execution_count": 86,
   "metadata": {},
   "outputs": [
    {
     "data": {
      "text/plain": [
       "(1216, 100)"
      ]
     },
     "execution_count": 86,
     "metadata": {},
     "output_type": "execute_result"
    }
   ],
   "source": [
    "result.shape"
   ]
  },
  {
   "cell_type": "code",
   "execution_count": 65,
   "metadata": {
    "collapsed": true
   },
   "outputs": [],
   "source": [
    "result_race = pd.merge(result,race_sans_dup , how = 'inner' , left_on =['Client Number'], right_on = ['Client.Number'])"
   ]
  },
  {
   "cell_type": "code",
   "execution_count": 87,
   "metadata": {},
   "outputs": [
    {
     "data": {
      "text/plain": [
       "(1216, 110)"
      ]
     },
     "execution_count": 87,
     "metadata": {},
     "output_type": "execute_result"
    }
   ],
   "source": [
    "result_race.shape"
   ]
  },
  {
   "cell_type": "code",
   "execution_count": 88,
   "metadata": {
    "collapsed": true
   },
   "outputs": [],
   "source": [
    "master_data = result_race "
   ]
  },
  {
   "cell_type": "code",
   "execution_count": 89,
   "metadata": {
    "collapsed": true
   },
   "outputs": [],
   "source": [
    "result_condition1_drop = master_data[master_data['Form Date'] > master_data['Form.Date']]\n",
    "master_data =  pd.concat([ master_data ,result_condition1_drop,result_condition1_drop]).drop_duplicates(keep=False)"
   ]
  },
  {
   "cell_type": "code",
   "execution_count": 90,
   "metadata": {},
   "outputs": [
    {
     "data": {
      "text/plain": [
       "(1210, 110)"
      ]
     },
     "execution_count": 90,
     "metadata": {},
     "output_type": "execute_result"
    }
   ],
   "source": [
    "master_data.shape"
   ]
  },
  {
   "cell_type": "code",
   "execution_count": 91,
   "metadata": {
    "collapsed": true
   },
   "outputs": [],
   "source": [
    "Location_master = r'/Users/mbenkhal/Documents/Avivo/Updated/master_Discharge_Admission_only.xlsx'\n",
    "master_data.to_excel(Location_master)"
   ]
  },
  {
   "cell_type": "code",
   "execution_count": 92,
   "metadata": {
    "collapsed": true
   },
   "outputs": [],
   "source": [
    "result_hour_treatment = pd.merge(result_race, treatment_sans_dup, how = 'inner', left_on=['Client Number'], right_on = ['Client_number'])"
   ]
  },
  {
   "cell_type": "code",
   "execution_count": 94,
   "metadata": {
    "collapsed": true
   },
   "outputs": [],
   "source": [
    "master_data = result_hour_treatment"
   ]
  },
  {
   "cell_type": "code",
   "execution_count": 95,
   "metadata": {},
   "outputs": [
    {
     "data": {
      "text/plain": [
       "['Form Date',\n",
       " 'Program_admission',\n",
       " 'Staff_admission',\n",
       " 'Client Number',\n",
       " 'Age_admission',\n",
       " 'Age of first use (Primary)',\n",
       " 'Age of first use (Secondary)',\n",
       " 'Age of first use (Tertiary)',\n",
       " 'Are any children living with someone else due to CPS court order or other action',\n",
       " 'CHSR Dimension 1',\n",
       " 'CHSR Dimension 2',\n",
       " 'CHSR Dimension 3',\n",
       " 'CHSR Dimension 4',\n",
       " 'CHSR Dimension 5',\n",
       " 'CHSR Dimension 6',\n",
       " 'Client currently involved with CPS',\n",
       " 'Current CD Treatment',\n",
       " 'Current labor status',\n",
       " 'Current marital status',\n",
       " 'Currently enrolled in school or job training program',\n",
       " 'Currently smoke cigarettes',\n",
       " 'Currently under the jurisdiction of the court or on probation/parole of',\n",
       " 'Did drug court refer?',\n",
       " 'Does client have children',\n",
       " 'Does this involvement result from',\n",
       " \"Driver's license revoked due to DWI\",\n",
       " 'Education',\n",
       " 'For how many children has the client lost parental rights',\n",
       " 'Hispanic Ethnicity',\n",
       " 'History of injection drug use',\n",
       " 'How many children',\n",
       " 'How many of the children are living with someone else for these reasons',\n",
       " 'Interaction with supportive family/friends in past 30 days',\n",
       " 'Legal status at admission',\n",
       " 'Number of arrests in lifetime',\n",
       " 'Number of arrests in past 30 days',\n",
       " 'Number of days used in past 30 (Primary)',\n",
       " 'Number of days used in past 30 (Secondary)',\n",
       " 'Number of days used in past 30 (Tertiary)',\n",
       " 'Number of days, in past 30 days, has client used alcohol (99 unknown)',\n",
       " 'Number of days, in past 30 days, has client used illicit drugs (99 unknown)',\n",
       " 'Number of lifetime detoxification admissions',\n",
       " 'Number of lifetime treatment episodes in CD treatment program (no detox)',\n",
       " 'Number of times at self help programs in past 30 days (eg. AA, NA)',\n",
       " 'Opioid Replacement therapy planned?',\n",
       " 'Pregnancy status at admission',\n",
       " 'Primary condition surrounding admission',\n",
       " 'Primary condition surrounding admission.1',\n",
       " 'Primary source of income',\n",
       " 'Primary Source of Referral',\n",
       " 'Primary substance abuse problem',\n",
       " 'Race_admission',\n",
       " 'Reside on reservation',\n",
       " 'Route of administration (Primary)',\n",
       " 'Route of administration (Secondary)',\n",
       " 'Route of Administration (Tertiary)',\n",
       " 'Secondary Source of Referral',\n",
       " 'Secondary substance abuse problem',\n",
       " 'Tertiary substance abuse problem',\n",
       " 'Tribal enrollment',\n",
       " 'Type of Insurance',\n",
       " 'Usual living situation',\n",
       " 'Veteran status',\n",
       " 'Was client in jail in past 30 days',\n",
       " 'Was client in prison in past 30 days',\n",
       " 'Where has client been living in past 30 days',\n",
       " 'Years of schooling',\n",
       " 'Client Gender',\n",
       " 'Client Race',\n",
       " 'Client Ethnicity',\n",
       " 'Form.Date',\n",
       " 'Program_discharge',\n",
       " 'Staff_discharge',\n",
       " 'Client.Number_x',\n",
       " 'CHSR.Dimension.1',\n",
       " 'CHSR.Dimension.2',\n",
       " 'CHSR.Dimension.3',\n",
       " 'CHSR.Dimension.4',\n",
       " 'CHSR.Dimension.5',\n",
       " 'CHSR.Dimension.6',\n",
       " 'CPS.involvement.results.from',\n",
       " 'Current.CD.Treatment',\n",
       " 'Current.labor.force.status',\n",
       " 'Currently.involved.with.CPS',\n",
       " 'Does.client.have.children',\n",
       " 'DSM.CD.Diagnosis',\n",
       " 'DSM.CD.Diagnosis..Secondary.',\n",
       " 'Enrolled.in.school.or.job.training',\n",
       " 'Number.of.children',\n",
       " 'Number.of.self.help.programs.attended.in.past.30.days',\n",
       " 'Reason.for.Discharge',\n",
       " 'Secondary.substance.abuse.problem',\n",
       " 'Substance.abuse.problem.at.Discharge',\n",
       " 'Tertiary.substance.abuse.problem',\n",
       " 'Where.client.has.been.living.in.past.30.days',\n",
       " 'Date.of.Birth_x',\n",
       " 'Age_discharge',\n",
       " 'Sex_x',\n",
       " 'Race_discharge',\n",
       " 'Ratio.living.elsewhere',\n",
       " 'Client.Number_y',\n",
       " 'Date.of.Birth_y',\n",
       " 'Last.Discharge.Date',\n",
       " 'Age.at.Discharge',\n",
       " 'Sex_y',\n",
       " 'Race',\n",
       " 'Race1',\n",
       " 'Race2',\n",
       " 'Race3',\n",
       " 'Race4',\n",
       " 'Client_number',\n",
       " 'Program',\n",
       " 'Code',\n",
       " 'start_service_data',\n",
       " 'end_service_data',\n",
       " 'data_birth',\n",
       " 'gender',\n",
       " 'race',\n",
       " 'number_hours',\n",
       " 'year']"
      ]
     },
     "execution_count": 95,
     "metadata": {},
     "output_type": "execute_result"
    }
   ],
   "source": [
    "list(master_data.columns.values)"
   ]
  },
  {
   "cell_type": "code",
   "execution_count": 96,
   "metadata": {},
   "outputs": [],
   "source": [
    "result_condition1_drop = master_data[master_data['Form Date'] > master_data['Form.Date']]\n",
    "master_data =  pd.concat([ master_data ,result_condition1_drop,result_condition1_drop]).drop_duplicates(keep=False)"
   ]
  },
  {
   "cell_type": "code",
   "execution_count": 97,
   "metadata": {},
   "outputs": [
    {
     "data": {
      "text/plain": [
       "(828, 120)"
      ]
     },
     "execution_count": 97,
     "metadata": {},
     "output_type": "execute_result"
    }
   ],
   "source": [
    "master_data.shape"
   ]
  },
  {
   "cell_type": "code",
   "execution_count": 98,
   "metadata": {
    "collapsed": true
   },
   "outputs": [],
   "source": [
    "Location_master = r'/Users/mbenkhal/Documents/Avivo/Updated/master.xlsx'\n",
    "master_data.to_excel(Location_master)"
   ]
  },
  {
   "cell_type": "code",
   "execution_count": null,
   "metadata": {
    "collapsed": true
   },
   "outputs": [],
   "source": []
  }
 ],
 "metadata": {
  "kernelspec": {
   "display_name": "Python 3",
   "language": "python",
   "name": "python3"
  },
  "language_info": {
   "codemirror_mode": {
    "name": "ipython",
    "version": 3
   },
   "file_extension": ".py",
   "mimetype": "text/x-python",
   "name": "python",
   "nbconvert_exporter": "python",
   "pygments_lexer": "ipython3",
   "version": "3.6.1"
  }
 },
 "nbformat": 4,
 "nbformat_minor": 2
}
