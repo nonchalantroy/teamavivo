{
 "cells": [
  {
   "cell_type": "code",
   "execution_count": 1,
   "metadata": {},
   "outputs": [],
   "source": [
    "import pandas as pd\n",
    "from pathlib import Path\n",
    "import numpy as np\n",
    "from sklearn.linear_model import LogisticRegression\n",
    "from sklearn.model_selection import train_test_split\n",
    "from sklearn import metrics\n",
    "import seaborn as sns\n",
    "import matplotlib.pyplot as plt\n",
    "from tpot import TPOTClassifier"
   ]
  },
  {
   "cell_type": "code",
   "execution_count": 2,
   "metadata": {},
   "outputs": [],
   "source": [
    "src_file = Path.cwd() / \"in\" / \"master_Discharge_Admission_only.xlsx\""
   ]
  },
  {
   "cell_type": "code",
   "execution_count": 3,
   "metadata": {},
   "outputs": [],
   "source": [
    "df = pd.read_excel(src_file, sheet_name=\"Sheet1\")"
   ]
  },
  {
   "cell_type": "code",
   "execution_count": 4,
   "metadata": {},
   "outputs": [
    {
     "data": {
      "text/html": [
       "<div>\n",
       "<style scoped>\n",
       "    .dataframe tbody tr th:only-of-type {\n",
       "        vertical-align: middle;\n",
       "    }\n",
       "\n",
       "    .dataframe tbody tr th {\n",
       "        vertical-align: top;\n",
       "    }\n",
       "\n",
       "    .dataframe thead th {\n",
       "        text-align: right;\n",
       "    }\n",
       "</style>\n",
       "<table border=\"1\" class=\"dataframe\">\n",
       "  <thead>\n",
       "    <tr style=\"text-align: right;\">\n",
       "      <th></th>\n",
       "      <th>Form Date</th>\n",
       "      <th>Program_admission</th>\n",
       "      <th>Staff_admission</th>\n",
       "      <th>Client Number</th>\n",
       "      <th>Age_admission</th>\n",
       "      <th>Age of first use (Primary)</th>\n",
       "      <th>Age of first use (Secondary)</th>\n",
       "      <th>Age of first use (Tertiary)</th>\n",
       "      <th>Are any children living with someone else due to CPS court order or other action</th>\n",
       "      <th>CHSR Dimension 1</th>\n",
       "      <th>...</th>\n",
       "      <th>Client.Number_y</th>\n",
       "      <th>Date.of.Birth_y</th>\n",
       "      <th>Last.Discharge.Date</th>\n",
       "      <th>Age.at.Discharge</th>\n",
       "      <th>Sex_y</th>\n",
       "      <th>Race</th>\n",
       "      <th>Race1</th>\n",
       "      <th>Race2</th>\n",
       "      <th>Race3</th>\n",
       "      <th>Race4</th>\n",
       "    </tr>\n",
       "  </thead>\n",
       "  <tbody>\n",
       "    <tr>\n",
       "      <th>0</th>\n",
       "      <td>2014-11-20</td>\n",
       "      <td>Treatment - IDD Men</td>\n",
       "      <td>Schroer, Dan</td>\n",
       "      <td>111156570</td>\n",
       "      <td>NaN</td>\n",
       "      <td>14</td>\n",
       "      <td>0</td>\n",
       "      <td>0</td>\n",
       "      <td>Not applicable - No children/no child protect ...</td>\n",
       "      <td>No problem</td>\n",
       "      <td>...</td>\n",
       "      <td>111156570</td>\n",
       "      <td>1994-01-15</td>\n",
       "      <td>2015-01-24</td>\n",
       "      <td>21.0</td>\n",
       "      <td>Male</td>\n",
       "      <td>White</td>\n",
       "      <td>White</td>\n",
       "      <td>NaN</td>\n",
       "      <td>NaN</td>\n",
       "      <td>NaN</td>\n",
       "    </tr>\n",
       "    <tr>\n",
       "      <th>1</th>\n",
       "      <td>2014-12-09</td>\n",
       "      <td>Treatment - IDD Men</td>\n",
       "      <td>Lipsco, Sheila</td>\n",
       "      <td>111156740</td>\n",
       "      <td>NaN</td>\n",
       "      <td>16</td>\n",
       "      <td>7</td>\n",
       "      <td>0</td>\n",
       "      <td>Not applicable - No children/no child protect ...</td>\n",
       "      <td>No problem</td>\n",
       "      <td>...</td>\n",
       "      <td>111156740</td>\n",
       "      <td>1972-05-21</td>\n",
       "      <td>2015-02-05</td>\n",
       "      <td>42.0</td>\n",
       "      <td>Male</td>\n",
       "      <td>White</td>\n",
       "      <td>White</td>\n",
       "      <td>NaN</td>\n",
       "      <td>NaN</td>\n",
       "      <td>NaN</td>\n",
       "    </tr>\n",
       "    <tr>\n",
       "      <th>2</th>\n",
       "      <td>2014-11-14</td>\n",
       "      <td>Treatment - IDD Women</td>\n",
       "      <td>Salsness, Carrie</td>\n",
       "      <td>111156559</td>\n",
       "      <td>NaN</td>\n",
       "      <td>17</td>\n",
       "      <td>12</td>\n",
       "      <td>12</td>\n",
       "      <td>Not applicable - No children/no child protect ...</td>\n",
       "      <td>No problem</td>\n",
       "      <td>...</td>\n",
       "      <td>111156559</td>\n",
       "      <td>1993-02-15</td>\n",
       "      <td>2015-02-20</td>\n",
       "      <td>22.0</td>\n",
       "      <td>Female</td>\n",
       "      <td>White</td>\n",
       "      <td>White</td>\n",
       "      <td>NaN</td>\n",
       "      <td>NaN</td>\n",
       "      <td>NaN</td>\n",
       "    </tr>\n",
       "    <tr>\n",
       "      <th>3</th>\n",
       "      <td>2014-11-26</td>\n",
       "      <td>Treatment - IDD Women</td>\n",
       "      <td>Stewart, Lorene</td>\n",
       "      <td>111156604</td>\n",
       "      <td>NaN</td>\n",
       "      <td>17</td>\n",
       "      <td>13</td>\n",
       "      <td>16</td>\n",
       "      <td>Not applicable - No children/no child protect ...</td>\n",
       "      <td>No problem</td>\n",
       "      <td>...</td>\n",
       "      <td>111156604</td>\n",
       "      <td>1988-05-27</td>\n",
       "      <td>2015-01-27</td>\n",
       "      <td>26.0</td>\n",
       "      <td>Female</td>\n",
       "      <td>White</td>\n",
       "      <td>White</td>\n",
       "      <td>NaN</td>\n",
       "      <td>NaN</td>\n",
       "      <td>NaN</td>\n",
       "    </tr>\n",
       "    <tr>\n",
       "      <th>4</th>\n",
       "      <td>2014-12-03</td>\n",
       "      <td>Treatment - IDD Women</td>\n",
       "      <td>Stewart, Lorene</td>\n",
       "      <td>1155233</td>\n",
       "      <td>NaN</td>\n",
       "      <td>17</td>\n",
       "      <td>14</td>\n",
       "      <td>14</td>\n",
       "      <td>Unknown</td>\n",
       "      <td>No problem</td>\n",
       "      <td>...</td>\n",
       "      <td>1155233</td>\n",
       "      <td>1985-01-18</td>\n",
       "      <td>2015-02-06</td>\n",
       "      <td>30.0</td>\n",
       "      <td>Female</td>\n",
       "      <td>White</td>\n",
       "      <td>White</td>\n",
       "      <td>NaN</td>\n",
       "      <td>NaN</td>\n",
       "      <td>NaN</td>\n",
       "    </tr>\n",
       "  </tbody>\n",
       "</table>\n",
       "<p>5 rows × 110 columns</p>\n",
       "</div>"
      ],
      "text/plain": [
       "   Form Date      Program_admission   Staff_admission Client Number  \\\n",
       "0 2014-11-20    Treatment - IDD Men      Schroer, Dan     111156570   \n",
       "1 2014-12-09    Treatment - IDD Men    Lipsco, Sheila     111156740   \n",
       "2 2014-11-14  Treatment - IDD Women  Salsness, Carrie     111156559   \n",
       "3 2014-11-26  Treatment - IDD Women   Stewart, Lorene     111156604   \n",
       "4 2014-12-03  Treatment - IDD Women   Stewart, Lorene       1155233   \n",
       "\n",
       "   Age_admission Age of first use (Primary) Age of first use (Secondary)  \\\n",
       "0            NaN                         14                            0   \n",
       "1            NaN                         16                            7   \n",
       "2            NaN                         17                           12   \n",
       "3            NaN                         17                           13   \n",
       "4            NaN                         17                           14   \n",
       "\n",
       "  Age of first use (Tertiary)  \\\n",
       "0                           0   \n",
       "1                           0   \n",
       "2                          12   \n",
       "3                          16   \n",
       "4                          14   \n",
       "\n",
       "  Are any children living with someone else due to CPS court order or other action  \\\n",
       "0  Not applicable - No children/no child protect ...                                 \n",
       "1  Not applicable - No children/no child protect ...                                 \n",
       "2  Not applicable - No children/no child protect ...                                 \n",
       "3  Not applicable - No children/no child protect ...                                 \n",
       "4                                            Unknown                                 \n",
       "\n",
       "  CHSR Dimension 1  ...  Client.Number_y Date.of.Birth_y Last.Discharge.Date  \\\n",
       "0       No problem  ...        111156570      1994-01-15          2015-01-24   \n",
       "1       No problem  ...        111156740      1972-05-21          2015-02-05   \n",
       "2       No problem  ...        111156559      1993-02-15          2015-02-20   \n",
       "3       No problem  ...        111156604      1988-05-27          2015-01-27   \n",
       "4       No problem  ...          1155233      1985-01-18          2015-02-06   \n",
       "\n",
       "  Age.at.Discharge   Sex_y   Race  Race1 Race2 Race3 Race4  \n",
       "0             21.0    Male  White  White   NaN   NaN   NaN  \n",
       "1             42.0    Male  White  White   NaN   NaN   NaN  \n",
       "2             22.0  Female  White  White   NaN   NaN   NaN  \n",
       "3             26.0  Female  White  White   NaN   NaN   NaN  \n",
       "4             30.0  Female  White  White   NaN   NaN   NaN  \n",
       "\n",
       "[5 rows x 110 columns]"
      ]
     },
     "execution_count": 4,
     "metadata": {},
     "output_type": "execute_result"
    }
   ],
   "source": [
    "df.head()"
   ]
  },
  {
   "cell_type": "code",
   "execution_count": 5,
   "metadata": {},
   "outputs": [
    {
     "data": {
      "text/html": [
       "<div>\n",
       "<style scoped>\n",
       "    .dataframe tbody tr th:only-of-type {\n",
       "        vertical-align: middle;\n",
       "    }\n",
       "\n",
       "    .dataframe tbody tr th {\n",
       "        vertical-align: top;\n",
       "    }\n",
       "\n",
       "    .dataframe thead th {\n",
       "        text-align: right;\n",
       "    }\n",
       "</style>\n",
       "<table border=\"1\" class=\"dataframe\">\n",
       "  <thead>\n",
       "    <tr style=\"text-align: right;\">\n",
       "      <th></th>\n",
       "      <th>Age_admission</th>\n",
       "      <th>How many children</th>\n",
       "      <th>Number of arrests in lifetime</th>\n",
       "      <th>Number of days used in past 30 (Primary)</th>\n",
       "      <th>Number of days used in past 30 (Secondary)</th>\n",
       "      <th>Number of days, in past 30 days, has client used alcohol (99 unknown)</th>\n",
       "      <th>Number of days, in past 30 days, has client used illicit drugs (99 unknown)</th>\n",
       "      <th>Number of lifetime detoxification admissions</th>\n",
       "      <th>Number of lifetime treatment episodes in CD treatment program (no detox)</th>\n",
       "      <th>Number.of.children</th>\n",
       "      <th>Age_discharge</th>\n",
       "      <th>Ratio.living.elsewhere</th>\n",
       "      <th>Age.at.Discharge</th>\n",
       "    </tr>\n",
       "  </thead>\n",
       "  <tbody>\n",
       "    <tr>\n",
       "      <th>count</th>\n",
       "      <td>0.0</td>\n",
       "      <td>1118.000000</td>\n",
       "      <td>1202.000000</td>\n",
       "      <td>1165.000000</td>\n",
       "      <td>987.000000</td>\n",
       "      <td>1209.000000</td>\n",
       "      <td>1206.000000</td>\n",
       "      <td>1208.000000</td>\n",
       "      <td>1206.000000</td>\n",
       "      <td>843.000000</td>\n",
       "      <td>1054.000000</td>\n",
       "      <td>867.000000</td>\n",
       "      <td>1054.000000</td>\n",
       "    </tr>\n",
       "    <tr>\n",
       "      <th>mean</th>\n",
       "      <td>NaN</td>\n",
       "      <td>22.040250</td>\n",
       "      <td>32.070715</td>\n",
       "      <td>10.044635</td>\n",
       "      <td>10.852077</td>\n",
       "      <td>5.725393</td>\n",
       "      <td>8.752073</td>\n",
       "      <td>34.625000</td>\n",
       "      <td>5.953566</td>\n",
       "      <td>1.644128</td>\n",
       "      <td>40.524668</td>\n",
       "      <td>0.171147</td>\n",
       "      <td>38.959203</td>\n",
       "    </tr>\n",
       "    <tr>\n",
       "      <th>std</th>\n",
       "      <td>NaN</td>\n",
       "      <td>36.656908</td>\n",
       "      <td>43.333928</td>\n",
       "      <td>13.084371</td>\n",
       "      <td>15.781225</td>\n",
       "      <td>12.877184</td>\n",
       "      <td>13.976711</td>\n",
       "      <td>174.542582</td>\n",
       "      <td>13.932957</td>\n",
       "      <td>1.699951</td>\n",
       "      <td>11.054508</td>\n",
       "      <td>0.412807</td>\n",
       "      <td>10.977022</td>\n",
       "    </tr>\n",
       "    <tr>\n",
       "      <th>min</th>\n",
       "      <td>NaN</td>\n",
       "      <td>0.000000</td>\n",
       "      <td>0.000000</td>\n",
       "      <td>0.000000</td>\n",
       "      <td>0.000000</td>\n",
       "      <td>0.000000</td>\n",
       "      <td>0.000000</td>\n",
       "      <td>0.000000</td>\n",
       "      <td>0.000000</td>\n",
       "      <td>0.000000</td>\n",
       "      <td>19.000000</td>\n",
       "      <td>0.000000</td>\n",
       "      <td>18.000000</td>\n",
       "    </tr>\n",
       "    <tr>\n",
       "      <th>25%</th>\n",
       "      <td>NaN</td>\n",
       "      <td>1.000000</td>\n",
       "      <td>4.000000</td>\n",
       "      <td>0.000000</td>\n",
       "      <td>0.000000</td>\n",
       "      <td>0.000000</td>\n",
       "      <td>0.000000</td>\n",
       "      <td>0.000000</td>\n",
       "      <td>1.000000</td>\n",
       "      <td>0.000000</td>\n",
       "      <td>31.250000</td>\n",
       "      <td>0.000000</td>\n",
       "      <td>30.000000</td>\n",
       "    </tr>\n",
       "    <tr>\n",
       "      <th>50%</th>\n",
       "      <td>NaN</td>\n",
       "      <td>2.000000</td>\n",
       "      <td>10.000000</td>\n",
       "      <td>3.000000</td>\n",
       "      <td>3.000000</td>\n",
       "      <td>0.000000</td>\n",
       "      <td>1.000000</td>\n",
       "      <td>0.000000</td>\n",
       "      <td>3.000000</td>\n",
       "      <td>1.000000</td>\n",
       "      <td>40.000000</td>\n",
       "      <td>0.000000</td>\n",
       "      <td>38.000000</td>\n",
       "    </tr>\n",
       "    <tr>\n",
       "      <th>75%</th>\n",
       "      <td>NaN</td>\n",
       "      <td>5.000000</td>\n",
       "      <td>50.000000</td>\n",
       "      <td>20.000000</td>\n",
       "      <td>25.000000</td>\n",
       "      <td>4.000000</td>\n",
       "      <td>15.000000</td>\n",
       "      <td>2.000000</td>\n",
       "      <td>5.000000</td>\n",
       "      <td>3.000000</td>\n",
       "      <td>49.750000</td>\n",
       "      <td>0.000000</td>\n",
       "      <td>48.000000</td>\n",
       "    </tr>\n",
       "    <tr>\n",
       "      <th>max</th>\n",
       "      <td>NaN</td>\n",
       "      <td>99.000000</td>\n",
       "      <td>500.000000</td>\n",
       "      <td>99.000000</td>\n",
       "      <td>258.000000</td>\n",
       "      <td>99.000000</td>\n",
       "      <td>99.000000</td>\n",
       "      <td>999.000000</td>\n",
       "      <td>99.000000</td>\n",
       "      <td>10.000000</td>\n",
       "      <td>74.000000</td>\n",
       "      <td>3.333333</td>\n",
       "      <td>71.000000</td>\n",
       "    </tr>\n",
       "  </tbody>\n",
       "</table>\n",
       "</div>"
      ],
      "text/plain": [
       "       Age_admission  How many children  Number of arrests in lifetime  \\\n",
       "count            0.0        1118.000000                    1202.000000   \n",
       "mean             NaN          22.040250                      32.070715   \n",
       "std              NaN          36.656908                      43.333928   \n",
       "min              NaN           0.000000                       0.000000   \n",
       "25%              NaN           1.000000                       4.000000   \n",
       "50%              NaN           2.000000                      10.000000   \n",
       "75%              NaN           5.000000                      50.000000   \n",
       "max              NaN          99.000000                     500.000000   \n",
       "\n",
       "       Number of days used in past 30 (Primary)  \\\n",
       "count                               1165.000000   \n",
       "mean                                  10.044635   \n",
       "std                                   13.084371   \n",
       "min                                    0.000000   \n",
       "25%                                    0.000000   \n",
       "50%                                    3.000000   \n",
       "75%                                   20.000000   \n",
       "max                                   99.000000   \n",
       "\n",
       "       Number of days used in past 30 (Secondary)  \\\n",
       "count                                  987.000000   \n",
       "mean                                    10.852077   \n",
       "std                                     15.781225   \n",
       "min                                      0.000000   \n",
       "25%                                      0.000000   \n",
       "50%                                      3.000000   \n",
       "75%                                     25.000000   \n",
       "max                                    258.000000   \n",
       "\n",
       "       Number of days, in past 30 days, has client used alcohol (99 unknown)  \\\n",
       "count                                        1209.000000                       \n",
       "mean                                            5.725393                       \n",
       "std                                            12.877184                       \n",
       "min                                             0.000000                       \n",
       "25%                                             0.000000                       \n",
       "50%                                             0.000000                       \n",
       "75%                                             4.000000                       \n",
       "max                                            99.000000                       \n",
       "\n",
       "       Number of days, in past 30 days, has client used illicit drugs (99 unknown)  \\\n",
       "count                                        1206.000000                             \n",
       "mean                                            8.752073                             \n",
       "std                                            13.976711                             \n",
       "min                                             0.000000                             \n",
       "25%                                             0.000000                             \n",
       "50%                                             1.000000                             \n",
       "75%                                            15.000000                             \n",
       "max                                            99.000000                             \n",
       "\n",
       "       Number of lifetime detoxification admissions  \\\n",
       "count                                   1208.000000   \n",
       "mean                                      34.625000   \n",
       "std                                      174.542582   \n",
       "min                                        0.000000   \n",
       "25%                                        0.000000   \n",
       "50%                                        0.000000   \n",
       "75%                                        2.000000   \n",
       "max                                      999.000000   \n",
       "\n",
       "       Number of lifetime treatment episodes in CD treatment program (no detox)  \\\n",
       "count                                        1206.000000                          \n",
       "mean                                            5.953566                          \n",
       "std                                            13.932957                          \n",
       "min                                             0.000000                          \n",
       "25%                                             1.000000                          \n",
       "50%                                             3.000000                          \n",
       "75%                                             5.000000                          \n",
       "max                                            99.000000                          \n",
       "\n",
       "       Number.of.children  Age_discharge  Ratio.living.elsewhere  \\\n",
       "count          843.000000    1054.000000              867.000000   \n",
       "mean             1.644128      40.524668                0.171147   \n",
       "std              1.699951      11.054508                0.412807   \n",
       "min              0.000000      19.000000                0.000000   \n",
       "25%              0.000000      31.250000                0.000000   \n",
       "50%              1.000000      40.000000                0.000000   \n",
       "75%              3.000000      49.750000                0.000000   \n",
       "max             10.000000      74.000000                3.333333   \n",
       "\n",
       "       Age.at.Discharge  \n",
       "count       1054.000000  \n",
       "mean          38.959203  \n",
       "std           10.977022  \n",
       "min           18.000000  \n",
       "25%           30.000000  \n",
       "50%           38.000000  \n",
       "75%           48.000000  \n",
       "max           71.000000  "
      ]
     },
     "execution_count": 5,
     "metadata": {},
     "output_type": "execute_result"
    }
   ],
   "source": [
    "df.describe()"
   ]
  },
  {
   "cell_type": "code",
   "execution_count": 6,
   "metadata": {},
   "outputs": [
    {
     "data": {
      "text/plain": [
       "(1210, 110)"
      ]
     },
     "execution_count": 6,
     "metadata": {},
     "output_type": "execute_result"
    }
   ],
   "source": [
    "df.shape"
   ]
  },
  {
   "cell_type": "code",
   "execution_count": 7,
   "metadata": {},
   "outputs": [],
   "source": [
    "df['Completed'] = 0\n",
    "df['Completed'] = np.where(df['Reason.for.Discharge'].str.contains('Completed program'), 1,  0)"
   ]
  },
  {
   "cell_type": "code",
   "execution_count": 8,
   "metadata": {},
   "outputs": [
    {
     "data": {
      "text/plain": [
       "0    807\n",
       "1    403\n",
       "Name: Completed, dtype: int64"
      ]
     },
     "execution_count": 8,
     "metadata": {},
     "output_type": "execute_result"
    }
   ],
   "source": [
    "df['Completed'].value_counts()"
   ]
  },
  {
   "cell_type": "code",
   "execution_count": 9,
   "metadata": {},
   "outputs": [
    {
     "data": {
      "text/plain": [
       "88.0    257\n",
       "1.0     246\n",
       "2.0     193\n",
       "0.0     182\n",
       "3.0     124\n",
       "4.0      65\n",
       "5.0      30\n",
       "6.0       8\n",
       "99.0      5\n",
       "7.0       5\n",
       "12.0      2\n",
       "9.0       1\n",
       "Name: How many children, dtype: int64"
      ]
     },
     "execution_count": 9,
     "metadata": {},
     "output_type": "execute_result"
    }
   ],
   "source": [
    "df[\"How many children\"].value_counts()"
   ]
  },
  {
   "cell_type": "code",
   "execution_count": 10,
   "metadata": {},
   "outputs": [
    {
     "data": {
      "text/plain": [
       "No children/no child protection involvement    1014\n",
       "One                                              68\n",
       "Two                                              52\n",
       "Three                                            35\n",
       "Four                                             21\n",
       "Unknown                                           9\n",
       "Ten or more                                       4\n",
       "Five                                              3\n",
       "Six                                               2\n",
       "Seven                                             2\n",
       "Name: How many of the children are living with someone else for these reasons, dtype: int64"
      ]
     },
     "execution_count": 10,
     "metadata": {},
     "output_type": "execute_result"
    }
   ],
   "source": [
    "df[\"How many of the children are living with someone else for these reasons\"].value_counts()"
   ]
  },
  {
   "cell_type": "code",
   "execution_count": 11,
   "metadata": {},
   "outputs": [
    {
     "data": {
      "text/plain": [
       "99.0     232\n",
       "5.0       92\n",
       "10.0      89\n",
       "20.0      80\n",
       "3.0       75\n",
       "1.0       71\n",
       "2.0       69\n",
       "0.0       65\n",
       "4.0       61\n",
       "15.0      45\n",
       "6.0       45\n",
       "50.0      35\n",
       "7.0       34\n",
       "30.0      32\n",
       "12.0      28\n",
       "8.0       23\n",
       "25.0      20\n",
       "100.0     17\n",
       "40.0       9\n",
       "60.0       9\n",
       "9.0        8\n",
       "35.0       7\n",
       "75.0       5\n",
       "18.0       5\n",
       "57.0       4\n",
       "13.0       3\n",
       "11.0       3\n",
       "150.0      3\n",
       "19.0       2\n",
       "80.0       2\n",
       "27.0       2\n",
       "65.0       2\n",
       "45.0       2\n",
       "500.0      2\n",
       "16.0       2\n",
       "190.0      1\n",
       "71.0       1\n",
       "68.0       1\n",
       "43.0       1\n",
       "98.0       1\n",
       "23.0       1\n",
       "90.0       1\n",
       "37.0       1\n",
       "14.0       1\n",
       "42.0       1\n",
       "21.0       1\n",
       "200.0      1\n",
       "47.0       1\n",
       "70.0       1\n",
       "58.0       1\n",
       "95.0       1\n",
       "24.0       1\n",
       "46.0       1\n",
       "167.0      1\n",
       "Name: Number of arrests in lifetime, dtype: int64"
      ]
     },
     "execution_count": 11,
     "metadata": {},
     "output_type": "execute_result"
    }
   ],
   "source": [
    "df[\"Number of arrests in lifetime\"].value_counts()"
   ]
  },
  {
   "cell_type": "code",
   "execution_count": 12,
   "metadata": {},
   "outputs": [
    {
     "data": {
      "text/plain": [
       "0     1039\n",
       "1      119\n",
       "99      39\n",
       "2       10\n",
       "no       1\n",
       "3        1\n",
       "Name: Number of arrests in past 30 days, dtype: int64"
      ]
     },
     "execution_count": 12,
     "metadata": {},
     "output_type": "execute_result"
    }
   ],
   "source": [
    "df[\"Number of arrests in past 30 days\"].value_counts()"
   ]
  },
  {
   "cell_type": "code",
   "execution_count": 13,
   "metadata": {},
   "outputs": [],
   "source": [
    "df_nums = df._get_numeric_data().copy()"
   ]
  },
  {
   "cell_type": "code",
   "execution_count": 14,
   "metadata": {},
   "outputs": [
    {
     "data": {
      "text/html": [
       "<div>\n",
       "<style scoped>\n",
       "    .dataframe tbody tr th:only-of-type {\n",
       "        vertical-align: middle;\n",
       "    }\n",
       "\n",
       "    .dataframe tbody tr th {\n",
       "        vertical-align: top;\n",
       "    }\n",
       "\n",
       "    .dataframe thead th {\n",
       "        text-align: right;\n",
       "    }\n",
       "</style>\n",
       "<table border=\"1\" class=\"dataframe\">\n",
       "  <thead>\n",
       "    <tr style=\"text-align: right;\">\n",
       "      <th></th>\n",
       "      <th>Age_admission</th>\n",
       "      <th>How many children</th>\n",
       "      <th>Number of arrests in lifetime</th>\n",
       "      <th>Number of days used in past 30 (Primary)</th>\n",
       "      <th>Number of days used in past 30 (Secondary)</th>\n",
       "      <th>Number of days, in past 30 days, has client used alcohol (99 unknown)</th>\n",
       "      <th>Number of days, in past 30 days, has client used illicit drugs (99 unknown)</th>\n",
       "      <th>Number of lifetime detoxification admissions</th>\n",
       "      <th>Number of lifetime treatment episodes in CD treatment program (no detox)</th>\n",
       "      <th>Number.of.children</th>\n",
       "      <th>Age_discharge</th>\n",
       "      <th>Ratio.living.elsewhere</th>\n",
       "      <th>Age.at.Discharge</th>\n",
       "      <th>Completed</th>\n",
       "    </tr>\n",
       "  </thead>\n",
       "  <tbody>\n",
       "    <tr>\n",
       "      <th>0</th>\n",
       "      <td>NaN</td>\n",
       "      <td>88.0</td>\n",
       "      <td>2.0</td>\n",
       "      <td>0.0</td>\n",
       "      <td>0.0</td>\n",
       "      <td>0.0</td>\n",
       "      <td>0.0</td>\n",
       "      <td>0.0</td>\n",
       "      <td>1.0</td>\n",
       "      <td>NaN</td>\n",
       "      <td>24.0</td>\n",
       "      <td>0.0</td>\n",
       "      <td>21.0</td>\n",
       "      <td>1</td>\n",
       "    </tr>\n",
       "    <tr>\n",
       "      <th>1</th>\n",
       "      <td>NaN</td>\n",
       "      <td>3.0</td>\n",
       "      <td>50.0</td>\n",
       "      <td>1.0</td>\n",
       "      <td>10.0</td>\n",
       "      <td>1.0</td>\n",
       "      <td>1.0</td>\n",
       "      <td>3.0</td>\n",
       "      <td>4.0</td>\n",
       "      <td>3.0</td>\n",
       "      <td>45.0</td>\n",
       "      <td>0.0</td>\n",
       "      <td>42.0</td>\n",
       "      <td>0</td>\n",
       "    </tr>\n",
       "    <tr>\n",
       "      <th>2</th>\n",
       "      <td>NaN</td>\n",
       "      <td>88.0</td>\n",
       "      <td>10.0</td>\n",
       "      <td>0.0</td>\n",
       "      <td>0.0</td>\n",
       "      <td>0.0</td>\n",
       "      <td>0.0</td>\n",
       "      <td>0.0</td>\n",
       "      <td>4.0</td>\n",
       "      <td>0.0</td>\n",
       "      <td>24.0</td>\n",
       "      <td>0.0</td>\n",
       "      <td>22.0</td>\n",
       "      <td>1</td>\n",
       "    </tr>\n",
       "    <tr>\n",
       "      <th>3</th>\n",
       "      <td>NaN</td>\n",
       "      <td>1.0</td>\n",
       "      <td>3.0</td>\n",
       "      <td>0.0</td>\n",
       "      <td>0.0</td>\n",
       "      <td>0.0</td>\n",
       "      <td>0.0</td>\n",
       "      <td>0.0</td>\n",
       "      <td>2.0</td>\n",
       "      <td>1.0</td>\n",
       "      <td>29.0</td>\n",
       "      <td>0.0</td>\n",
       "      <td>26.0</td>\n",
       "      <td>0</td>\n",
       "    </tr>\n",
       "    <tr>\n",
       "      <th>4</th>\n",
       "      <td>NaN</td>\n",
       "      <td>0.0</td>\n",
       "      <td>5.0</td>\n",
       "      <td>0.0</td>\n",
       "      <td>0.0</td>\n",
       "      <td>0.0</td>\n",
       "      <td>0.0</td>\n",
       "      <td>0.0</td>\n",
       "      <td>5.0</td>\n",
       "      <td>0.0</td>\n",
       "      <td>33.0</td>\n",
       "      <td>0.0</td>\n",
       "      <td>30.0</td>\n",
       "      <td>1</td>\n",
       "    </tr>\n",
       "  </tbody>\n",
       "</table>\n",
       "</div>"
      ],
      "text/plain": [
       "   Age_admission  How many children  Number of arrests in lifetime  \\\n",
       "0            NaN               88.0                            2.0   \n",
       "1            NaN                3.0                           50.0   \n",
       "2            NaN               88.0                           10.0   \n",
       "3            NaN                1.0                            3.0   \n",
       "4            NaN                0.0                            5.0   \n",
       "\n",
       "   Number of days used in past 30 (Primary)  \\\n",
       "0                                       0.0   \n",
       "1                                       1.0   \n",
       "2                                       0.0   \n",
       "3                                       0.0   \n",
       "4                                       0.0   \n",
       "\n",
       "   Number of days used in past 30 (Secondary)  \\\n",
       "0                                         0.0   \n",
       "1                                        10.0   \n",
       "2                                         0.0   \n",
       "3                                         0.0   \n",
       "4                                         0.0   \n",
       "\n",
       "   Number of days, in past 30 days, has client used alcohol (99 unknown)  \\\n",
       "0                                                0.0                       \n",
       "1                                                1.0                       \n",
       "2                                                0.0                       \n",
       "3                                                0.0                       \n",
       "4                                                0.0                       \n",
       "\n",
       "   Number of days, in past 30 days, has client used illicit drugs (99 unknown)  \\\n",
       "0                                                0.0                             \n",
       "1                                                1.0                             \n",
       "2                                                0.0                             \n",
       "3                                                0.0                             \n",
       "4                                                0.0                             \n",
       "\n",
       "   Number of lifetime detoxification admissions  \\\n",
       "0                                           0.0   \n",
       "1                                           3.0   \n",
       "2                                           0.0   \n",
       "3                                           0.0   \n",
       "4                                           0.0   \n",
       "\n",
       "   Number of lifetime treatment episodes in CD treatment program (no detox)  \\\n",
       "0                                                1.0                          \n",
       "1                                                4.0                          \n",
       "2                                                4.0                          \n",
       "3                                                2.0                          \n",
       "4                                                5.0                          \n",
       "\n",
       "   Number.of.children  Age_discharge  Ratio.living.elsewhere  \\\n",
       "0                 NaN           24.0                     0.0   \n",
       "1                 3.0           45.0                     0.0   \n",
       "2                 0.0           24.0                     0.0   \n",
       "3                 1.0           29.0                     0.0   \n",
       "4                 0.0           33.0                     0.0   \n",
       "\n",
       "   Age.at.Discharge  Completed  \n",
       "0              21.0          1  \n",
       "1              42.0          0  \n",
       "2              22.0          1  \n",
       "3              26.0          0  \n",
       "4              30.0          1  "
      ]
     },
     "execution_count": 14,
     "metadata": {},
     "output_type": "execute_result"
    }
   ],
   "source": [
    "df_nums.head()"
   ]
  },
  {
   "cell_type": "code",
   "execution_count": 15,
   "metadata": {},
   "outputs": [],
   "source": [
    "df_nums.replace(to_replace=[88, 99], value=[np.NaN, np.NaN], inplace=True)"
   ]
  },
  {
   "cell_type": "code",
   "execution_count": 16,
   "metadata": {},
   "outputs": [],
   "source": [
    "df_nums.drop(columns=['Age_admission'], inplace=True)"
   ]
  },
  {
   "cell_type": "code",
   "execution_count": 17,
   "metadata": {},
   "outputs": [
    {
     "data": {
      "text/html": [
       "<div>\n",
       "<style scoped>\n",
       "    .dataframe tbody tr th:only-of-type {\n",
       "        vertical-align: middle;\n",
       "    }\n",
       "\n",
       "    .dataframe tbody tr th {\n",
       "        vertical-align: top;\n",
       "    }\n",
       "\n",
       "    .dataframe thead th {\n",
       "        text-align: right;\n",
       "    }\n",
       "</style>\n",
       "<table border=\"1\" class=\"dataframe\">\n",
       "  <thead>\n",
       "    <tr style=\"text-align: right;\">\n",
       "      <th></th>\n",
       "      <th>How many children</th>\n",
       "      <th>Number of arrests in lifetime</th>\n",
       "      <th>Number of days used in past 30 (Primary)</th>\n",
       "      <th>Number of days used in past 30 (Secondary)</th>\n",
       "      <th>Number of days, in past 30 days, has client used alcohol (99 unknown)</th>\n",
       "      <th>Number of days, in past 30 days, has client used illicit drugs (99 unknown)</th>\n",
       "      <th>Number of lifetime detoxification admissions</th>\n",
       "      <th>Number of lifetime treatment episodes in CD treatment program (no detox)</th>\n",
       "      <th>Number.of.children</th>\n",
       "      <th>Age_discharge</th>\n",
       "      <th>Ratio.living.elsewhere</th>\n",
       "      <th>Age.at.Discharge</th>\n",
       "      <th>Completed</th>\n",
       "    </tr>\n",
       "  </thead>\n",
       "  <tbody>\n",
       "    <tr>\n",
       "      <th>0</th>\n",
       "      <td>NaN</td>\n",
       "      <td>2.0</td>\n",
       "      <td>0.0</td>\n",
       "      <td>0.0</td>\n",
       "      <td>0.0</td>\n",
       "      <td>0.0</td>\n",
       "      <td>0.0</td>\n",
       "      <td>1.0</td>\n",
       "      <td>NaN</td>\n",
       "      <td>24.0</td>\n",
       "      <td>0.0</td>\n",
       "      <td>21.0</td>\n",
       "      <td>1</td>\n",
       "    </tr>\n",
       "    <tr>\n",
       "      <th>1</th>\n",
       "      <td>3.0</td>\n",
       "      <td>50.0</td>\n",
       "      <td>1.0</td>\n",
       "      <td>10.0</td>\n",
       "      <td>1.0</td>\n",
       "      <td>1.0</td>\n",
       "      <td>3.0</td>\n",
       "      <td>4.0</td>\n",
       "      <td>3.0</td>\n",
       "      <td>45.0</td>\n",
       "      <td>0.0</td>\n",
       "      <td>42.0</td>\n",
       "      <td>0</td>\n",
       "    </tr>\n",
       "    <tr>\n",
       "      <th>2</th>\n",
       "      <td>NaN</td>\n",
       "      <td>10.0</td>\n",
       "      <td>0.0</td>\n",
       "      <td>0.0</td>\n",
       "      <td>0.0</td>\n",
       "      <td>0.0</td>\n",
       "      <td>0.0</td>\n",
       "      <td>4.0</td>\n",
       "      <td>0.0</td>\n",
       "      <td>24.0</td>\n",
       "      <td>0.0</td>\n",
       "      <td>22.0</td>\n",
       "      <td>1</td>\n",
       "    </tr>\n",
       "    <tr>\n",
       "      <th>3</th>\n",
       "      <td>1.0</td>\n",
       "      <td>3.0</td>\n",
       "      <td>0.0</td>\n",
       "      <td>0.0</td>\n",
       "      <td>0.0</td>\n",
       "      <td>0.0</td>\n",
       "      <td>0.0</td>\n",
       "      <td>2.0</td>\n",
       "      <td>1.0</td>\n",
       "      <td>29.0</td>\n",
       "      <td>0.0</td>\n",
       "      <td>26.0</td>\n",
       "      <td>0</td>\n",
       "    </tr>\n",
       "    <tr>\n",
       "      <th>4</th>\n",
       "      <td>0.0</td>\n",
       "      <td>5.0</td>\n",
       "      <td>0.0</td>\n",
       "      <td>0.0</td>\n",
       "      <td>0.0</td>\n",
       "      <td>0.0</td>\n",
       "      <td>0.0</td>\n",
       "      <td>5.0</td>\n",
       "      <td>0.0</td>\n",
       "      <td>33.0</td>\n",
       "      <td>0.0</td>\n",
       "      <td>30.0</td>\n",
       "      <td>1</td>\n",
       "    </tr>\n",
       "  </tbody>\n",
       "</table>\n",
       "</div>"
      ],
      "text/plain": [
       "   How many children  Number of arrests in lifetime  \\\n",
       "0                NaN                            2.0   \n",
       "1                3.0                           50.0   \n",
       "2                NaN                           10.0   \n",
       "3                1.0                            3.0   \n",
       "4                0.0                            5.0   \n",
       "\n",
       "   Number of days used in past 30 (Primary)  \\\n",
       "0                                       0.0   \n",
       "1                                       1.0   \n",
       "2                                       0.0   \n",
       "3                                       0.0   \n",
       "4                                       0.0   \n",
       "\n",
       "   Number of days used in past 30 (Secondary)  \\\n",
       "0                                         0.0   \n",
       "1                                        10.0   \n",
       "2                                         0.0   \n",
       "3                                         0.0   \n",
       "4                                         0.0   \n",
       "\n",
       "   Number of days, in past 30 days, has client used alcohol (99 unknown)  \\\n",
       "0                                                0.0                       \n",
       "1                                                1.0                       \n",
       "2                                                0.0                       \n",
       "3                                                0.0                       \n",
       "4                                                0.0                       \n",
       "\n",
       "   Number of days, in past 30 days, has client used illicit drugs (99 unknown)  \\\n",
       "0                                                0.0                             \n",
       "1                                                1.0                             \n",
       "2                                                0.0                             \n",
       "3                                                0.0                             \n",
       "4                                                0.0                             \n",
       "\n",
       "   Number of lifetime detoxification admissions  \\\n",
       "0                                           0.0   \n",
       "1                                           3.0   \n",
       "2                                           0.0   \n",
       "3                                           0.0   \n",
       "4                                           0.0   \n",
       "\n",
       "   Number of lifetime treatment episodes in CD treatment program (no detox)  \\\n",
       "0                                                1.0                          \n",
       "1                                                4.0                          \n",
       "2                                                4.0                          \n",
       "3                                                2.0                          \n",
       "4                                                5.0                          \n",
       "\n",
       "   Number.of.children  Age_discharge  Ratio.living.elsewhere  \\\n",
       "0                 NaN           24.0                     0.0   \n",
       "1                 3.0           45.0                     0.0   \n",
       "2                 0.0           24.0                     0.0   \n",
       "3                 1.0           29.0                     0.0   \n",
       "4                 0.0           33.0                     0.0   \n",
       "\n",
       "   Age.at.Discharge  Completed  \n",
       "0              21.0          1  \n",
       "1              42.0          0  \n",
       "2              22.0          1  \n",
       "3              26.0          0  \n",
       "4              30.0          1  "
      ]
     },
     "execution_count": 17,
     "metadata": {},
     "output_type": "execute_result"
    }
   ],
   "source": [
    "df_nums.head()"
   ]
  },
  {
   "cell_type": "code",
   "execution_count": 18,
   "metadata": {},
   "outputs": [],
   "source": [
    "df_nums.fillna(0, inplace=True)"
   ]
  },
  {
   "cell_type": "code",
   "execution_count": 39,
   "metadata": {},
   "outputs": [],
   "source": [
    "feature_cols = ['How many children',\n",
    " 'Number of arrests in lifetime',\n",
    " 'Number of days used in past 30 (Primary)',\n",
    " 'Number of days used in past 30 (Secondary)',\n",
    " 'Number of days, in past 30 days, has client used alcohol (99 unknown)',\n",
    " 'Number of days, in past 30 days, has client used illicit drugs (99 unknown)',\n",
    " 'Number of lifetime detoxification admissions',\n",
    " 'Number of lifetime treatment episodes in CD treatment program (no detox)',\n",
    " 'Number.of.children',\n",
    " 'Ratio.living.elsewhere',\n",
    " 'Age.at.Discharge']\n",
    "\n",
    "target_cols = 'Completed'"
   ]
  },
  {
   "cell_type": "code",
   "execution_count": 40,
   "metadata": {},
   "outputs": [],
   "source": [
    "x_train, x_test, y_train, y_test = train_test_split(df_nums[feature_cols],\n",
    "                                                    df_nums[target_cols], test_size=0.25, random_state=0)"
   ]
  },
  {
   "cell_type": "code",
   "execution_count": 41,
   "metadata": {},
   "outputs": [],
   "source": [
    "logisticRegr = LogisticRegression()"
   ]
  },
  {
   "cell_type": "code",
   "execution_count": 42,
   "metadata": {},
   "outputs": [
    {
     "data": {
      "text/plain": [
       "LogisticRegression(C=1.0, class_weight=None, dual=False, fit_intercept=True,\n",
       "          intercept_scaling=1, max_iter=100, multi_class='ovr', n_jobs=1,\n",
       "          penalty='l2', random_state=None, solver='liblinear', tol=0.0001,\n",
       "          verbose=0, warm_start=False)"
      ]
     },
     "execution_count": 42,
     "metadata": {},
     "output_type": "execute_result"
    }
   ],
   "source": [
    "logisticRegr.fit(x_train, y_train)"
   ]
  },
  {
   "cell_type": "code",
   "execution_count": 43,
   "metadata": {},
   "outputs": [
    {
     "name": "stdout",
     "output_type": "stream",
     "text": [
      "0.693069306930693\n"
     ]
    }
   ],
   "source": [
    "score = logisticRegr.score(x_test, y_test)\n",
    "print(score)"
   ]
  },
  {
   "cell_type": "code",
   "execution_count": 44,
   "metadata": {},
   "outputs": [],
   "source": [
    "predictions = logisticRegr.predict(x_test)"
   ]
  },
  {
   "cell_type": "code",
   "execution_count": 45,
   "metadata": {},
   "outputs": [
    {
     "name": "stdout",
     "output_type": "stream",
     "text": [
      "[[203   8]\n",
      " [ 85   7]]\n"
     ]
    }
   ],
   "source": [
    "cm = metrics.confusion_matrix(y_test, predictions)\n",
    "print(cm)"
   ]
  },
  {
   "cell_type": "code",
   "execution_count": 46,
   "metadata": {},
   "outputs": [
    {
     "data": {
      "image/png": "[encoded data removed]",
      "text/plain": [
       "<matplotlib.figure.Figure at 0x7fa6ee3607f0>"
      ]
     },
     "metadata": {},
     "output_type": "display_data"
    }
   ],
   "source": [
    "#plt.figure(figsize=(9,9))\n",
    "sns.heatmap(cm, annot=True, fmt=\".3f\", linewidths=.5, square = True, cmap = 'Blues_r');\n",
    "plt.ylabel('Actual label');\n",
    "plt.xlabel('Predicted label');\n",
    "all_sample_title = 'Accuracy Score: {0}'.format(score)\n",
    "plt.title(all_sample_title, size = 15);"
   ]
  },
  {
   "cell_type": "code",
   "execution_count": 35,
   "metadata": {},
   "outputs": [
    {
     "name": "stderr",
     "output_type": "stream",
     "text": [
      "Optimization Progress:  12%|█▎        | 100/800 [00:44<06:42,  1.74pipeline/s]"
     ]
    },
    {
     "name": "stdout",
     "output_type": "stream",
     "text": [
      "Generation 1 - Current best internal CV score: 0.6702532983123509\n"
     ]
    },
    {
     "name": "stderr",
     "output_type": "stream",
     "text": [
      "Optimization Progress:  19%|█▉        | 150/800 [01:40<29:26,  2.72s/pipeline]"
     ]
    },
    {
     "name": "stdout",
     "output_type": "stream",
     "text": [
      "Generation 2 - Current best internal CV score: 0.6702895269148326\n"
     ]
    },
    {
     "name": "stderr",
     "output_type": "stream",
     "text": [
      "Optimization Progress:  25%|██▌       | 200/800 [02:45<04:47,  2.08pipeline/s]"
     ]
    },
    {
     "name": "stdout",
     "output_type": "stream",
     "text": [
      "Generation 3 - Current best internal CV score: 0.6747335688192494\n"
     ]
    },
    {
     "name": "stderr",
     "output_type": "stream",
     "text": [
      "Optimization Progress:  31%|███▏      | 250/800 [03:28<08:10,  1.12pipeline/s]"
     ]
    },
    {
     "name": "stdout",
     "output_type": "stream",
     "text": [
      "Generation 4 - Current best internal CV score: 0.6768952087673219\n"
     ]
    },
    {
     "name": "stderr",
     "output_type": "stream",
     "text": [
      "Optimization Progress:  38%|███▊      | 300/800 [04:18<08:00,  1.04pipeline/s]"
     ]
    },
    {
     "name": "stdout",
     "output_type": "stream",
     "text": [
      "Generation 5 - Current best internal CV score: 0.683500890619811\n"
     ]
    },
    {
     "name": "stderr",
     "output_type": "stream",
     "text": [
      "Optimization Progress:  44%|████▍     | 350/800 [05:04<06:07,  1.22pipeline/s]"
     ]
    },
    {
     "name": "stdout",
     "output_type": "stream",
     "text": [
      "Generation 6 - Current best internal CV score: 0.6879207801225735\n"
     ]
    },
    {
     "name": "stderr",
     "output_type": "stream",
     "text": [
      "Optimization Progress:  50%|█████     | 400/800 [06:01<16:08,  2.42s/pipeline]"
     ]
    },
    {
     "name": "stdout",
     "output_type": "stream",
     "text": [
      "Generation 7 - Current best internal CV score: 0.6879207801225735\n"
     ]
    },
    {
     "name": "stderr",
     "output_type": "stream",
     "text": [
      "Optimization Progress:  56%|█████▋    | 450/800 [07:01<03:26,  1.70pipeline/s]"
     ]
    },
    {
     "name": "stdout",
     "output_type": "stream",
     "text": [
      "Generation 8 - Current best internal CV score: 0.6879207801225735\n"
     ]
    },
    {
     "name": "stderr",
     "output_type": "stream",
     "text": [
      "Optimization Progress:  62%|██████▎   | 500/800 [07:47<03:49,  1.31pipeline/s]"
     ]
    },
    {
     "name": "stdout",
     "output_type": "stream",
     "text": [
      "Generation 9 - Current best internal CV score: 0.687944932524228\n"
     ]
    },
    {
     "name": "stderr",
     "output_type": "stream",
     "text": [
      "Optimization Progress:  69%|██████▉   | 550/800 [08:33<05:07,  1.23s/pipeline]"
     ]
    },
    {
     "name": "stdout",
     "output_type": "stream",
     "text": [
      "Generation 10 - Current best internal CV score: 0.687944932524228\n"
     ]
    },
    {
     "name": "stderr",
     "output_type": "stream",
     "text": [
      "Optimization Progress:  75%|███████▌  | 600/800 [09:32<04:52,  1.46s/pipeline]"
     ]
    },
    {
     "name": "stdout",
     "output_type": "stream",
     "text": [
      "Generation 11 - Current best internal CV score: 0.687944932524228\n"
     ]
    },
    {
     "name": "stderr",
     "output_type": "stream",
     "text": [
      "Optimization Progress:  81%|████████▏ | 650/800 [10:41<02:46,  1.11s/pipeline]"
     ]
    },
    {
     "name": "stdout",
     "output_type": "stream",
     "text": [
      "Generation 12 - Current best internal CV score: 0.6912115448479909\n"
     ]
    },
    {
     "name": "stderr",
     "output_type": "stream",
     "text": [
      "Optimization Progress:  88%|████████▊ | 700/800 [11:36<01:50,  1.11s/pipeline]"
     ]
    },
    {
     "name": "stdout",
     "output_type": "stream",
     "text": [
      "Generation 13 - Current best internal CV score: 0.6912115448479909\n"
     ]
    },
    {
     "name": "stderr",
     "output_type": "stream",
     "text": [
      "Optimization Progress:  94%|█████████▍| 750/800 [12:44<01:19,  1.59s/pipeline]"
     ]
    },
    {
     "name": "stdout",
     "output_type": "stream",
     "text": [
      "Generation 14 - Current best internal CV score: 0.6912719258521269\n"
     ]
    },
    {
     "name": "stderr",
     "output_type": "stream",
     "text": [
      "                                                                              \r"
     ]
    },
    {
     "name": "stdout",
     "output_type": "stream",
     "text": [
      "Generation 15 - Current best internal CV score: 0.6945506143767172\n",
      "\n",
      "Best pipeline: RandomForestClassifier(ExtraTreesClassifier(Binarizer(LinearSVC(RobustScaler(BernoulliNB(RandomForestClassifier(Binarizer(input_matrix, threshold=0.75), bootstrap=False, criterion=entropy, max_features=0.25, min_samples_leaf=8, min_samples_split=4, n_estimators=100), alpha=0.1, fit_prior=False)), C=1.0, dual=True, loss=squared_hinge, penalty=l2, tol=1e-05), threshold=0.15000000000000002), bootstrap=False, criterion=entropy, max_features=0.45, min_samples_leaf=13, min_samples_split=8, n_estimators=100), bootstrap=True, criterion=gini, max_features=0.15000000000000002, min_samples_leaf=8, min_samples_split=15, n_estimators=100)\n",
      "0.7095709570957096\n"
     ]
    },
    {
     "data": {
      "text/plain": [
       "True"
      ]
     },
     "execution_count": 35,
     "metadata": {},
     "output_type": "execute_result"
    }
   ],
   "source": [
    "tpot = TPOTClassifier(generations=15, population_size=50, verbosity=2)\n",
    "tpot.fit(x_train, y_train)\n",
    "print(tpot.score(x_test, y_test))\n",
    "tpot.export('tpot_avivo.py')"
   ]
  },
  {
   "cell_type": "code",
   "execution_count": 36,
   "metadata": {},
   "outputs": [],
   "source": [
    "tpot_predictions = tpot.predict(x_test)"
   ]
  },
  {
   "cell_type": "code",
   "execution_count": 37,
   "metadata": {},
   "outputs": [
    {
     "name": "stdout",
     "output_type": "stream",
     "text": [
      "[[171  40]\n",
      " [ 48  44]]\n"
     ]
    }
   ],
   "source": [
    "cm_tpot = metrics.confusion_matrix(y_test, tpot_predictions)\n",
    "print(cm_tpot)"
   ]
  },
  {
   "cell_type": "code",
   "execution_count": 38,
   "metadata": {},
   "outputs": [
    {
     "data": {
      "image/png": "[encoded data removed]",
      "text/plain": [
       "<matplotlib.figure.Figure at 0x7fa6ede99ba8>"
      ]
     },
     "metadata": {},
     "output_type": "display_data"
    }
   ],
   "source": [
    "#plt.figure(figsize=(9,9))\n",
    "sns.heatmap(cm_tpot, annot=True, fmt=\".3f\", linewidths=.5, square = True, cmap = 'Blues_r');\n",
    "plt.ylabel('Actual label');\n",
    "plt.xlabel('Predicted label');\n",
    "#all_sample_title = 'Accuracy Score: {0}'.format(score)\n",
    "#plt.title(all_sample_title, size = 15);"
   ]
  },
  {
   "cell_type": "code",
   "execution_count": null,
   "metadata": {},
   "outputs": [],
   "source": []
  }
 ],
 "metadata": {
  "kernelspec": {
   "display_name": "Python 3",
   "language": "python",
   "name": "python3"
  },
  "language_info": {
   "codemirror_mode": {
    "name": "ipython",
    "version": 3
   },
   "file_extension": ".py",
   "mimetype": "text/x-python",
   "name": "python",
   "nbconvert_exporter": "python",
   "pygments_lexer": "ipython3",
   "version": "3.6.4"
  }
 },
 "nbformat": 4,
 "nbformat_minor": 2
}
